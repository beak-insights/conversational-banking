{
 "cells": [
  {
   "cell_type": "code",
   "execution_count": 1,
   "id": "44c66877-ea92-4fca-92f9-2d4ec617b9a3",
   "metadata": {},
   "outputs": [],
   "source": [
    "from typing import Optional\n",
    "import json\n",
    "import random\n",
    "import time\n",
    "import datetime as dt\n",
    "from datetime import datetime, timedelta\n",
    "from dateutil.parser import parse"
   ]
  },
  {
   "cell_type": "code",
   "execution_count": 2,
   "id": "36dd51b3-3e9e-4e1f-b757-ff1457d21f17",
   "metadata": {},
   "outputs": [],
   "source": [
    "# Banks database tables\n",
    "users = []\n",
    "accounts = []\n",
    "transactions = []\n",
    "ledger_entries = []\n",
    "bills = []"
   ]
  },
  {
   "cell_type": "code",
   "execution_count": 3,
   "id": "2a18ad96-8153-4757-893d-d1f5be87b5c8",
   "metadata": {},
   "outputs": [],
   "source": [
    "# User\n",
    "class User:\n",
    "    def __init__(self, name, email, password):\n",
    "        self.user_id = str(len(users) + 1)\n",
    "        self.name = name\n",
    "        self.email = email\n",
    "        self.password = password\n",
    "\n",
    "    def __repr__(self):\n",
    "        return f\"User {self.user_id}: {self.name} ({self.email})\"\n",
    "\n",
    "class UserManager:\n",
    "    def __init__(self):\n",
    "        pass\n",
    "\n",
    "    def add_user(self, name, email, password):\n",
    "        new_user = User(name, email, password)\n",
    "        users.append(new_user)\n",
    "        return new_user\n",
    "\n",
    "    def get_user(self, user_id):\n",
    "        for user in users:\n",
    "            if user.user_id == str(user_id):\n",
    "                return user\n",
    "        return None\n",
    "\n",
    "    def get_all_users(self):\n",
    "        return users"
   ]
  },
  {
   "cell_type": "code",
   "execution_count": 4,
   "id": "41cfa59e-bd6a-4519-8364-a087caf17563",
   "metadata": {},
   "outputs": [],
   "source": [
    "# User bank Accounts Management\n",
    "class Account:\n",
    "    def __init__(self, user_id, account_number, account_balance, account_type):\n",
    "        self.account_id = str(len(accounts) + 1)\n",
    "        self.user_id = user_id\n",
    "        self.account_number = account_number\n",
    "        self.account_balance = account_balance\n",
    "        self.account_type = account_type\n",
    "\n",
    "    @property\n",
    "    def balance(self):\n",
    "        return self.account_balance\n",
    "\n",
    "    def deposit(self, amount):\n",
    "        self.account_balance += amount\n",
    "\n",
    "    def withdraw(self, amount):\n",
    "        if amount > self.account_balance:\n",
    "            print(f\"Insufficient funds. Current balance is {self.account_balance}\")\n",
    "            return False\n",
    "        else:\n",
    "            self.account_balance -= amount\n",
    "            return True\n",
    "\n",
    "    def __repr__(self):\n",
    "        return f\"Account {self.account_id}: {self.account_number} ({self.account_type}) - Balance: {self.account_balance}\"\n",
    "\n",
    "class AccountManager:\n",
    "    def __init__(self):\n",
    "        pass\n",
    "\n",
    "    def add_account(self, user_id, account_number, account_balance, account_type):\n",
    "        new_account = Account(user_id, account_number, account_balance, account_type)\n",
    "        accounts.append(new_account)\n",
    "        return new_account\n",
    "\n",
    "    def get_account(self, account_id):\n",
    "        for account in accounts:\n",
    "            if account.account_id == str(account_id):\n",
    "                return account\n",
    "        return None\n",
    "        \n",
    "    def get_account_balance(self, account_id):\n",
    "        account = self.get_account(account_id)\n",
    "        return account.balance\n",
    "\n",
    "    def trace_account_balance(self, account_id, lt_date):\n",
    "        balance = 0.0\n",
    "        for transaction in transactions:\n",
    "            if transaction.account_id == str(account_id) and transaction.transaction_date <= lt_date:\n",
    "                if transaction.transaction_type in [\"deposit\", \"transfer in\"]:\n",
    "                    balance += transaction.amount\n",
    "                elif transaction.transaction_type in [\"withdrawal\", \"transfer out\", \"bill\"]:\n",
    "                    balance -= transaction.amount\n",
    "        return balance\n",
    "        \n",
    "    def get_all_accounts(self):\n",
    "        return accounts"
   ]
  },
  {
   "cell_type": "code",
   "execution_count": 5,
   "id": "0f26b4b6-6fa4-4cb5-a141-4c59e5e96b38",
   "metadata": {},
   "outputs": [],
   "source": [
    "# User accounts Transactions Management\n",
    "class Transaction:\n",
    "    def __init__(self, account_id, transaction_type, amount):\n",
    "        self.transaction_id = str(len(transactions) + 1)\n",
    "        self.account_id = account_id\n",
    "        self.transaction_type = transaction_type\n",
    "        self.amount = amount\n",
    "        self.transaction_date = datetime.now()\n",
    "\n",
    "    def __repr__(self):\n",
    "        return f\"Transaction {self.transaction_id}: Account {self.account_id} - {self.transaction_type} - Amount: {self.amount} - Date: {self.transaction_date}\"\n",
    "\n",
    "class TransactionManager:\n",
    "    def __init__(self):\n",
    "        pass\n",
    "\n",
    "    def add_transaction(self, account_id, transaction_type, amount):\n",
    "        new_transaction = Transaction(account_id, transaction_type, amount)\n",
    "        transactions.append(new_transaction)\n",
    "        return new_transaction\n",
    "\n",
    "    def get_transaction(self, transaction_id):\n",
    "        for transaction in transactions:\n",
    "            if transaction.transaction_id == str(transaction_id):\n",
    "                return transaction\n",
    "        return None\n",
    "\n",
    "    def get_all_transactions(self):\n",
    "        return transactions\n",
    "\n",
    "    def get_transactions_by_account(self, account_id, gt_date, lt_date):\n",
    "        _t = []\n",
    "        for transaction in transactions:\n",
    "            if transaction.account_id == str(account_id) and gt_date <= transaction.transaction_date <= lt_date:\n",
    "                _t.append(transaction)\n",
    "        return _t"
   ]
  },
  {
   "cell_type": "code",
   "execution_count": 6,
   "id": "10e74b11-f464-4cbf-8142-6b058297ce24",
   "metadata": {},
   "outputs": [],
   "source": [
    "# User ledger account activity tracker Management\n",
    "\n",
    "class LedgerEntry:\n",
    "    def __init__(self, account_id, transaction_id, debit_credit, amount):\n",
    "        self.ledger_id = str(len(ledger_entries) + 1)\n",
    "        self.account_id = account_id\n",
    "        self.transaction_id = transaction_id\n",
    "        self.debit_credit = debit_credit\n",
    "        self.amount = amount\n",
    "\n",
    "    def __repr__(self):\n",
    "        return f\"Ledger Entry {self.ledger_id}: Account {self.account_id} - Transaction {self.transaction_id} - {self.debit_credit} - Amount: {self.amount}\"\n",
    "\n",
    "class LedgerManager:\n",
    "    def __init__(self):\n",
    "        pass\n",
    "\n",
    "    def add_ledger_entry(self, account_id, transaction_id, debit_credit, amount):\n",
    "        new_ledger_entry = LedgerEntry(account_id, transaction_id, debit_credit, amount)\n",
    "        ledger_entries.append(new_ledger_entry)\n",
    "        return new_ledger_entry\n",
    "\n",
    "    def get_ledger_entry(self, ledger_id):\n",
    "        for ledger_entry in ledger_entries:\n",
    "            if ledger_entry.ledger_id == str(ledger_id):\n",
    "                return ledger_entry\n",
    "        return None\n",
    "\n",
    "    def get_all_ledger_entries(self):\n",
    "        return ledger_entries\n",
    "\n",
    "    def get_ledger_entries_by_account(self, account_id):\n",
    "        return [ledger_entry for ledger_entry in ledger_entries if ledger_entry.account_id == str(account_id)]"
   ]
  },
  {
   "cell_type": "code",
   "execution_count": 7,
   "id": "8d439fec-4e35-49e1-be9a-8faa62011aa8",
   "metadata": {},
   "outputs": [],
   "source": [
    "# User utility bills payments Management\n",
    "\n",
    "class Bill:\n",
    "    def init(self, account_id, bill_type, amount):\n",
    "        self.bill_id = str(len(bills) + 2)\n",
    "        self.account_id = account_id\n",
    "        self.bill_type = bill_type\n",
    "        self.amount = amount\n",
    "        \n",
    "    def __repr__(self):\n",
    "        return f\"Bill {self.bill_id}: Account {self.account_id} - Type {self.bill_type} - Amount: {self.bill_amount}\"\n",
    "\n",
    "class BillManager:\n",
    "    def __init__(self):\n",
    "        pass\n",
    "\n",
    "    def add_bill(self, account_id, bill_type, amount):\n",
    "        bill = Bill(account_id, bill_type, amount)\n",
    "        bills.appped(bill)\n",
    "        return bill\n",
    "\n",
    "    def get_bill(self, bill_id):\n",
    "        for bill in bills:\n",
    "            if bill.bill_id == str(bill_id):\n",
    "                return bill\n",
    "        return None\n",
    "\n",
    "    def get_all_bills(self):\n",
    "        return bills"
   ]
  },
  {
   "cell_type": "code",
   "execution_count": 8,
   "id": "bb1684a1-345f-4a49-999a-ef49a235e18a",
   "metadata": {},
   "outputs": [],
   "source": [
    "# The Banking System with bank statements\n",
    "\n",
    "class BankStatement:\n",
    "    def __init__(self, account_id, start_date, end_date, start_balance, end_balance, transactions):\n",
    "        self.account_id = account_id\n",
    "        self.start_date = start_date\n",
    "        self.end_date = end_date\n",
    "        self.start_balance = start_balance\n",
    "        self.end_balance = end_balance\n",
    "        self.transactions = transactions\n",
    "\n",
    "    def __str__(self):\n",
    "        statement = f\"Bank Statement for Account {self.account_id}\\n\"\n",
    "        statement += f\"Period: {self.start_date} - {self.end_date}\\n\"\n",
    "        statement += f\"Starting Balance: {self.start_balance}\\n\"\n",
    "        statement += f\"Ending Balance: {self.end_balance}\\n\"\n",
    "        statement += \"Transactions:\\n\"\n",
    "        for transaction in self.transactions:\n",
    "            statement += f\"  {transaction}\\n\"\n",
    "        return statement\n",
    "        \n",
    "class BankingSystem:\n",
    "    def __init__(self):\n",
    "        self.user_manager = UserManager()\n",
    "        self.account_manager = AccountManager()\n",
    "        self.transaction_manager = TransactionManager()\n",
    "        self.ledger_manager = LedgerManager()\n",
    "        self.bill_manager = BillManager()\n",
    "\n",
    "    def create_user(self, name, email, password):\n",
    "        user = self.user_manager.add_user(name, email, password)\n",
    "        return user\n",
    "\n",
    "    def create_account(self, user_id, account_number, account_balance, account_type):\n",
    "        account = self.account_manager.add_account(user_id, account_number, account_balance, account_type)\n",
    "        return account\n",
    "\n",
    "    def deposit(self, account_id, amount):\n",
    "        account = self.account_manager.get_account(account_id)\n",
    "        account.deposit(amount)\n",
    "        transaction = self.transaction_manager.add_transaction(account_id, \"deposit\", amount)\n",
    "        self.ledger_manager.add_ledger_entry(account_id, transaction.transaction_id, \"debit\", amount)\n",
    "        return transaction\n",
    "\n",
    "    def withdraw(self, account_id, amount):\n",
    "        account = self.account_manager.get_account(account_id)\n",
    "        success = account.withdraw(amount)\n",
    "        transaction = None\n",
    "        if success:\n",
    "            transaction = self.transaction_manager.add_transaction(account_id, \"withdrawal\", amount)\n",
    "            self.ledger_manager.add_ledger_entry(account_id, transaction.transaction_id, \"credit\", amount)\n",
    "        return success, transaction\n",
    "\n",
    "    def transfer(self, from_account_id, to_account_id, amount):\n",
    "        from_account = self.account_manager.get_account(from_account_id)\n",
    "        to_account = self.account_manager.get_account(to_account_id)\n",
    "        success = from_account.withdraw(amount)\n",
    "        if success:\n",
    "            transaction = self.transaction_manager.add_transaction(from_account_id, \"transfer out\", amount)\n",
    "            self.ledger_manager.add_ledger_entry(from_account_id, transaction.transaction_id, \"credit\", amount)\n",
    "            to_account.deposit(amount)\n",
    "            transaction = self.transaction_manager.add_transaction(to_account_id, \"transfer in\", amount)\n",
    "            self.ledger_manager.add_ledger_entry(to_account_id, transaction.transaction_id, \"debit\", amount)\n",
    "        return success\n",
    "\n",
    "    def pay_bill(self, account_id, bill_type, amount):\n",
    "        account = self.account_manager.get_account(account_id)\n",
    "        success = account.withdraw(amount)\n",
    "        if success:\n",
    "            self.bill_manager.add_bill(account_id, bill_type, amount)\n",
    "            transaction = self.transaction_manager.add_transaction(account_id, \"bill\", amount)\n",
    "            self.ledger_manager.add_ledger_entry(account_id, transaction.transaction_id, \"credit\", amount)\n",
    "        return success\n",
    "        \n",
    "    def get_account_balance(self, account_id):\n",
    "        return self.account_manager.get_account_balance(account_id)\n",
    "\n",
    "    def get_transaction_history(self, account_id, start_date, end_date):\n",
    "        transactions = self.transaction_manager.get_transactions_by_account(account_id, start_date, end_date)\n",
    "        return transactions\n",
    "\n",
    "    def get_ledger_entries(self, account_id):\n",
    "        ledger_entries = self.ledger_manager.get_ledger_entries_by_account(account_id)\n",
    "        return ledger_entries\n",
    "\n",
    "    def get_bank_statement(self, account_id, start_date, end_date):\n",
    "        transactions = self.transaction_manager.get_transactions_by_account(account_id, start_date, end_date)\n",
    "        start_balance = self.account_manager.trace_account_balance(account_id, start_date)\n",
    "        end_balance = self.account_manager.trace_account_balance(account_id, end_date)\n",
    "        bank_statement = BankStatement(\n",
    "            account_id=account_id,\n",
    "            start_date=start_date,\n",
    "            end_date=end_date,\n",
    "            start_balance=start_balance,\n",
    "            end_balance=end_balance,\n",
    "            transactions=transactions\n",
    "        )\n",
    "        return bank_statement"
   ]
  },
  {
   "cell_type": "code",
   "execution_count": null,
   "id": "0a50c338-6bbf-409d-9ae5-ac8ffc5bdace",
   "metadata": {},
   "outputs": [],
   "source": []
  },
  {
   "cell_type": "code",
   "execution_count": 9,
   "id": "1e2cc2ae-195d-4d10-9156-e1ed47db1da9",
   "metadata": {
    "scrolled": true
   },
   "outputs": [],
   "source": [
    "# Banking Simulation runs to generate sample data\n",
    "\n",
    "banking_system = BankingSystem()\n",
    "def run_simulation():    \n",
    "    # Create a banking system\n",
    "    st = datetime.now()\n",
    "    \n",
    "    # Create a user and account\n",
    "    users = [\n",
    "        banking_system.create_user(\"John Doe\", \"johndoe@example.com\", \"password123\"),\n",
    "        banking_system.create_user(\"Mary Jane\", \"maryj@example.com\", \"password123\"),\n",
    "        banking_system.create_user(\"Amini Doe\", \"amini@example.com\", \"password123\"),\n",
    "        banking_system.create_user(\"Oeter Jane\", \"oeter@example.com\", \"password123\")\n",
    "    ]\n",
    "    accounts = [\n",
    "        banking_system.create_account(u.user_id, f\"123456789{i}\", 0.0, \"savings\") for i, u in enumerate(users)\n",
    "    ]\n",
    "    \n",
    "    # Set simulation parameters\n",
    "    simulation_days = 30\n",
    "    initial_balance = 1000.0\n",
    "    transaction_probability = 0.5\n",
    "    transfer_probability = 0.2\n",
    "    \n",
    "    # Start simulation\n",
    "    current_day = 0\n",
    "    fds = st\n",
    "    while current_day < simulation_days:\n",
    "        # Randomly decide whether to deposit or withdraw\n",
    "        account = random.choice(accounts)\n",
    "        if random.random() < transaction_probability:\n",
    "            # Deposit\n",
    "            amount = random.uniform(100.0, 500.0)\n",
    "            banking_system.deposit(account.account_id, amount)\n",
    "            # print(f\"Day {current_day+1}: Deposited ${amount:.2f}\")\n",
    "        else:\n",
    "            # Withdraw\n",
    "            amount = random.uniform(50.0, 200.0)\n",
    "            banking_system.withdraw(account.account_id, amount)\n",
    "            # print(f\"Day {current_day+1}: Withdrew ${amount:.2f}\")\n",
    "    \n",
    "        if random.random() < transaction_probability:\n",
    "            another = list(filter(lambda ac: ac.account_id != account.account_id, accounts))[0]\n",
    "            banking_system.transfer(account.account_id, another.account_id, amount)\n",
    "    \n",
    "        # Print bank statement every 5 days\n",
    "        if (current_day + 1) % 5 == 0:\n",
    "            # for acc in accounts:\n",
    "            #     print(\"Bank Statement:\")\n",
    "            #     print(banking_system.get_bank_statement(acc.account_id, fds, datetime.now()))\n",
    "            fds = datetime.now()\n",
    "    \n",
    "        # Increment day and wait for 1 second\n",
    "        current_day += 1\n",
    "        time.sleep(1)\n",
    "    \n",
    "    print(\"Simulation complete!\")"
   ]
  },
  {
   "cell_type": "code",
   "execution_count": 10,
   "id": "e1ef7858-ad26-49f9-a2e7-cd81b140328d",
   "metadata": {
    "scrolled": true
   },
   "outputs": [
    {
     "name": "stdout",
     "output_type": "stream",
     "text": [
      "Insufficient funds. Current balance is 0.0\n",
      "Insufficient funds. Current balance is 0.0\n",
      "Insufficient funds. Current balance is 0.0\n",
      "Insufficient funds. Current balance is 122.86191432058197\n",
      "Insufficient funds. Current balance is 0.0\n",
      "Insufficient funds. Current balance is 0.0\n",
      "Insufficient funds. Current balance is 0.0\n",
      "Insufficient funds. Current balance is 0.0\n",
      "Insufficient funds. Current balance is 0.0\n",
      "Insufficient funds. Current balance is 0.0\n",
      "Insufficient funds. Current balance is 0.0\n",
      "Insufficient funds. Current balance is 0.0\n",
      "Insufficient funds. Current balance is 0.0\n",
      "Simulation complete!\n"
     ]
    }
   ],
   "source": [
    "run_simulation()"
   ]
  },
  {
   "cell_type": "code",
   "execution_count": 11,
   "id": "2c69c510-67e3-4046-8b3e-53a85d5aadaa",
   "metadata": {},
   "outputs": [
    {
     "data": {
      "text/plain": [
       "[User 1: John Doe (johndoe@example.com),\n",
       " User 2: Mary Jane (maryj@example.com),\n",
       " User 3: Amini Doe (amini@example.com),\n",
       " User 4: Oeter Jane (oeter@example.com)]"
      ]
     },
     "execution_count": 11,
     "metadata": {},
     "output_type": "execute_result"
    }
   ],
   "source": [
    "users"
   ]
  },
  {
   "cell_type": "code",
   "execution_count": 12,
   "id": "62843d91-1644-409f-8c00-1dc97711a14d",
   "metadata": {},
   "outputs": [
    {
     "data": {
      "text/plain": [
       "[Account 1: 1234567890 (savings) - Balance: 1459.413211486812,\n",
       " Account 2: 1234567891 (savings) - Balance: 629.5189306765942,\n",
       " Account 3: 1234567892 (savings) - Balance: 0.0,\n",
       " Account 4: 1234567893 (savings) - Balance: 503.07099642719015]"
      ]
     },
     "execution_count": 12,
     "metadata": {},
     "output_type": "execute_result"
    }
   ],
   "source": [
    "accounts"
   ]
  },
  {
   "cell_type": "code",
   "execution_count": 13,
   "id": "876a9b35-86e3-4547-a194-b3a88dd118ef",
   "metadata": {},
   "outputs": [
    {
     "data": {
      "text/plain": [
       "[]"
      ]
     },
     "execution_count": 13,
     "metadata": {},
     "output_type": "execute_result"
    }
   ],
   "source": [
    "bills"
   ]
  },
  {
   "cell_type": "code",
   "execution_count": 14,
   "id": "2924550a-3b28-43b8-bd76-1b922ba578db",
   "metadata": {},
   "outputs": [
    {
     "data": {
      "text/plain": [
       "[Transaction 1: Account 2 - deposit - Amount: 398.2385802411794 - Date: 2024-07-08 20:11:23.225865,\n",
       " Transaction 2: Account 2 - withdrawal - Amount: 147.00793147884642 - Date: 2024-07-08 20:11:24.226165,\n",
       " Transaction 3: Account 2 - withdrawal - Amount: 186.09453018131686 - Date: 2024-07-08 20:11:25.226458,\n",
       " Transaction 4: Account 2 - deposit - Amount: 481.31525634724414 - Date: 2024-07-08 20:11:28.228332,\n",
       " Transaction 5: Account 2 - deposit - Amount: 395.0269433761185 - Date: 2024-07-08 20:11:30.229454]"
      ]
     },
     "execution_count": 14,
     "metadata": {},
     "output_type": "execute_result"
    }
   ],
   "source": [
    "transactions[:5]"
   ]
  },
  {
   "cell_type": "code",
   "execution_count": 15,
   "id": "7981213d-a4e7-4bd4-82d9-b7161a60f67e",
   "metadata": {},
   "outputs": [
    {
     "data": {
      "text/plain": [
       "[Ledger Entry 1: Account 2 - Transaction 1 - debit - Amount: 398.2385802411794,\n",
       " Ledger Entry 2: Account 2 - Transaction 2 - credit - Amount: 147.00793147884642,\n",
       " Ledger Entry 3: Account 2 - Transaction 3 - credit - Amount: 186.09453018131686,\n",
       " Ledger Entry 4: Account 2 - Transaction 4 - debit - Amount: 481.31525634724414,\n",
       " Ledger Entry 5: Account 2 - Transaction 5 - debit - Amount: 395.0269433761185]"
      ]
     },
     "execution_count": 15,
     "metadata": {},
     "output_type": "execute_result"
    }
   ],
   "source": [
    "ledger_entries[:5]"
   ]
  },
  {
   "cell_type": "code",
   "execution_count": null,
   "id": "b6c176cc-0170-4d19-9d03-4dae9b6da372",
   "metadata": {},
   "outputs": [],
   "source": []
  },
  {
   "cell_type": "code",
   "execution_count": 16,
   "id": "1daffe0a-3a60-4c39-8a34-389a075f0898",
   "metadata": {},
   "outputs": [],
   "source": [
    "def class_to_dict(obj, depth=0):\n",
    "    \"\"\"\n",
    "    Converts a class instance to a dictionary, formatting datetime objects as strings in \"dd-mm-Y H:M:S\" format.\n",
    "    Recursively handles nested objects up to a specified depth.\n",
    "    \n",
    "    :param obj: The class instance to convert.\n",
    "    :param depth: The maximum depth to recurse into nested objects.\n",
    "    :return: A dictionary representation of the class instance.\n",
    "    \"\"\"\n",
    "    result = {}\n",
    "    if not obj or depth < 0:\n",
    "        return None\n",
    "    if hasattr(obj, '__dict__'):\n",
    "        for attr_name, attr_value in vars(obj).items():\n",
    "            if isinstance(attr_value, datetime):\n",
    "                # Convert datetime object to string in \"dd-mm-Y H:M:S\" format\n",
    "                attr_value = attr_value.strftime(\"%d-%m-%Y %H:%M:%S\")\n",
    "            elif isinstance(attr_value, list) and depth > 0:\n",
    "                # Recursively convert list items\n",
    "                attr_value = [class_to_dict(item, depth - 1) for item in attr_value]\n",
    "            elif isinstance(attr_value, dict) and depth > 0:\n",
    "                # Recursively convert dictionary items\n",
    "                attr_value = class_to_dict(attr_value, depth - 1)\n",
    "            result[attr_name] = attr_value\n",
    "    return result"
   ]
  },
  {
   "cell_type": "code",
   "execution_count": 17,
   "id": "690bb2b7-c7cc-4332-bbc8-91460495c5a0",
   "metadata": {},
   "outputs": [],
   "source": [
    "def get_account_balance(account_id: str) -> str:\n",
    "    \"\"\"Use this function to get the current account balance from the bank account manager.\n",
    "\n",
    "    Args:\n",
    "        account_id (str): The account id associated with the account. Required\n",
    "\n",
    "    Returns:\n",
    "        str: JSON: The current account balance in the account\n",
    "    \"\"\"\n",
    "\n",
    "    # Fetch top story IDs\n",
    "    balance = banking_system.get_account_balance(account_id)\n",
    "\n",
    "    return json.dumps({\n",
    "        \"account_id\": account_id,\n",
    "        \"balance\": balance\n",
    "    })"
   ]
  },
  {
   "cell_type": "code",
   "execution_count": 18,
   "id": "144f0409-4c1a-4a6b-9593-9672eb591269",
   "metadata": {},
   "outputs": [],
   "source": [
    "def get_bank_statement(account_id: str, start_date: str, end_date: str) -> str:\n",
    "    \"\"\"Use this function to get the bank statement to reflect user activity on their account.\n",
    "\n",
    "    Args:\n",
    "        account_id (str): The account id associated with the account. Required\n",
    "        start_date (str): The start date for the historical transactions. Required\n",
    "        end_date (str): The End date for the historical transactions. Required\n",
    "\n",
    "    Returns:\n",
    "        str: JSON: The bank statement\n",
    "    \"\"\"\n",
    "\n",
    "    # Fetch top story IDs\n",
    "    b_statement = banking_system.get_bank_statement(account_id, parse(start_date), parse(end_date))\n",
    "\n",
    "    return json.dumps({\n",
    "        \"account_id\": account_id,\n",
    "        \"statement\": class_to_dict(b_statement)\n",
    "    })"
   ]
  },
  {
   "cell_type": "code",
   "execution_count": 19,
   "id": "d748238e-dace-45fe-bbaf-5ce1ffe49038",
   "metadata": {},
   "outputs": [],
   "source": [
    "def withdraw_money(account_id: str, amount: int) -> str:\n",
    "    \"\"\"Use this function to withdraw money from an account.\n",
    "\n",
    "    Args:\n",
    "        account_id (str): The account id associated with the account. Required\n",
    "        amount (int): The amount to be withdrawn from the account. Required\n",
    "\n",
    "    Returns:\n",
    "        str: JSON The withdrawal status and corresponding transaction\n",
    "    \"\"\"\n",
    "\n",
    "    # Fetch top story IDs\n",
    "    success, transaction = banking_system.withdraw(account_id, amount)\n",
    "\n",
    "    return json.dumps({\n",
    "        \"account_id\": account_id,\n",
    "        \"success\": success,\n",
    "        \"transaction\": class_to_dict(transaction)\n",
    "    })"
   ]
  },
  {
   "cell_type": "code",
   "execution_count": 20,
   "id": "96f06235-d4b7-45d5-a2d8-4b45e494936d",
   "metadata": {},
   "outputs": [],
   "source": [
    "def get_dates_last_n_days(n: int):\n",
    "    \"\"\"\n",
    "    Use this function to get start date and end date given the last N days.\n",
    "    \n",
    "    Args:\n",
    "        n: Number of days ago from today. Required\n",
    "        \n",
    "    Return: \n",
    "        str: JSON with start_date and end_date range.\n",
    "    \"\"\"\n",
    "    start_date = datetime.now() - timedelta(days=int(n))\n",
    "    end_date = datetime.now()\n",
    "    return json.dumps({\n",
    "        \"start_date\": start_date.strftime(\"%d-%m-%Y %H:%M:%S\"),\n",
    "        \"end_date\": end_date.strftime(\"%d-%m-%Y %H:%M:%S\")\n",
    "    })"
   ]
  },
  {
   "cell_type": "code",
   "execution_count": 21,
   "id": "2efb76cc-0955-4945-82e3-3684d9c4eb45",
   "metadata": {},
   "outputs": [],
   "source": [
    "def get_dates_last_n_hours(n: int):\n",
    "    \"\"\"\n",
    "    Use this function to get start date and end date given the last N hours.\n",
    "    \n",
    "    Args:\n",
    "        n: Number of hours that have passed from now. Required\n",
    "        \n",
    "    Return: \n",
    "        str: JSON with start_date and end_date range.\n",
    "    \"\"\"\n",
    "    start_date = datetime.now() - timedelta(hours=int(n))\n",
    "    end_date = datetime.now()\n",
    "    return json.dumps({\n",
    "        \"start_date\": start_date.strftime(\"%d-%m-%Y %H:%M:%S\"),\n",
    "        \"end_date\": end_date.strftime(\"%d-%m-%Y %H:%M:%S\")\n",
    "    })"
   ]
  },
  {
   "cell_type": "code",
   "execution_count": 22,
   "id": "8d6d0910-96c3-41c7-9fd1-0004ac995642",
   "metadata": {},
   "outputs": [],
   "source": [
    "def get_dates_from_to(start_date, end_date):\n",
    "    \"\"\"\n",
    "    Use this function to get start date and end date as datetime objects given string start date and end date.\n",
    "    \n",
    "    Args:\n",
    "        start_date: Start date as a string in \"DD-MM-YYYY\" format. Required\n",
    "        end_date: Start date as a string in \"DD-MM-YYYY\" format. Required\n",
    "        \n",
    "    Return: \n",
    "        str: JSON with start_date and end_date range.\n",
    "    \"\"\"\n",
    "    s_date = datetime.strptime(start_date, \"%d-%m-%Y\")\n",
    "    e_date = datetime.strptime(end_date, \"%d-%m-%Y\")\n",
    "    return  json.dumps({\n",
    "        \"start_date\": s_date.strftime(\"%d-%m-%Y %H:%M:%S\"),\n",
    "        \"end_date\": e_date.strftime(\"%d-%m-%Y %H:%M:%S\")\n",
    "    })"
   ]
  },
  {
   "cell_type": "code",
   "execution_count": null,
   "id": "27416321-9616-428f-989d-16c31212b1b4",
   "metadata": {},
   "outputs": [],
   "source": []
  },
  {
   "cell_type": "code",
   "execution_count": 23,
   "id": "89e7231c-dee9-415c-b130-ef1c209340ab",
   "metadata": {},
   "outputs": [],
   "source": [
    "def get_bank_statement(account_id: str, n_days_ago: Optional[int] = None, n_hours_ago: Optional[int] = None, start_date: Optional[str] = None, end_date: Optional[str] = None) -> str:\n",
    "    \"\"\"Use this function to get the bank statement to reflect user activity on their account.\n",
    "\n",
    "    Args:\n",
    "        account_id (str): The account id associated with the account. Required\n",
    "        n_days_ago (Optional[int]): The number of days ago. Optional\n",
    "        n_hours_ago (Optional[int]): The number of hours ago. Optional\n",
    "        start_date (Optional[str]): The start date for the historical transactions. Optional\n",
    "        end_date (Optional[str]): The End date for the historical transactions. Optional\n",
    "\n",
    "    Returns:\n",
    "        str: JSON: The bank statement\n",
    "    \"\"\"\n",
    "    if n_days_ago:\n",
    "        dates = get_dates_last_n_days(n_days_ago)\n",
    "    elif n_hours_ago:\n",
    "        dates = get_dates_last_n_hours(n_hours_ago)\n",
    "    elif start_date and end_date:\n",
    "        dates = get_dates_from_to(start_date, end_date)\n",
    "    else:\n",
    "        dates = None\n",
    "        \n",
    "    if dates:\n",
    "        dates = json.loads(dates)\n",
    "    else:\n",
    "      dates = {\n",
    "            \"start_date\": (datetime.now() - timedelta(days=30)).strftime(\"%d-%m-%Y %H:%M:%S\"),\n",
    "            \"end_date\": datetime.now().strftime(\"%d-%m-%Y %H:%M:%S\")\n",
    "        }\n",
    "\n",
    "    # Fetch top story IDs\n",
    "    print(dates)\n",
    "    b_statement = banking_system.get_bank_statement(\n",
    "        account_id, \n",
    "        parse(dates.get(\"start_date\"), dayfirst=True), \n",
    "        parse(dates.get(\"end_date\"), dayfirst=True)\n",
    "    )\n",
    "    \n",
    "    print(b_statement)\n",
    "    return json.dumps({\n",
    "        \"account_id\": account_id,\n",
    "        \"statement\": class_to_dict(b_statement, 5)\n",
    "    })"
   ]
  },
  {
   "cell_type": "code",
   "execution_count": 24,
   "id": "a0567215-e7d5-4f15-a95f-09d5526203fa",
   "metadata": {},
   "outputs": [
    {
     "name": "stdout",
     "output_type": "stream",
     "text": [
      "{'start_date': '08-07-2024 15:11:53', 'end_date': '08-07-2024 20:11:53'}\n",
      "Bank Statement for Account 1\n",
      "Period: 2024-07-08 15:11:53 - 2024-07-08 20:11:53\n",
      "Starting Balance: 0.0\n",
      "Ending Balance: 1459.413211486812\n",
      "Transactions:\n",
      "  Transaction 8: Account 1 - transfer in - Amount: 122.86191432058197 - Date: 2024-07-08 20:11:31.230127\n",
      "  Transaction 12: Account 1 - transfer in - Amount: 216.39594483315858 - Date: 2024-07-08 20:11:35.232900\n",
      "  Transaction 13: Account 1 - withdrawal - Amount: 185.72611847062743 - Date: 2024-07-08 20:11:38.233822\n",
      "  Transaction 17: Account 1 - transfer in - Amount: 132.95964763990162 - Date: 2024-07-08 20:11:40.234437\n",
      "  Transaction 20: Account 1 - transfer in - Amount: 100.15825967221213 - Date: 2024-07-08 20:11:43.235745\n",
      "  Transaction 23: Account 1 - transfer in - Amount: 385.66284267204173 - Date: 2024-07-08 20:11:45.236572\n",
      "  Transaction 26: Account 1 - transfer in - Amount: 448.4728356782504 - Date: 2024-07-08 20:11:46.237059\n",
      "  Transaction 27: Account 1 - withdrawal - Amount: 189.09890979930458 - Date: 2024-07-08 20:11:48.237750\n",
      "  Transaction 30: Account 1 - transfer in - Amount: 427.72679494059776 - Date: 2024-07-08 20:11:49.238306\n",
      "\n"
     ]
    },
    {
     "data": {
      "text/plain": [
       "'{\"account_id\": 1, \"statement\": {\"account_id\": 1, \"start_date\": \"08-07-2024 15:11:53\", \"end_date\": \"08-07-2024 20:11:53\", \"start_balance\": 0.0, \"end_balance\": 1459.413211486812, \"transactions\": [{\"transaction_id\": \"8\", \"account_id\": \"1\", \"transaction_type\": \"transfer in\", \"amount\": 122.86191432058197, \"transaction_date\": \"08-07-2024 20:11:31\"}, {\"transaction_id\": \"12\", \"account_id\": \"1\", \"transaction_type\": \"transfer in\", \"amount\": 216.39594483315858, \"transaction_date\": \"08-07-2024 20:11:35\"}, {\"transaction_id\": \"13\", \"account_id\": \"1\", \"transaction_type\": \"withdrawal\", \"amount\": 185.72611847062743, \"transaction_date\": \"08-07-2024 20:11:38\"}, {\"transaction_id\": \"17\", \"account_id\": \"1\", \"transaction_type\": \"transfer in\", \"amount\": 132.95964763990162, \"transaction_date\": \"08-07-2024 20:11:40\"}, {\"transaction_id\": \"20\", \"account_id\": \"1\", \"transaction_type\": \"transfer in\", \"amount\": 100.15825967221213, \"transaction_date\": \"08-07-2024 20:11:43\"}, {\"transaction_id\": \"23\", \"account_id\": \"1\", \"transaction_type\": \"transfer in\", \"amount\": 385.66284267204173, \"transaction_date\": \"08-07-2024 20:11:45\"}, {\"transaction_id\": \"26\", \"account_id\": \"1\", \"transaction_type\": \"transfer in\", \"amount\": 448.4728356782504, \"transaction_date\": \"08-07-2024 20:11:46\"}, {\"transaction_id\": \"27\", \"account_id\": \"1\", \"transaction_type\": \"withdrawal\", \"amount\": 189.09890979930458, \"transaction_date\": \"08-07-2024 20:11:48\"}, {\"transaction_id\": \"30\", \"account_id\": \"1\", \"transaction_type\": \"transfer in\", \"amount\": 427.72679494059776, \"transaction_date\": \"08-07-2024 20:11:49\"}]}}'"
      ]
     },
     "execution_count": 24,
     "metadata": {},
     "output_type": "execute_result"
    }
   ],
   "source": [
    "get_bank_statement(account_id=1, n_hours_ago=5)"
   ]
  },
  {
   "cell_type": "code",
   "execution_count": null,
   "id": "f668ff4c-9e55-4e3d-bcd9-ca5aeb0377a1",
   "metadata": {},
   "outputs": [],
   "source": []
  },
  {
   "cell_type": "code",
   "execution_count": 25,
   "id": "a2d66a08-e087-4475-831c-a6c7d44ae19d",
   "metadata": {},
   "outputs": [],
   "source": [
    "#!pip install phidata\n",
    "#!pip install ollama\n",
    "#!pip install groq\n",
    "#!pip install duckduckgo-search\n",
    "#!pip install markdown"
   ]
  },
  {
   "cell_type": "code",
   "execution_count": null,
   "id": "af836c5f-7034-4d05-90c3-2cb1694721f1",
   "metadata": {},
   "outputs": [],
   "source": []
  },
  {
   "cell_type": "code",
   "execution_count": 27,
   "id": "5f75fc3d-3a72-4df2-95e9-ed653784bb50",
   "metadata": {},
   "outputs": [],
   "source": [
    "from typing import Optional\n",
    "from textwrap import dedent\n",
    "from typing import Any, List\n",
    "\n",
    "from phi.assistant import Assistant\n",
    "from phi.llm.ollama import Ollama, OllamaTools\n",
    "from phi.llm.groq import Groq\n",
    "from phi.tools.duckduckgo import DuckDuckGo\n",
    "import markdown"
   ]
  },
  {
   "cell_type": "code",
   "execution_count": 28,
   "id": "ba20bf16-8c63-4305-ad2a-1db9fb936d44",
   "metadata": {},
   "outputs": [],
   "source": [
    "def get_local_assistant(\n",
    "    llm_provider: str = \"groq\",\n",
    "    llm_model: str = None,\n",
    "    tools: list = None,\n",
    "    user_id: Optional[str] = None,\n",
    "    run_id: Optional[str] = None,\n",
    "    debug_mode: bool = True,\n",
    ") -> Assistant:\n",
    "    \"\"\"Get a Local Autonomous Assistant.\"\"\"\n",
    "    \n",
    "    if llm_provider == \"groq\":\n",
    "        llm = Groq(model=llm_model)\n",
    "    elif llm_provider == \"ollama\":\n",
    "        llm = Ollama(model=llm_model)\n",
    "\n",
    "    assistant = Assistant(\n",
    "        name=\"local_assistant\",\n",
    "        run_id=run_id,\n",
    "        user_id=user_id,\n",
    "        llm=llm,\n",
    "        tools=tools,\n",
    "        show_tool_calls=False,\n",
    "        markdown=True,\n",
    "        add_datetime_to_instructions=True,\n",
    "        debug_mode=debug_mode,\n",
    "    )\n",
    "    assistant.add_introduction(\n",
    "        dedent(\"\"\"Hi, I'm a local AI Assistant that uses function calling to answer questions\"\"\")\n",
    "    )\n",
    "    return assistant"
   ]
  },
  {
   "cell_type": "code",
   "execution_count": 29,
   "id": "c21ef4ba-5f95-4f80-88b5-9562e5553900",
   "metadata": {},
   "outputs": [],
   "source": [
    "session_state = dict()\n",
    "session_state[\"assistant\"] = None"
   ]
  },
  {
   "cell_type": "code",
   "execution_count": 30,
   "id": "df3a14c9-d6a3-477b-9228-fccac12856b5",
   "metadata": {},
   "outputs": [],
   "source": [
    "def restart_llm(provider, llm, tools, debug_mode):\n",
    "    # Get the assistant\n",
    "    session_state[\"assistant\"] = get_local_assistant(\n",
    "        provider,\n",
    "        llm_model=llm,\n",
    "        tools=tools,\n",
    "        debug_mode=debug_mode\n",
    "    )\n",
    "    # Load existing messages\n",
    "    assistant_chat_history = session_state[\"assistant\"].memory.get_chat_history()\n",
    "    if len(assistant_chat_history) > 0:\n",
    "        print(\"Loading chat history ...\")\n",
    "        session_state[\"messages\"] = assistant_chat_history\n",
    "    else:\n",
    "        print(\"No chat history found.\")\n",
    "        session_state[\"messages\"] = [{\"role\": \"assistant\", \"content\": \"Ask me questions...\"}]"
   ]
  },
  {
   "cell_type": "code",
   "execution_count": 31,
   "id": "b3c1421f-a5f8-4d86-813f-7ee238e33f68",
   "metadata": {},
   "outputs": [],
   "source": [
    "def prompt(q):\n",
    "    session_state[\"messages\"].append({\"role\": \"user\", \"content\": q})\n",
    "    response = \"\"\n",
    "    for delta in session_state[\"assistant\"].run(q, stream=False):\n",
    "        response += delta  # type: ignore\n",
    "        markdown.markdown(response)\n",
    "    # response = session_state[\"assistant\"].print_response(q, markdown=True, stream=False)\n",
    "    session_state[\"messages\"].append({\"role\": \"assistant\", \"content\": response})\n",
    "    print(session_state[\"messages\"])"
   ]
  },
  {
   "cell_type": "code",
   "execution_count": 32,
   "id": "b4288b99-c999-4815-bd86-4a59ff0c1dfd",
   "metadata": {},
   "outputs": [],
   "source": [
    "# tools = [\n",
    "#     get_dates_last_n_hours,\n",
    "#     get_dates_last_n_days,\n",
    "#     get_dates_from_to,\n",
    "#     get_account_balance,\n",
    "#     withdraw_money,\n",
    "#     get_bank_statement\n",
    "# ]\n",
    "tools = [\n",
    "    get_account_balance,\n",
    "    withdraw_money,\n",
    "    get_bank_statement\n",
    "]"
   ]
  },
  {
   "cell_type": "code",
   "execution_count": 33,
   "id": "908634e6-16da-44e1-af9b-a8a91f560ae0",
   "metadata": {},
   "outputs": [
    {
     "data": {
      "text/plain": [
       "[Account 1: 1234567890 (savings) - Balance: 1459.413211486812,\n",
       " Account 2: 1234567891 (savings) - Balance: 629.5189306765942,\n",
       " Account 3: 1234567892 (savings) - Balance: 0.0,\n",
       " Account 4: 1234567893 (savings) - Balance: 503.07099642719015]"
      ]
     },
     "execution_count": 33,
     "metadata": {},
     "output_type": "execute_result"
    }
   ],
   "source": [
    "accounts"
   ]
  },
  {
   "cell_type": "code",
   "execution_count": 34,
   "id": "25efb426-0410-4761-a09a-18bc8ecc1250",
   "metadata": {},
   "outputs": [
    {
     "name": "stdout",
     "output_type": "stream",
     "text": [
      "Loading chat history ...\n",
      "[{'role': 'assistant', 'content': \"Hi, I'm a local AI Assistant that uses function calling to answer questions\", 'metrics': {}}, {'role': 'user', 'content': 'Is there money in account with id 4'}, {'role': 'assistant', 'content': ' Yes, there is money in account with id 4. The current balance is $503.07.'}]\n"
     ]
    }
   ],
   "source": [
    "#restart_llm(\"groq\", \"mixtral-8x7b-32768\", tools, False)\n",
    "restart_llm(\"ollama\", \"dolphin-mixtral:8x7b\", tools, False)\n",
    "prompt(\"Is there money in account with id 4\")"
   ]
  },
  {
   "cell_type": "code",
   "execution_count": 35,
   "id": "48481275-9e99-440c-9af8-c9d9f3f47d76",
   "metadata": {},
   "outputs": [],
   "source": [
    "# restart_llm(\"ollama\", \"dolphin-mixtral:8x7b\", tools, False)\n",
    "# prompt(\"What is tha balance in account 2\")"
   ]
  },
  {
   "cell_type": "code",
   "execution_count": 35,
   "id": "caaa4500-ad6c-4adf-b448-9ffa9412a43e",
   "metadata": {},
   "outputs": [
    {
     "data": {
      "text/plain": [
       "[Account 1: 1234567890 (savings) - Balance: 1459.413211486812,\n",
       " Account 2: 1234567891 (savings) - Balance: 629.5189306765942,\n",
       " Account 3: 1234567892 (savings) - Balance: 0.0,\n",
       " Account 4: 1234567893 (savings) - Balance: 503.07099642719015]"
      ]
     },
     "execution_count": 35,
     "metadata": {},
     "output_type": "execute_result"
    }
   ],
   "source": [
    "accounts"
   ]
  },
  {
   "cell_type": "code",
   "execution_count": 36,
   "id": "9f5b771f-a1f4-4856-b06e-506d3f66497d",
   "metadata": {
    "scrolled": true
   },
   "outputs": [
    {
     "name": "stdout",
     "output_type": "stream",
     "text": [
      "Insufficient funds. Current balance is 0.0\n",
      "[{'role': 'assistant', 'content': \"Hi, I'm a local AI Assistant that uses function calling to answer questions\", 'metrics': {}}, {'role': 'user', 'content': 'Is there money in account with id 4'}, {'role': 'assistant', 'content': ' Yes, there is money in account with id 4. The current balance is $503.07.'}, {'role': 'user', 'content': 'withdraw 44 dollars from account with id 3'}, {'role': 'assistant', 'content': ' <bos_response>\\n{\\n    \"tool_calls\": [\\n        {\\n            \"name\": \"get_account_balance\",\\n            \"arguments\": {\\n                \"account_id\": \"3\"\\n            }\\n        },\\n        {\\n            \"name\": \"withdraw_money\",\\n            \"arguments\": {\\n                \"account_id\": \"3\",\\n                \"amount\": 44\\n            }\\n        }\\n    ]\\n}\\n</bos_response>'}]\n"
     ]
    }
   ],
   "source": [
    "# restart_llm(\"ollama\", \"dolphin-mixtral:8x7b\", tools, False)\n",
    "prompt(\"withdraw 44 dollars from account with id 3\")"
   ]
  },
  {
   "cell_type": "code",
   "execution_count": 38,
   "id": "7d9a6825-027a-4162-8b7f-42426bd2c36d",
   "metadata": {},
   "outputs": [
    {
     "data": {
      "text/plain": [
       "[Account 1: 1234567890 (savings) - Balance: 1700.661680898512,\n",
       " Account 2: 1234567891 (savings) - Balance: 280.26055165681476,\n",
       " Account 3: 1234567892 (savings) - Balance: 269.0854582501533,\n",
       " Account 4: 1234567893 (savings) - Balance: 572.401768003466]"
      ]
     },
     "execution_count": 38,
     "metadata": {},
     "output_type": "execute_result"
    }
   ],
   "source": [
    "accounts"
   ]
  },
  {
   "cell_type": "code",
   "execution_count": 37,
   "id": "708db07e-a0ea-45c8-8b99-1b47c2503b7c",
   "metadata": {},
   "outputs": [
    {
     "name": "stdout",
     "output_type": "stream",
     "text": [
      "{'start_date': '06-07-2024 20:15:27', 'end_date': '08-07-2024 20:15:27'}\n",
      "Bank Statement for Account 2\n",
      "Period: 2024-07-06 20:15:27 - 2024-07-08 20:15:27\n",
      "Starting Balance: 0.0\n",
      "Ending Balance: 629.5189306765942\n",
      "Transactions:\n",
      "  Transaction 1: Account 2 - deposit - Amount: 398.2385802411794 - Date: 2024-07-08 20:11:23.225865\n",
      "  Transaction 2: Account 2 - withdrawal - Amount: 147.00793147884642 - Date: 2024-07-08 20:11:24.226165\n",
      "  Transaction 3: Account 2 - withdrawal - Amount: 186.09453018131686 - Date: 2024-07-08 20:11:25.226458\n",
      "  Transaction 4: Account 2 - deposit - Amount: 481.31525634724414 - Date: 2024-07-08 20:11:28.228332\n",
      "  Transaction 5: Account 2 - deposit - Amount: 395.0269433761185 - Date: 2024-07-08 20:11:30.229454\n",
      "  Transaction 9: Account 2 - withdrawal - Amount: 148.7553797141893 - Date: 2024-07-08 20:11:32.230560\n",
      "  Transaction 18: Account 2 - withdrawal - Amount: 100.15825967221213 - Date: 2024-07-08 20:11:43.235691\n",
      "  Transaction 19: Account 2 - transfer out - Amount: 100.15825967221213 - Date: 2024-07-08 20:11:43.235735\n",
      "  Transaction 24: Account 2 - deposit - Amount: 448.4728356782504 - Date: 2024-07-08 20:11:46.236962\n",
      "  Transaction 25: Account 2 - transfer out - Amount: 448.4728356782504 - Date: 2024-07-08 20:11:46.237042\n",
      "  Transaction 32: Account 2 - withdrawal - Amount: 108.27870775242256 - Date: 2024-07-08 20:11:51.238906\n",
      "  Transaction 33: Account 2 - deposit - Amount: 145.3912191832516 - Date: 2024-07-08 20:11:52.239351\n",
      "\n",
      "[{'role': 'assistant', 'content': \"Hi, I'm a local AI Assistant that uses function calling to answer questions\", 'metrics': {}}, {'role': 'user', 'content': 'Is there money in account with id 4'}, {'role': 'assistant', 'content': ' Yes, there is money in account with id 4. The current balance is $503.07.'}, {'role': 'user', 'content': 'withdraw 44 dollars from account with id 3'}, {'role': 'assistant', 'content': ' <bos_response>\\n{\\n    \"tool_calls\": [\\n        {\\n            \"name\": \"get_account_balance\",\\n            \"arguments\": {\\n                \"account_id\": \"3\"\\n            }\\n        },\\n        {\\n            \"name\": \"withdraw_money\",\\n            \"arguments\": {\\n                \"account_id\": \"3\",\\n                \"amount\": 44\\n            }\\n        }\\n    ]\\n}\\n</bos_response>'}, {'role': 'user', 'content': 'Retrieve a bank statement for account 2 for the past 2 days'}, {'role': 'assistant', 'content': ' <robot_response>\\n{\\n    \"tool_calls\": [{\\n        \"name\": \"get_bank_statement\",\\n        \"arguments\": {\\n            \"account_id\": \"2\",\\n            \"n_days_ago\": 0,\\n            \"n_hours_ago\": null,\\n            \"start_date\": null,\\n            \"end_date\": null\\n        }\\n    }]\\n}\\n</robot_response>'}]\n"
     ]
    }
   ],
   "source": [
    "#restart_llm(\"ollama\", \"dolphin-mixtral:8x7b\", tools, False)\n",
    "prompt(\"Retrieve a bank statement for account 2 for the past 2 days\")"
   ]
  },
  {
   "cell_type": "code",
   "execution_count": 122,
   "id": "6b8b1d3d-0223-4388-b0e6-1403dddd18ad",
   "metadata": {
    "scrolled": true
   },
   "outputs": [
    {
     "name": "stdout",
     "output_type": "stream",
     "text": [
      "Loading chat history ...\n"
     ]
    },
    {
     "data": {
      "text/html": [
       "<pre style=\"white-space:pre;overflow-x:auto;line-height:normal;font-family:Menlo,'DejaVu Sans Mono',consolas,'Courier New',monospace\"><span style=\"color: #008000; text-decoration-color: #008000\">DEBUG   </span> *********** Assistant Run Start: <span style=\"color: #ffff00; text-decoration-color: #ffff00\">a76649c8-7c55-46f8-8682-ea62fdb154af</span> ***********                         \n",
       "</pre>\n"
      ],
      "text/plain": [
       "\u001b[32mDEBUG   \u001b[0m *********** Assistant Run Start: \u001b[93ma76649c8-7c55-46f8-8682-ea62fdb154af\u001b[0m ***********                         \n"
      ]
     },
     "metadata": {},
     "output_type": "display_data"
    },
    {
     "data": {
      "text/html": [
       "<pre style=\"white-space:pre;overflow-x:auto;line-height:normal;font-family:Menlo,'DejaVu Sans Mono',consolas,'Courier New',monospace\"><span style=\"color: #008000; text-decoration-color: #008000\">DEBUG   </span> Loaded memory                                                                                             \n",
       "</pre>\n"
      ],
      "text/plain": [
       "\u001b[32mDEBUG   \u001b[0m Loaded memory                                                                                             \n"
      ]
     },
     "metadata": {},
     "output_type": "display_data"
    },
    {
     "data": {
      "text/html": [
       "<pre style=\"white-space:pre;overflow-x:auto;line-height:normal;font-family:Menlo,'DejaVu Sans Mono',consolas,'Courier New',monospace\"><span style=\"color: #008000; text-decoration-color: #008000\">DEBUG   </span> Function get_account_balance added to LLM.                                                                \n",
       "</pre>\n"
      ],
      "text/plain": [
       "\u001b[32mDEBUG   \u001b[0m Function get_account_balance added to LLM.                                                                \n"
      ]
     },
     "metadata": {},
     "output_type": "display_data"
    },
    {
     "data": {
      "text/html": [
       "<pre style=\"white-space:pre;overflow-x:auto;line-height:normal;font-family:Menlo,'DejaVu Sans Mono',consolas,'Courier New',monospace\"><span style=\"color: #008000; text-decoration-color: #008000\">DEBUG   </span> Function withdraw_money added to LLM.                                                                     \n",
       "</pre>\n"
      ],
      "text/plain": [
       "\u001b[32mDEBUG   \u001b[0m Function withdraw_money added to LLM.                                                                     \n"
      ]
     },
     "metadata": {},
     "output_type": "display_data"
    },
    {
     "data": {
      "text/html": [
       "<pre style=\"white-space:pre;overflow-x:auto;line-height:normal;font-family:Menlo,'DejaVu Sans Mono',consolas,'Courier New',monospace\"><span style=\"color: #008000; text-decoration-color: #008000\">DEBUG   </span> Function get_bank_statement added to LLM.                                                                 \n",
       "</pre>\n"
      ],
      "text/plain": [
       "\u001b[32mDEBUG   \u001b[0m Function get_bank_statement added to LLM.                                                                 \n"
      ]
     },
     "metadata": {},
     "output_type": "display_data"
    },
    {
     "data": {
      "text/html": [
       "<pre style=\"white-space:pre;overflow-x:auto;line-height:normal;font-family:Menlo,'DejaVu Sans Mono',consolas,'Courier New',monospace\"><span style=\"color: #008000; text-decoration-color: #008000\">DEBUG   </span> ---------- Ollama Response Start ----------                                                               \n",
       "</pre>\n"
      ],
      "text/plain": [
       "\u001b[32mDEBUG   \u001b[0m ---------- Ollama Response Start ----------                                                               \n"
      ]
     },
     "metadata": {},
     "output_type": "display_data"
    },
    {
     "data": {
      "text/html": [
       "<pre style=\"white-space:pre;overflow-x:auto;line-height:normal;font-family:Menlo,'DejaVu Sans Mono',consolas,'Courier New',monospace\"><span style=\"color: #008000; text-decoration-color: #008000\">DEBUG   </span> ============== system ==============                                                                      \n",
       "</pre>\n"
      ],
      "text/plain": [
       "\u001b[32mDEBUG   \u001b[0m ============== system ==============                                                                      \n"
      ]
     },
     "metadata": {},
     "output_type": "display_data"
    },
    {
     "data": {
      "text/html": [
       "<pre style=\"white-space:pre;overflow-x:auto;line-height:normal;font-family:Menlo,'DejaVu Sans Mono',consolas,'Courier New',monospace\"><span style=\"color: #008000; text-decoration-color: #008000\">DEBUG   </span> To respond to the users message, you have access to the following tools:                                  \n",
       "         <span style=\"font-weight: bold\">{</span>                                                                                                         \n",
       "           <span style=\"color: #008000; text-decoration-color: #008000\">\"name\"</span>: <span style=\"color: #008000; text-decoration-color: #008000\">\"get_account_balance\"</span>,                                                                          \n",
       "           <span style=\"color: #008000; text-decoration-color: #008000\">\"description\"</span>: <span style=\"color: #008000; text-decoration-color: #008000\">\"Use this function to get the current account balance from the bank account </span>             \n",
       "         <span style=\"color: #008000; text-decoration-color: #008000\">manager.\\n\\nArgs:\\n    account_id (str): The account id associated with the account. </span>                     \n",
       "         <span style=\"color: #008000; text-decoration-color: #008000\">Required\\n\\nReturns:\\n    str: JSON: The current account balance in the account\"</span>,                         \n",
       "           <span style=\"color: #008000; text-decoration-color: #008000\">\"arguments\"</span>: <span style=\"font-weight: bold\">{</span>                                                                                          \n",
       "             <span style=\"color: #008000; text-decoration-color: #008000\">\"account_id\"</span>: <span style=\"font-weight: bold\">{</span>                                                                                       \n",
       "               <span style=\"color: #008000; text-decoration-color: #008000\">\"type\"</span>: <span style=\"color: #008000; text-decoration-color: #008000\">\"string\"</span>                                                                                    \n",
       "             <span style=\"font-weight: bold\">}</span>                                                                                                     \n",
       "           <span style=\"font-weight: bold\">}</span>,                                                                                                      \n",
       "           <span style=\"color: #008000; text-decoration-color: #008000\">\"returns\"</span>: <span style=\"color: #008000; text-decoration-color: #008000\">\"str\"</span>                                                                                        \n",
       "         <span style=\"font-weight: bold\">}</span>                                                                                                         \n",
       "         <span style=\"font-weight: bold\">{</span>                                                                                                         \n",
       "           <span style=\"color: #008000; text-decoration-color: #008000\">\"name\"</span>: <span style=\"color: #008000; text-decoration-color: #008000\">\"withdraw_money\"</span>,                                                                               \n",
       "           <span style=\"color: #008000; text-decoration-color: #008000\">\"description\"</span>: <span style=\"color: #008000; text-decoration-color: #008000\">\"Use this function to withdraw money from an account.\\n\\nArgs:\\n    account_id (str): The</span>\n",
       "         <span style=\"color: #008000; text-decoration-color: #008000\">account id associated with the account. Required\\n    amount (int): The amount to be withdrawn from the </span>  \n",
       "         <span style=\"color: #008000; text-decoration-color: #008000\">account. Required\\n\\nReturns:\\n    str: JSON The withdrawal status and corresponding transaction\"</span>,        \n",
       "           <span style=\"color: #008000; text-decoration-color: #008000\">\"arguments\"</span>: <span style=\"font-weight: bold\">{</span>                                                                                          \n",
       "             <span style=\"color: #008000; text-decoration-color: #008000\">\"account_id\"</span>: <span style=\"font-weight: bold\">{</span>                                                                                       \n",
       "               <span style=\"color: #008000; text-decoration-color: #008000\">\"type\"</span>: <span style=\"color: #008000; text-decoration-color: #008000\">\"string\"</span>                                                                                    \n",
       "             <span style=\"font-weight: bold\">}</span>,                                                                                                    \n",
       "             <span style=\"color: #008000; text-decoration-color: #008000\">\"amount\"</span>: <span style=\"font-weight: bold\">{</span>                                                                                           \n",
       "               <span style=\"color: #008000; text-decoration-color: #008000\">\"type\"</span>: <span style=\"color: #008000; text-decoration-color: #008000\">\"number\"</span>                                                                                    \n",
       "             <span style=\"font-weight: bold\">}</span>                                                                                                     \n",
       "           <span style=\"font-weight: bold\">}</span>,                                                                                                      \n",
       "           <span style=\"color: #008000; text-decoration-color: #008000\">\"returns\"</span>: <span style=\"color: #008000; text-decoration-color: #008000\">\"str\"</span>                                                                                        \n",
       "         <span style=\"font-weight: bold\">}</span>                                                                                                         \n",
       "         <span style=\"font-weight: bold\">{</span>                                                                                                         \n",
       "           <span style=\"color: #008000; text-decoration-color: #008000\">\"name\"</span>: <span style=\"color: #008000; text-decoration-color: #008000\">\"get_bank_statement\"</span>,                                                                           \n",
       "           <span style=\"color: #008000; text-decoration-color: #008000\">\"description\"</span>: <span style=\"color: #008000; text-decoration-color: #008000\">\"Use this function to get the bank statement to reflect user activity on their </span>          \n",
       "         <span style=\"color: #008000; text-decoration-color: #008000\">account.\\n\\nArgs:\\n    account_id (str): The account id associated with the account. Required\\n    </span>       \n",
       "         <span style=\"color: #008000; text-decoration-color: #008000\">n_days_ago (Optional[int]): The number of days ago. Optional\\n    n_hours_ago (Optional[int]): The number </span>\n",
       "         <span style=\"color: #008000; text-decoration-color: #008000\">of hours ago. Optional\\n    start_date (Optional[str]): The start date for the historical transactions. </span>  \n",
       "         <span style=\"color: #008000; text-decoration-color: #008000\">Optional\\n    end_date (Optional[str]): The End date for the historical transactions. </span>                    \n",
       "         <span style=\"color: #008000; text-decoration-color: #008000\">Optional\\n\\nReturns:\\n    str: JSON: The bank statement\"</span>,                                                 \n",
       "           <span style=\"color: #008000; text-decoration-color: #008000\">\"arguments\"</span>: <span style=\"font-weight: bold\">{</span>                                                                                          \n",
       "             <span style=\"color: #008000; text-decoration-color: #008000\">\"account_id\"</span>: <span style=\"font-weight: bold\">{</span>                                                                                       \n",
       "               <span style=\"color: #008000; text-decoration-color: #008000\">\"type\"</span>: <span style=\"color: #008000; text-decoration-color: #008000\">\"string\"</span>                                                                                    \n",
       "             <span style=\"font-weight: bold\">}</span>,                                                                                                    \n",
       "             <span style=\"color: #008000; text-decoration-color: #008000\">\"n_days_ago\"</span>: <span style=\"font-weight: bold\">{</span>                                                                                       \n",
       "               <span style=\"color: #008000; text-decoration-color: #008000\">\"type\"</span>: <span style=\"font-weight: bold\">[</span>                                                                                           \n",
       "                 <span style=\"color: #008000; text-decoration-color: #008000\">\"number\"</span>,                                                                                         \n",
       "                 <span style=\"color: #008000; text-decoration-color: #008000\">\"null\"</span>                                                                                            \n",
       "               <span style=\"font-weight: bold\">]</span>                                                                                                   \n",
       "             <span style=\"font-weight: bold\">}</span>,                                                                                                    \n",
       "             <span style=\"color: #008000; text-decoration-color: #008000\">\"n_hours_ago\"</span>: <span style=\"font-weight: bold\">{</span>                                                                                      \n",
       "               <span style=\"color: #008000; text-decoration-color: #008000\">\"type\"</span>: <span style=\"font-weight: bold\">[</span>                                                                                           \n",
       "                 <span style=\"color: #008000; text-decoration-color: #008000\">\"number\"</span>,                                                                                         \n",
       "                 <span style=\"color: #008000; text-decoration-color: #008000\">\"null\"</span>                                                                                            \n",
       "               <span style=\"font-weight: bold\">]</span>                                                                                                   \n",
       "             <span style=\"font-weight: bold\">}</span>,                                                                                                    \n",
       "             <span style=\"color: #008000; text-decoration-color: #008000\">\"start_date\"</span>: <span style=\"font-weight: bold\">{</span>                                                                                       \n",
       "               <span style=\"color: #008000; text-decoration-color: #008000\">\"type\"</span>: <span style=\"font-weight: bold\">[</span>                                                                                           \n",
       "                 <span style=\"color: #008000; text-decoration-color: #008000\">\"string\"</span>,                                                                                         \n",
       "                 <span style=\"color: #008000; text-decoration-color: #008000\">\"null\"</span>                                                                                            \n",
       "               <span style=\"font-weight: bold\">]</span>                                                                                                   \n",
       "             <span style=\"font-weight: bold\">}</span>,                                                                                                    \n",
       "             <span style=\"color: #008000; text-decoration-color: #008000\">\"end_date\"</span>: <span style=\"font-weight: bold\">{</span>                                                                                         \n",
       "               <span style=\"color: #008000; text-decoration-color: #008000\">\"type\"</span>: <span style=\"font-weight: bold\">[</span>                                                                                           \n",
       "                 <span style=\"color: #008000; text-decoration-color: #008000\">\"string\"</span>,                                                                                         \n",
       "                 <span style=\"color: #008000; text-decoration-color: #008000\">\"null\"</span>                                                                                            \n",
       "               <span style=\"font-weight: bold\">]</span>                                                                                                   \n",
       "             <span style=\"font-weight: bold\">}</span>                                                                                                     \n",
       "           <span style=\"font-weight: bold\">}</span>,                                                                                                      \n",
       "           <span style=\"color: #008000; text-decoration-color: #008000\">\"returns\"</span>: <span style=\"color: #008000; text-decoration-color: #008000\">\"str\"</span>                                                                                        \n",
       "         <span style=\"font-weight: bold\">}</span>                                                                                                         \n",
       "                                                                                                                   \n",
       "                                                                                                                   \n",
       "         You must follow these instructions carefully:                                                             \n",
       "         <span style=\"font-weight: bold\">&lt;</span><span style=\"color: #ff00ff; text-decoration-color: #ff00ff; font-weight: bold\">instructions</span><span style=\"color: #000000; text-decoration-color: #000000\">&gt;</span>                                                                                            \n",
       "         <span style=\"color: #008080; text-decoration-color: #008080; font-weight: bold\">1</span><span style=\"color: #000000; text-decoration-color: #000000\">. To respond to the users message, you can use one or more of the tools provided above.</span>                  \n",
       "         <span style=\"color: #008080; text-decoration-color: #008080; font-weight: bold\">2</span><span style=\"color: #000000; text-decoration-color: #000000\">. If you decide to use a tool, you must respond in the JSON format matching the following schema:</span>        \n",
       "         <span style=\"color: #000000; text-decoration-color: #000000; font-weight: bold\">{</span>                                                                                                         \n",
       "         <span style=\"color: #000000; text-decoration-color: #000000\">    </span><span style=\"color: #008000; text-decoration-color: #008000\">\"tool_calls\"</span><span style=\"color: #000000; text-decoration-color: #000000\">: </span><span style=\"color: #000000; text-decoration-color: #000000; font-weight: bold\">[{</span>                                                                                      \n",
       "         <span style=\"color: #000000; text-decoration-color: #000000\">        </span><span style=\"color: #008000; text-decoration-color: #008000\">\"name\"</span><span style=\"color: #000000; text-decoration-color: #000000\">: </span><span style=\"color: #008000; text-decoration-color: #008000\">\"&lt;name of the selected tool&gt;\"</span><span style=\"color: #000000; text-decoration-color: #000000\">,</span>                                                            \n",
       "         <span style=\"color: #000000; text-decoration-color: #000000\">        </span><span style=\"color: #008000; text-decoration-color: #008000\">\"arguments\"</span><span style=\"color: #000000; text-decoration-color: #000000\">: &lt;parameters for the selected tool, matching the tool's JSON schema</span>                   \n",
       "         <span style=\"color: #000000; text-decoration-color: #000000\">    </span><span style=\"color: #000000; text-decoration-color: #000000; font-weight: bold\">}]</span>                                                                                                    \n",
       "         <span style=\"color: #000000; text-decoration-color: #000000; font-weight: bold\">}</span><span style=\"color: #000000; text-decoration-color: #000000\">                    </span>                                                                                     \n",
       "         <span style=\"color: #008080; text-decoration-color: #008080; font-weight: bold\">3</span><span style=\"color: #000000; text-decoration-color: #000000\">. To use a tool, just respond with the JSON matching the schema. Nothing else. Do not add any additional </span>\n",
       "         <span style=\"color: #000000; text-decoration-color: #000000\">notes or explanations</span>                                                                                     \n",
       "         <span style=\"color: #008080; text-decoration-color: #008080; font-weight: bold\">4</span><span style=\"color: #000000; text-decoration-color: #000000\">. After you use a tool, the next message you get will contain the result of the tool call.</span>               \n",
       "         <span style=\"color: #008080; text-decoration-color: #008080; font-weight: bold\">5</span><span style=\"color: #000000; text-decoration-color: #000000\">. REMEMBER: To use a tool, you must respond only in JSON format.</span>                                         \n",
       "         <span style=\"color: #008080; text-decoration-color: #008080; font-weight: bold\">6</span><span style=\"color: #000000; text-decoration-color: #000000\">. After you use a tool and receive the result back, respond regularly to answer the users question.</span>      \n",
       "         <span style=\"color: #008080; text-decoration-color: #008080; font-weight: bold\">7</span><span style=\"color: #000000; text-decoration-color: #000000\">. Use markdown to format your answers.</span>                                                                   \n",
       "         <span style=\"color: #008080; text-decoration-color: #008080; font-weight: bold\">8</span><span style=\"color: #000000; text-decoration-color: #000000\">. The current time is </span><span style=\"color: #008080; text-decoration-color: #008080; font-weight: bold\">2024</span><span style=\"color: #000000; text-decoration-color: #000000\">-</span><span style=\"color: #008080; text-decoration-color: #008080; font-weight: bold\">07</span><span style=\"color: #000000; text-decoration-color: #000000\">-</span><span style=\"color: #008080; text-decoration-color: #008080; font-weight: bold\">02</span><span style=\"color: #000000; text-decoration-color: #000000\"> </span><span style=\"color: #00ff00; text-decoration-color: #00ff00; font-weight: bold\">09:45:59</span><span style=\"color: #000000; text-decoration-color: #000000\">.</span><span style=\"color: #008080; text-decoration-color: #008080; font-weight: bold\">269018</span>                                                         \n",
       "         <span style=\"color: #000000; text-decoration-color: #000000\">&lt;</span><span style=\"color: #800080; text-decoration-color: #800080\">/</span><span style=\"color: #ff00ff; text-decoration-color: #ff00ff\">instructions</span><span style=\"font-weight: bold\">&gt;</span>                                                                                           \n",
       "</pre>\n"
      ],
      "text/plain": [
       "\u001b[32mDEBUG   \u001b[0m To respond to the users message, you have access to the following tools:                                  \n",
       "         \u001b[1m{\u001b[0m                                                                                                         \n",
       "           \u001b[32m\"name\"\u001b[0m: \u001b[32m\"get_account_balance\"\u001b[0m,                                                                          \n",
       "           \u001b[32m\"description\"\u001b[0m: \u001b[32m\"Use this function to get the current account balance from the bank account \u001b[0m             \n",
       "         \u001b[32mmanager.\\n\\nArgs:\\n    account_id \u001b[0m\u001b[32m(\u001b[0m\u001b[32mstr\u001b[0m\u001b[32m)\u001b[0m\u001b[32m: The account id associated with the account. \u001b[0m                     \n",
       "         \u001b[32mRequired\\n\\nReturns:\\n    str: JSON: The current account balance in the account\"\u001b[0m,                         \n",
       "           \u001b[32m\"arguments\"\u001b[0m: \u001b[1m{\u001b[0m                                                                                          \n",
       "             \u001b[32m\"account_id\"\u001b[0m: \u001b[1m{\u001b[0m                                                                                       \n",
       "               \u001b[32m\"type\"\u001b[0m: \u001b[32m\"string\"\u001b[0m                                                                                    \n",
       "             \u001b[1m}\u001b[0m                                                                                                     \n",
       "           \u001b[1m}\u001b[0m,                                                                                                      \n",
       "           \u001b[32m\"returns\"\u001b[0m: \u001b[32m\"str\"\u001b[0m                                                                                        \n",
       "         \u001b[1m}\u001b[0m                                                                                                         \n",
       "         \u001b[1m{\u001b[0m                                                                                                         \n",
       "           \u001b[32m\"name\"\u001b[0m: \u001b[32m\"withdraw_money\"\u001b[0m,                                                                               \n",
       "           \u001b[32m\"description\"\u001b[0m: \u001b[32m\"Use this function to withdraw money from an account.\\n\\nArgs:\\n    account_id \u001b[0m\u001b[32m(\u001b[0m\u001b[32mstr\u001b[0m\u001b[32m)\u001b[0m\u001b[32m: The\u001b[0m\n",
       "         \u001b[32maccount id associated with the account. Required\\n    amount \u001b[0m\u001b[32m(\u001b[0m\u001b[32mint\u001b[0m\u001b[32m)\u001b[0m\u001b[32m: The amount to be withdrawn from the \u001b[0m  \n",
       "         \u001b[32maccount. Required\\n\\nReturns:\\n    str: JSON The withdrawal status and corresponding transaction\"\u001b[0m,        \n",
       "           \u001b[32m\"arguments\"\u001b[0m: \u001b[1m{\u001b[0m                                                                                          \n",
       "             \u001b[32m\"account_id\"\u001b[0m: \u001b[1m{\u001b[0m                                                                                       \n",
       "               \u001b[32m\"type\"\u001b[0m: \u001b[32m\"string\"\u001b[0m                                                                                    \n",
       "             \u001b[1m}\u001b[0m,                                                                                                    \n",
       "             \u001b[32m\"amount\"\u001b[0m: \u001b[1m{\u001b[0m                                                                                           \n",
       "               \u001b[32m\"type\"\u001b[0m: \u001b[32m\"number\"\u001b[0m                                                                                    \n",
       "             \u001b[1m}\u001b[0m                                                                                                     \n",
       "           \u001b[1m}\u001b[0m,                                                                                                      \n",
       "           \u001b[32m\"returns\"\u001b[0m: \u001b[32m\"str\"\u001b[0m                                                                                        \n",
       "         \u001b[1m}\u001b[0m                                                                                                         \n",
       "         \u001b[1m{\u001b[0m                                                                                                         \n",
       "           \u001b[32m\"name\"\u001b[0m: \u001b[32m\"get_bank_statement\"\u001b[0m,                                                                           \n",
       "           \u001b[32m\"description\"\u001b[0m: \u001b[32m\"Use this function to get the bank statement to reflect user activity on their \u001b[0m          \n",
       "         \u001b[32maccount.\\n\\nArgs:\\n    account_id \u001b[0m\u001b[32m(\u001b[0m\u001b[32mstr\u001b[0m\u001b[32m)\u001b[0m\u001b[32m: The account id associated with the account. Required\\n    \u001b[0m       \n",
       "         \u001b[32mn_days_ago \u001b[0m\u001b[32m(\u001b[0m\u001b[32mOptional\u001b[0m\u001b[32m[\u001b[0m\u001b[32mint\u001b[0m\u001b[32m]\u001b[0m\u001b[32m)\u001b[0m\u001b[32m: The number of days ago. Optional\\n    n_hours_ago \u001b[0m\u001b[32m(\u001b[0m\u001b[32mOptional\u001b[0m\u001b[32m[\u001b[0m\u001b[32mint\u001b[0m\u001b[32m]\u001b[0m\u001b[32m)\u001b[0m\u001b[32m: The number \u001b[0m\n",
       "         \u001b[32mof hours ago. Optional\\n    start_date \u001b[0m\u001b[32m(\u001b[0m\u001b[32mOptional\u001b[0m\u001b[32m[\u001b[0m\u001b[32mstr\u001b[0m\u001b[32m]\u001b[0m\u001b[32m)\u001b[0m\u001b[32m: The start date for the historical transactions. \u001b[0m  \n",
       "         \u001b[32mOptional\\n    end_date \u001b[0m\u001b[32m(\u001b[0m\u001b[32mOptional\u001b[0m\u001b[32m[\u001b[0m\u001b[32mstr\u001b[0m\u001b[32m]\u001b[0m\u001b[32m)\u001b[0m\u001b[32m: The End date for the historical transactions. \u001b[0m                    \n",
       "         \u001b[32mOptional\\n\\nReturns:\\n    str: JSON: The bank statement\"\u001b[0m,                                                 \n",
       "           \u001b[32m\"arguments\"\u001b[0m: \u001b[1m{\u001b[0m                                                                                          \n",
       "             \u001b[32m\"account_id\"\u001b[0m: \u001b[1m{\u001b[0m                                                                                       \n",
       "               \u001b[32m\"type\"\u001b[0m: \u001b[32m\"string\"\u001b[0m                                                                                    \n",
       "             \u001b[1m}\u001b[0m,                                                                                                    \n",
       "             \u001b[32m\"n_days_ago\"\u001b[0m: \u001b[1m{\u001b[0m                                                                                       \n",
       "               \u001b[32m\"type\"\u001b[0m: \u001b[1m[\u001b[0m                                                                                           \n",
       "                 \u001b[32m\"number\"\u001b[0m,                                                                                         \n",
       "                 \u001b[32m\"null\"\u001b[0m                                                                                            \n",
       "               \u001b[1m]\u001b[0m                                                                                                   \n",
       "             \u001b[1m}\u001b[0m,                                                                                                    \n",
       "             \u001b[32m\"n_hours_ago\"\u001b[0m: \u001b[1m{\u001b[0m                                                                                      \n",
       "               \u001b[32m\"type\"\u001b[0m: \u001b[1m[\u001b[0m                                                                                           \n",
       "                 \u001b[32m\"number\"\u001b[0m,                                                                                         \n",
       "                 \u001b[32m\"null\"\u001b[0m                                                                                            \n",
       "               \u001b[1m]\u001b[0m                                                                                                   \n",
       "             \u001b[1m}\u001b[0m,                                                                                                    \n",
       "             \u001b[32m\"start_date\"\u001b[0m: \u001b[1m{\u001b[0m                                                                                       \n",
       "               \u001b[32m\"type\"\u001b[0m: \u001b[1m[\u001b[0m                                                                                           \n",
       "                 \u001b[32m\"string\"\u001b[0m,                                                                                         \n",
       "                 \u001b[32m\"null\"\u001b[0m                                                                                            \n",
       "               \u001b[1m]\u001b[0m                                                                                                   \n",
       "             \u001b[1m}\u001b[0m,                                                                                                    \n",
       "             \u001b[32m\"end_date\"\u001b[0m: \u001b[1m{\u001b[0m                                                                                         \n",
       "               \u001b[32m\"type\"\u001b[0m: \u001b[1m[\u001b[0m                                                                                           \n",
       "                 \u001b[32m\"string\"\u001b[0m,                                                                                         \n",
       "                 \u001b[32m\"null\"\u001b[0m                                                                                            \n",
       "               \u001b[1m]\u001b[0m                                                                                                   \n",
       "             \u001b[1m}\u001b[0m                                                                                                     \n",
       "           \u001b[1m}\u001b[0m,                                                                                                      \n",
       "           \u001b[32m\"returns\"\u001b[0m: \u001b[32m\"str\"\u001b[0m                                                                                        \n",
       "         \u001b[1m}\u001b[0m                                                                                                         \n",
       "                                                                                                                   \n",
       "                                                                                                                   \n",
       "         You must follow these instructions carefully:                                                             \n",
       "         \u001b[1m<\u001b[0m\u001b[1;95minstructions\u001b[0m\u001b[39m>\u001b[0m                                                                                            \n",
       "         \u001b[1;36m1\u001b[0m\u001b[39m. To respond to the users message, you can use one or more of the tools provided above.\u001b[0m                  \n",
       "         \u001b[1;36m2\u001b[0m\u001b[39m. If you decide to use a tool, you must respond in the JSON format matching the following schema:\u001b[0m        \n",
       "         \u001b[1;39m{\u001b[0m                                                                                                         \n",
       "         \u001b[39m    \u001b[0m\u001b[32m\"tool_calls\"\u001b[0m\u001b[39m: \u001b[0m\u001b[1;39m[\u001b[0m\u001b[1;39m{\u001b[0m                                                                                      \n",
       "         \u001b[39m        \u001b[0m\u001b[32m\"name\"\u001b[0m\u001b[39m: \u001b[0m\u001b[32m\"<name of the selected tool>\"\u001b[0m\u001b[39m,\u001b[0m                                                            \n",
       "         \u001b[39m        \u001b[0m\u001b[32m\"arguments\"\u001b[0m\u001b[39m: <parameters for the selected tool, matching the tool's JSON schema\u001b[0m                   \n",
       "         \u001b[39m    \u001b[0m\u001b[1;39m}\u001b[0m\u001b[1;39m]\u001b[0m                                                                                                    \n",
       "         \u001b[1;39m}\u001b[0m\u001b[39m                    \u001b[0m                                                                                     \n",
       "         \u001b[1;36m3\u001b[0m\u001b[39m. To use a tool, just respond with the JSON matching the schema. Nothing else. Do not add any additional \u001b[0m\n",
       "         \u001b[39mnotes or explanations\u001b[0m                                                                                     \n",
       "         \u001b[1;36m4\u001b[0m\u001b[39m. After you use a tool, the next message you get will contain the result of the tool call.\u001b[0m               \n",
       "         \u001b[1;36m5\u001b[0m\u001b[39m. REMEMBER: To use a tool, you must respond only in JSON format.\u001b[0m                                         \n",
       "         \u001b[1;36m6\u001b[0m\u001b[39m. After you use a tool and receive the result back, respond regularly to answer the users question.\u001b[0m      \n",
       "         \u001b[1;36m7\u001b[0m\u001b[39m. Use markdown to format your answers.\u001b[0m                                                                   \n",
       "         \u001b[1;36m8\u001b[0m\u001b[39m. The current time is \u001b[0m\u001b[1;36m2024\u001b[0m\u001b[39m-\u001b[0m\u001b[1;36m07\u001b[0m\u001b[39m-\u001b[0m\u001b[1;36m02\u001b[0m\u001b[39m \u001b[0m\u001b[1;92m09:45:59\u001b[0m\u001b[39m.\u001b[0m\u001b[1;36m269018\u001b[0m                                                         \n",
       "         \u001b[39m<\u001b[0m\u001b[35m/\u001b[0m\u001b[95minstructions\u001b[0m\u001b[1m>\u001b[0m                                                                                           \n"
      ]
     },
     "metadata": {},
     "output_type": "display_data"
    },
    {
     "data": {
      "text/html": [
       "<pre style=\"white-space:pre;overflow-x:auto;line-height:normal;font-family:Menlo,'DejaVu Sans Mono',consolas,'Courier New',monospace\"><span style=\"color: #008000; text-decoration-color: #008000\">DEBUG   </span> ============== user ==============                                                                        \n",
       "</pre>\n"
      ],
      "text/plain": [
       "\u001b[32mDEBUG   \u001b[0m ============== user ==============                                                                        \n"
      ]
     },
     "metadata": {},
     "output_type": "display_data"
    },
    {
     "data": {
      "text/html": [
       "<pre style=\"white-space:pre;overflow-x:auto;line-height:normal;font-family:Menlo,'DejaVu Sans Mono',consolas,'Courier New',monospace\"><span style=\"color: #008000; text-decoration-color: #008000\">DEBUG   </span> Find the bank statement in account with id <span style=\"color: #008080; text-decoration-color: #008080; font-weight: bold\">1</span> for the last <span style=\"color: #008080; text-decoration-color: #008080; font-weight: bold\">5</span> hours                                         \n",
       "</pre>\n"
      ],
      "text/plain": [
       "\u001b[32mDEBUG   \u001b[0m Find the bank statement in account with id \u001b[1;36m1\u001b[0m for the last \u001b[1;36m5\u001b[0m hours                                         \n"
      ]
     },
     "metadata": {},
     "output_type": "display_data"
    },
    {
     "data": {
      "text/html": [
       "<pre style=\"white-space:pre;overflow-x:auto;line-height:normal;font-family:Menlo,'DejaVu Sans Mono',consolas,'Courier New',monospace\"><span style=\"color: #008000; text-decoration-color: #008000\">DEBUG   </span> Time to generate response: <span style=\"color: #008080; text-decoration-color: #008080; font-weight: bold\">5.</span>0021s                                                                        \n",
       "</pre>\n"
      ],
      "text/plain": [
       "\u001b[32mDEBUG   \u001b[0m Time to generate response: \u001b[1;36m5.\u001b[0m0021s                                                                        \n"
      ]
     },
     "metadata": {},
     "output_type": "display_data"
    },
    {
     "data": {
      "text/html": [
       "<pre style=\"white-space:pre;overflow-x:auto;line-height:normal;font-family:Menlo,'DejaVu Sans Mono',consolas,'Courier New',monospace\"><span style=\"color: #008000; text-decoration-color: #008000\">DEBUG   </span> Building tool calls from <span style=\"font-weight: bold\">[{</span><span style=\"color: #008000; text-decoration-color: #008000\">'name'</span>: <span style=\"color: #008000; text-decoration-color: #008000\">'get_bank_statement'</span>, <span style=\"color: #008000; text-decoration-color: #008000\">'arguments'</span>: <span style=\"font-weight: bold\">{</span><span style=\"color: #008000; text-decoration-color: #008000\">'account_id'</span>: <span style=\"color: #008000; text-decoration-color: #008000\">'1'</span>, <span style=\"color: #008000; text-decoration-color: #008000\">'n_hours_ago'</span>:  \n",
       "         <span style=\"color: #008080; text-decoration-color: #008080; font-weight: bold\">5</span>, <span style=\"color: #008000; text-decoration-color: #008000\">'start_date'</span>: <span style=\"color: #800080; text-decoration-color: #800080; font-style: italic\">None</span>, <span style=\"color: #008000; text-decoration-color: #008000\">'end_date'</span>: <span style=\"color: #800080; text-decoration-color: #800080; font-style: italic\">None</span><span style=\"font-weight: bold\">}}]</span>                                                                \n",
       "</pre>\n"
      ],
      "text/plain": [
       "\u001b[32mDEBUG   \u001b[0m Building tool calls from \u001b[1m[\u001b[0m\u001b[1m{\u001b[0m\u001b[32m'name'\u001b[0m: \u001b[32m'get_bank_statement'\u001b[0m, \u001b[32m'arguments'\u001b[0m: \u001b[1m{\u001b[0m\u001b[32m'account_id'\u001b[0m: \u001b[32m'1'\u001b[0m, \u001b[32m'n_hours_ago'\u001b[0m:  \n",
       "         \u001b[1;36m5\u001b[0m, \u001b[32m'start_date'\u001b[0m: \u001b[3;35mNone\u001b[0m, \u001b[32m'end_date'\u001b[0m: \u001b[3;35mNone\u001b[0m\u001b[1m}\u001b[0m\u001b[1m}\u001b[0m\u001b[1m]\u001b[0m                                                                \n"
      ]
     },
     "metadata": {},
     "output_type": "display_data"
    },
    {
     "data": {
      "text/html": [
       "<pre style=\"white-space:pre;overflow-x:auto;line-height:normal;font-family:Menlo,'DejaVu Sans Mono',consolas,'Courier New',monospace\"><span style=\"color: #008000; text-decoration-color: #008000\">DEBUG   </span> ============== assistant ==============                                                                   \n",
       "</pre>\n"
      ],
      "text/plain": [
       "\u001b[32mDEBUG   \u001b[0m ============== assistant ==============                                                                   \n"
      ]
     },
     "metadata": {},
     "output_type": "display_data"
    },
    {
     "data": {
      "text/html": [
       "<pre style=\"white-space:pre;overflow-x:auto;line-height:normal;font-family:Menlo,'DejaVu Sans Mono',consolas,'Courier New',monospace\"><span style=\"color: #008000; text-decoration-color: #008000\">DEBUG   </span> <span style=\"font-weight: bold\">{</span>                                                                                                         \n",
       "             <span style=\"color: #008000; text-decoration-color: #008000\">\"tool_calls\"</span>: <span style=\"font-weight: bold\">[</span>                                                                                       \n",
       "                 <span style=\"font-weight: bold\">{</span>                                                                                                 \n",
       "                     <span style=\"color: #008000; text-decoration-color: #008000\">\"name\"</span>: <span style=\"color: #008000; text-decoration-color: #008000\">\"get_bank_statement\"</span>,                                                                 \n",
       "                     <span style=\"color: #008000; text-decoration-color: #008000\">\"arguments\"</span>: <span style=\"font-weight: bold\">{</span>                                                                                \n",
       "                         <span style=\"color: #008000; text-decoration-color: #008000\">\"account_id\"</span>: <span style=\"color: #008000; text-decoration-color: #008000\">\"1\"</span>,                                                                        \n",
       "                         <span style=\"color: #008000; text-decoration-color: #008000\">\"n_hours_ago\"</span>: <span style=\"color: #008080; text-decoration-color: #008080; font-weight: bold\">5</span>,                                                                         \n",
       "                         <span style=\"color: #008000; text-decoration-color: #008000\">\"start_date\"</span>: null,                                                                       \n",
       "                         <span style=\"color: #008000; text-decoration-color: #008000\">\"end_date\"</span>: null                                                                          \n",
       "                     <span style=\"font-weight: bold\">}</span>                                                                                             \n",
       "                 <span style=\"font-weight: bold\">}</span>                                                                                                 \n",
       "             <span style=\"font-weight: bold\">]</span>                                                                                                     \n",
       "         <span style=\"font-weight: bold\">}</span>                                                                                                         \n",
       "</pre>\n"
      ],
      "text/plain": [
       "\u001b[32mDEBUG   \u001b[0m \u001b[1m{\u001b[0m                                                                                                         \n",
       "             \u001b[32m\"tool_calls\"\u001b[0m: \u001b[1m[\u001b[0m                                                                                       \n",
       "                 \u001b[1m{\u001b[0m                                                                                                 \n",
       "                     \u001b[32m\"name\"\u001b[0m: \u001b[32m\"get_bank_statement\"\u001b[0m,                                                                 \n",
       "                     \u001b[32m\"arguments\"\u001b[0m: \u001b[1m{\u001b[0m                                                                                \n",
       "                         \u001b[32m\"account_id\"\u001b[0m: \u001b[32m\"1\"\u001b[0m,                                                                        \n",
       "                         \u001b[32m\"n_hours_ago\"\u001b[0m: \u001b[1;36m5\u001b[0m,                                                                         \n",
       "                         \u001b[32m\"start_date\"\u001b[0m: null,                                                                       \n",
       "                         \u001b[32m\"end_date\"\u001b[0m: null                                                                          \n",
       "                     \u001b[1m}\u001b[0m                                                                                             \n",
       "                 \u001b[1m}\u001b[0m                                                                                                 \n",
       "             \u001b[1m]\u001b[0m                                                                                                     \n",
       "         \u001b[1m}\u001b[0m                                                                                                         \n"
      ]
     },
     "metadata": {},
     "output_type": "display_data"
    },
    {
     "data": {
      "text/html": [
       "<pre style=\"white-space:pre;overflow-x:auto;line-height:normal;font-family:Menlo,'DejaVu Sans Mono',consolas,'Courier New',monospace\"><span style=\"color: #008000; text-decoration-color: #008000\">DEBUG   </span> Tool Calls: <span style=\"font-weight: bold\">[</span>                                                                                             \n",
       "           <span style=\"font-weight: bold\">{</span>                                                                                                       \n",
       "             <span style=\"color: #008000; text-decoration-color: #008000\">\"type\"</span>: <span style=\"color: #008000; text-decoration-color: #008000\">\"function\"</span>,                                                                                   \n",
       "             <span style=\"color: #008000; text-decoration-color: #008000\">\"function\"</span>: <span style=\"font-weight: bold\">{</span>                                                                                         \n",
       "               <span style=\"color: #008000; text-decoration-color: #008000\">\"name\"</span>: <span style=\"color: #008000; text-decoration-color: #008000\">\"get_bank_statement\"</span>,                                                                       \n",
       "               <span style=\"color: #008000; text-decoration-color: #008000\">\"arguments\"</span>: <span style=\"color: #008000; text-decoration-color: #008000\">\"{\\\"account_id\\\": \\\"1\\\", \\\"n_hours_ago\\\": 5, \\\"start_date\\\": null, \\\"end_date\\\": null}\"</span>\n",
       "             <span style=\"font-weight: bold\">}</span>                                                                                                     \n",
       "           <span style=\"font-weight: bold\">}</span>                                                                                                       \n",
       "         <span style=\"font-weight: bold\">]</span>                                                                                                         \n",
       "</pre>\n"
      ],
      "text/plain": [
       "\u001b[32mDEBUG   \u001b[0m Tool Calls: \u001b[1m[\u001b[0m                                                                                             \n",
       "           \u001b[1m{\u001b[0m                                                                                                       \n",
       "             \u001b[32m\"type\"\u001b[0m: \u001b[32m\"function\"\u001b[0m,                                                                                   \n",
       "             \u001b[32m\"function\"\u001b[0m: \u001b[1m{\u001b[0m                                                                                         \n",
       "               \u001b[32m\"name\"\u001b[0m: \u001b[32m\"get_bank_statement\"\u001b[0m,                                                                       \n",
       "               \u001b[32m\"arguments\"\u001b[0m: \u001b[32m\"\u001b[0m\u001b[32m{\u001b[0m\u001b[32m\\\"account_id\\\": \\\"1\\\", \\\"n_hours_ago\\\": 5, \\\"start_date\\\": null, \\\"end_date\\\": null\u001b[0m\u001b[32m}\u001b[0m\u001b[32m\"\u001b[0m\n",
       "             \u001b[1m}\u001b[0m                                                                                                     \n",
       "           \u001b[1m}\u001b[0m                                                                                                       \n",
       "         \u001b[1m]\u001b[0m                                                                                                         \n"
      ]
     },
     "metadata": {},
     "output_type": "display_data"
    },
    {
     "data": {
      "text/html": [
       "<pre style=\"white-space:pre;overflow-x:auto;line-height:normal;font-family:Menlo,'DejaVu Sans Mono',consolas,'Courier New',monospace\"><span style=\"color: #008000; text-decoration-color: #008000\">DEBUG   </span> Getting function get_bank_statement                                                                       \n",
       "</pre>\n"
      ],
      "text/plain": [
       "\u001b[32mDEBUG   \u001b[0m Getting function get_bank_statement                                                                       \n"
      ]
     },
     "metadata": {},
     "output_type": "display_data"
    },
    {
     "data": {
      "text/html": [
       "<pre style=\"white-space:pre;overflow-x:auto;line-height:normal;font-family:Menlo,'DejaVu Sans Mono',consolas,'Courier New',monospace\"><span style=\"color: #008000; text-decoration-color: #008000\">DEBUG   </span> Running: <span style=\"color: #800080; text-decoration-color: #800080; font-weight: bold\">get_bank_statement</span><span style=\"font-weight: bold\">(</span><span style=\"color: #808000; text-decoration-color: #808000\">account_id</span>=<span style=\"color: #008080; text-decoration-color: #008080; font-weight: bold\">1</span>, <span style=\"color: #808000; text-decoration-color: #808000\">n_hours_ago</span>=<span style=\"color: #008080; text-decoration-color: #008080; font-weight: bold\">5</span>, <span style=\"color: #808000; text-decoration-color: #808000\">start_date</span>=<span style=\"color: #800080; text-decoration-color: #800080; font-style: italic\">None</span>, <span style=\"color: #808000; text-decoration-color: #808000\">end_date</span>=<span style=\"color: #800080; text-decoration-color: #800080; font-style: italic\">None</span><span style=\"font-weight: bold\">)</span>                  \n",
       "</pre>\n"
      ],
      "text/plain": [
       "\u001b[32mDEBUG   \u001b[0m Running: \u001b[1;35mget_bank_statement\u001b[0m\u001b[1m(\u001b[0m\u001b[33maccount_id\u001b[0m=\u001b[1;36m1\u001b[0m, \u001b[33mn_hours_ago\u001b[0m=\u001b[1;36m5\u001b[0m, \u001b[33mstart_date\u001b[0m=\u001b[3;35mNone\u001b[0m, \u001b[33mend_date\u001b[0m=\u001b[3;35mNone\u001b[0m\u001b[1m)\u001b[0m                  \n"
      ]
     },
     "metadata": {},
     "output_type": "display_data"
    },
    {
     "name": "stdout",
     "output_type": "stream",
     "text": [
      "{'start_date': '02-07-2024 04:46:04', 'end_date': '02-07-2024 09:46:04'}\n",
      "Bank Statement for Account 1\n",
      "Period: 2024-07-02 04:46:04 - 2024-07-02 09:46:04\n",
      "Starting Balance: 0.0\n",
      "Ending Balance: 2812.9597340960213\n",
      "Transactions:\n",
      "  Transaction 3: Account 1 - transfer in - Amount: 248.76547085454925 - Date: 2024-07-02 09:43:16.380906\n",
      "  Transaction 6: Account 1 - transfer in - Amount: 156.0004493561658 - Date: 2024-07-02 09:43:18.381358\n",
      "  Transaction 9: Account 1 - transfer in - Amount: 272.46402826290966 - Date: 2024-07-02 09:43:19.381601\n",
      "  Transaction 10: Account 1 - withdrawal - Amount: 196.1201346789223 - Date: 2024-07-02 09:43:20.381758\n",
      "  Transaction 13: Account 1 - transfer in - Amount: 258.53032026263713 - Date: 2024-07-02 09:43:21.381947\n",
      "  Transaction 17: Account 1 - transfer in - Amount: 492.816680644318 - Date: 2024-07-02 09:43:24.382619\n",
      "  Transaction 20: Account 1 - transfer in - Amount: 381.67779475901114 - Date: 2024-07-02 09:43:25.382867\n",
      "  Transaction 23: Account 1 - transfer in - Amount: 196.64918453292358 - Date: 2024-07-02 09:43:27.383429\n",
      "  Transaction 24: Account 1 - deposit - Amount: 107.03827387170688 - Date: 2024-07-02 09:43:28.383594\n",
      "  Transaction 30: Account 1 - transfer in - Amount: 378.7741924952769 - Date: 2024-07-02 09:43:32.384572\n",
      "  Transaction 31: Account 1 - deposit - Amount: 207.57263164870733 - Date: 2024-07-02 09:43:34.385027\n",
      "  Transaction 35: Account 1 - transfer in - Amount: 148.83667203734672 - Date: 2024-07-02 09:43:36.385469\n",
      "  Transaction 38: Account 1 - transfer in - Amount: 147.31742703338318 - Date: 2024-07-02 09:43:37.385717\n",
      "  Transaction 43: Account 1 - transfer in - Amount: 411.82342953356 - Date: 2024-07-02 09:43:40.386350\n",
      "  Transaction 45: Account 1 - withdrawal - Amount: 199.59334325877614 - Date: 2024-07-02 09:43:42.386836\n",
      "  Transaction 46: Account 1 - transfer out - Amount: 199.59334325877614 - Date: 2024-07-02 09:43:42.386889\n",
      "  Transaction 49: Account 1 - deposit - Amount: 118.51040886271932 - Date: 2024-07-02 09:43:44.387205\n",
      "  Transaction 50: Account 1 - transfer out - Amount: 118.51040886271932 - Date: 2024-07-02 09:43:44.387262\n",
      "\n"
     ]
    },
    {
     "data": {
      "text/html": [
       "<pre style=\"white-space:pre;overflow-x:auto;line-height:normal;font-family:Menlo,'DejaVu Sans Mono',consolas,'Courier New',monospace\"><span style=\"color: #008000; text-decoration-color: #008000\">DEBUG   </span> ---------- Ollama Response Start ----------                                                               \n",
       "</pre>\n"
      ],
      "text/plain": [
       "\u001b[32mDEBUG   \u001b[0m ---------- Ollama Response Start ----------                                                               \n"
      ]
     },
     "metadata": {},
     "output_type": "display_data"
    },
    {
     "data": {
      "text/html": [
       "<pre style=\"white-space:pre;overflow-x:auto;line-height:normal;font-family:Menlo,'DejaVu Sans Mono',consolas,'Courier New',monospace\"><span style=\"color: #008000; text-decoration-color: #008000\">DEBUG   </span> ============== system ==============                                                                      \n",
       "</pre>\n"
      ],
      "text/plain": [
       "\u001b[32mDEBUG   \u001b[0m ============== system ==============                                                                      \n"
      ]
     },
     "metadata": {},
     "output_type": "display_data"
    },
    {
     "data": {
      "text/html": [
       "<pre style=\"white-space:pre;overflow-x:auto;line-height:normal;font-family:Menlo,'DejaVu Sans Mono',consolas,'Courier New',monospace\"><span style=\"color: #008000; text-decoration-color: #008000\">DEBUG   </span> To respond to the users message, you have access to the following tools:                                  \n",
       "         <span style=\"font-weight: bold\">{</span>                                                                                                         \n",
       "           <span style=\"color: #008000; text-decoration-color: #008000\">\"name\"</span>: <span style=\"color: #008000; text-decoration-color: #008000\">\"get_account_balance\"</span>,                                                                          \n",
       "           <span style=\"color: #008000; text-decoration-color: #008000\">\"description\"</span>: <span style=\"color: #008000; text-decoration-color: #008000\">\"Use this function to get the current account balance from the bank account </span>             \n",
       "         <span style=\"color: #008000; text-decoration-color: #008000\">manager.\\n\\nArgs:\\n    account_id (str): The account id associated with the account. </span>                     \n",
       "         <span style=\"color: #008000; text-decoration-color: #008000\">Required\\n\\nReturns:\\n    str: JSON: The current account balance in the account\"</span>,                         \n",
       "           <span style=\"color: #008000; text-decoration-color: #008000\">\"arguments\"</span>: <span style=\"font-weight: bold\">{</span>                                                                                          \n",
       "             <span style=\"color: #008000; text-decoration-color: #008000\">\"account_id\"</span>: <span style=\"font-weight: bold\">{</span>                                                                                       \n",
       "               <span style=\"color: #008000; text-decoration-color: #008000\">\"type\"</span>: <span style=\"color: #008000; text-decoration-color: #008000\">\"string\"</span>                                                                                    \n",
       "             <span style=\"font-weight: bold\">}</span>                                                                                                     \n",
       "           <span style=\"font-weight: bold\">}</span>,                                                                                                      \n",
       "           <span style=\"color: #008000; text-decoration-color: #008000\">\"returns\"</span>: <span style=\"color: #008000; text-decoration-color: #008000\">\"str\"</span>                                                                                        \n",
       "         <span style=\"font-weight: bold\">}</span>                                                                                                         \n",
       "         <span style=\"font-weight: bold\">{</span>                                                                                                         \n",
       "           <span style=\"color: #008000; text-decoration-color: #008000\">\"name\"</span>: <span style=\"color: #008000; text-decoration-color: #008000\">\"withdraw_money\"</span>,                                                                               \n",
       "           <span style=\"color: #008000; text-decoration-color: #008000\">\"description\"</span>: <span style=\"color: #008000; text-decoration-color: #008000\">\"Use this function to withdraw money from an account.\\n\\nArgs:\\n    account_id (str): The</span>\n",
       "         <span style=\"color: #008000; text-decoration-color: #008000\">account id associated with the account. Required\\n    amount (int): The amount to be withdrawn from the </span>  \n",
       "         <span style=\"color: #008000; text-decoration-color: #008000\">account. Required\\n\\nReturns:\\n    str: JSON The withdrawal status and corresponding transaction\"</span>,        \n",
       "           <span style=\"color: #008000; text-decoration-color: #008000\">\"arguments\"</span>: <span style=\"font-weight: bold\">{</span>                                                                                          \n",
       "             <span style=\"color: #008000; text-decoration-color: #008000\">\"account_id\"</span>: <span style=\"font-weight: bold\">{</span>                                                                                       \n",
       "               <span style=\"color: #008000; text-decoration-color: #008000\">\"type\"</span>: <span style=\"color: #008000; text-decoration-color: #008000\">\"string\"</span>                                                                                    \n",
       "             <span style=\"font-weight: bold\">}</span>,                                                                                                    \n",
       "             <span style=\"color: #008000; text-decoration-color: #008000\">\"amount\"</span>: <span style=\"font-weight: bold\">{</span>                                                                                           \n",
       "               <span style=\"color: #008000; text-decoration-color: #008000\">\"type\"</span>: <span style=\"color: #008000; text-decoration-color: #008000\">\"number\"</span>                                                                                    \n",
       "             <span style=\"font-weight: bold\">}</span>                                                                                                     \n",
       "           <span style=\"font-weight: bold\">}</span>,                                                                                                      \n",
       "           <span style=\"color: #008000; text-decoration-color: #008000\">\"returns\"</span>: <span style=\"color: #008000; text-decoration-color: #008000\">\"str\"</span>                                                                                        \n",
       "         <span style=\"font-weight: bold\">}</span>                                                                                                         \n",
       "         <span style=\"font-weight: bold\">{</span>                                                                                                         \n",
       "           <span style=\"color: #008000; text-decoration-color: #008000\">\"name\"</span>: <span style=\"color: #008000; text-decoration-color: #008000\">\"get_bank_statement\"</span>,                                                                           \n",
       "           <span style=\"color: #008000; text-decoration-color: #008000\">\"description\"</span>: <span style=\"color: #008000; text-decoration-color: #008000\">\"Use this function to get the bank statement to reflect user activity on their </span>          \n",
       "         <span style=\"color: #008000; text-decoration-color: #008000\">account.\\n\\nArgs:\\n    account_id (str): The account id associated with the account. Required\\n    </span>       \n",
       "         <span style=\"color: #008000; text-decoration-color: #008000\">n_days_ago (Optional[int]): The number of days ago. Optional\\n    n_hours_ago (Optional[int]): The number </span>\n",
       "         <span style=\"color: #008000; text-decoration-color: #008000\">of hours ago. Optional\\n    start_date (Optional[str]): The start date for the historical transactions. </span>  \n",
       "         <span style=\"color: #008000; text-decoration-color: #008000\">Optional\\n    end_date (Optional[str]): The End date for the historical transactions. </span>                    \n",
       "         <span style=\"color: #008000; text-decoration-color: #008000\">Optional\\n\\nReturns:\\n    str: JSON: The bank statement\"</span>,                                                 \n",
       "           <span style=\"color: #008000; text-decoration-color: #008000\">\"arguments\"</span>: <span style=\"font-weight: bold\">{</span>                                                                                          \n",
       "             <span style=\"color: #008000; text-decoration-color: #008000\">\"account_id\"</span>: <span style=\"font-weight: bold\">{</span>                                                                                       \n",
       "               <span style=\"color: #008000; text-decoration-color: #008000\">\"type\"</span>: <span style=\"color: #008000; text-decoration-color: #008000\">\"string\"</span>                                                                                    \n",
       "             <span style=\"font-weight: bold\">}</span>,                                                                                                    \n",
       "             <span style=\"color: #008000; text-decoration-color: #008000\">\"n_days_ago\"</span>: <span style=\"font-weight: bold\">{</span>                                                                                       \n",
       "               <span style=\"color: #008000; text-decoration-color: #008000\">\"type\"</span>: <span style=\"font-weight: bold\">[</span>                                                                                           \n",
       "                 <span style=\"color: #008000; text-decoration-color: #008000\">\"number\"</span>,                                                                                         \n",
       "                 <span style=\"color: #008000; text-decoration-color: #008000\">\"null\"</span>                                                                                            \n",
       "               <span style=\"font-weight: bold\">]</span>                                                                                                   \n",
       "             <span style=\"font-weight: bold\">}</span>,                                                                                                    \n",
       "             <span style=\"color: #008000; text-decoration-color: #008000\">\"n_hours_ago\"</span>: <span style=\"font-weight: bold\">{</span>                                                                                      \n",
       "               <span style=\"color: #008000; text-decoration-color: #008000\">\"type\"</span>: <span style=\"font-weight: bold\">[</span>                                                                                           \n",
       "                 <span style=\"color: #008000; text-decoration-color: #008000\">\"number\"</span>,                                                                                         \n",
       "                 <span style=\"color: #008000; text-decoration-color: #008000\">\"null\"</span>                                                                                            \n",
       "               <span style=\"font-weight: bold\">]</span>                                                                                                   \n",
       "             <span style=\"font-weight: bold\">}</span>,                                                                                                    \n",
       "             <span style=\"color: #008000; text-decoration-color: #008000\">\"start_date\"</span>: <span style=\"font-weight: bold\">{</span>                                                                                       \n",
       "               <span style=\"color: #008000; text-decoration-color: #008000\">\"type\"</span>: <span style=\"font-weight: bold\">[</span>                                                                                           \n",
       "                 <span style=\"color: #008000; text-decoration-color: #008000\">\"string\"</span>,                                                                                         \n",
       "                 <span style=\"color: #008000; text-decoration-color: #008000\">\"null\"</span>                                                                                            \n",
       "               <span style=\"font-weight: bold\">]</span>                                                                                                   \n",
       "             <span style=\"font-weight: bold\">}</span>,                                                                                                    \n",
       "             <span style=\"color: #008000; text-decoration-color: #008000\">\"end_date\"</span>: <span style=\"font-weight: bold\">{</span>                                                                                         \n",
       "               <span style=\"color: #008000; text-decoration-color: #008000\">\"type\"</span>: <span style=\"font-weight: bold\">[</span>                                                                                           \n",
       "                 <span style=\"color: #008000; text-decoration-color: #008000\">\"string\"</span>,                                                                                         \n",
       "                 <span style=\"color: #008000; text-decoration-color: #008000\">\"null\"</span>                                                                                            \n",
       "               <span style=\"font-weight: bold\">]</span>                                                                                                   \n",
       "             <span style=\"font-weight: bold\">}</span>                                                                                                     \n",
       "           <span style=\"font-weight: bold\">}</span>,                                                                                                      \n",
       "           <span style=\"color: #008000; text-decoration-color: #008000\">\"returns\"</span>: <span style=\"color: #008000; text-decoration-color: #008000\">\"str\"</span>                                                                                        \n",
       "         <span style=\"font-weight: bold\">}</span>                                                                                                         \n",
       "                                                                                                                   \n",
       "                                                                                                                   \n",
       "         You must follow these instructions carefully:                                                             \n",
       "         <span style=\"font-weight: bold\">&lt;</span><span style=\"color: #ff00ff; text-decoration-color: #ff00ff; font-weight: bold\">instructions</span><span style=\"color: #000000; text-decoration-color: #000000\">&gt;</span>                                                                                            \n",
       "         <span style=\"color: #008080; text-decoration-color: #008080; font-weight: bold\">1</span><span style=\"color: #000000; text-decoration-color: #000000\">. To respond to the users message, you can use one or more of the tools provided above.</span>                  \n",
       "         <span style=\"color: #008080; text-decoration-color: #008080; font-weight: bold\">2</span><span style=\"color: #000000; text-decoration-color: #000000\">. If you decide to use a tool, you must respond in the JSON format matching the following schema:</span>        \n",
       "         <span style=\"color: #000000; text-decoration-color: #000000; font-weight: bold\">{</span>                                                                                                         \n",
       "         <span style=\"color: #000000; text-decoration-color: #000000\">    </span><span style=\"color: #008000; text-decoration-color: #008000\">\"tool_calls\"</span><span style=\"color: #000000; text-decoration-color: #000000\">: </span><span style=\"color: #000000; text-decoration-color: #000000; font-weight: bold\">[{</span>                                                                                      \n",
       "         <span style=\"color: #000000; text-decoration-color: #000000\">        </span><span style=\"color: #008000; text-decoration-color: #008000\">\"name\"</span><span style=\"color: #000000; text-decoration-color: #000000\">: </span><span style=\"color: #008000; text-decoration-color: #008000\">\"&lt;name of the selected tool&gt;\"</span><span style=\"color: #000000; text-decoration-color: #000000\">,</span>                                                            \n",
       "         <span style=\"color: #000000; text-decoration-color: #000000\">        </span><span style=\"color: #008000; text-decoration-color: #008000\">\"arguments\"</span><span style=\"color: #000000; text-decoration-color: #000000\">: &lt;parameters for the selected tool, matching the tool's JSON schema</span>                   \n",
       "         <span style=\"color: #000000; text-decoration-color: #000000\">    </span><span style=\"color: #000000; text-decoration-color: #000000; font-weight: bold\">}]</span>                                                                                                    \n",
       "         <span style=\"color: #000000; text-decoration-color: #000000; font-weight: bold\">}</span><span style=\"color: #000000; text-decoration-color: #000000\">                    </span>                                                                                     \n",
       "         <span style=\"color: #008080; text-decoration-color: #008080; font-weight: bold\">3</span><span style=\"color: #000000; text-decoration-color: #000000\">. To use a tool, just respond with the JSON matching the schema. Nothing else. Do not add any additional </span>\n",
       "         <span style=\"color: #000000; text-decoration-color: #000000\">notes or explanations</span>                                                                                     \n",
       "         <span style=\"color: #008080; text-decoration-color: #008080; font-weight: bold\">4</span><span style=\"color: #000000; text-decoration-color: #000000\">. After you use a tool, the next message you get will contain the result of the tool call.</span>               \n",
       "         <span style=\"color: #008080; text-decoration-color: #008080; font-weight: bold\">5</span><span style=\"color: #000000; text-decoration-color: #000000\">. REMEMBER: To use a tool, you must respond only in JSON format.</span>                                         \n",
       "         <span style=\"color: #008080; text-decoration-color: #008080; font-weight: bold\">6</span><span style=\"color: #000000; text-decoration-color: #000000\">. After you use a tool and receive the result back, respond regularly to answer the users question.</span>      \n",
       "         <span style=\"color: #008080; text-decoration-color: #008080; font-weight: bold\">7</span><span style=\"color: #000000; text-decoration-color: #000000\">. Use markdown to format your answers.</span>                                                                   \n",
       "         <span style=\"color: #008080; text-decoration-color: #008080; font-weight: bold\">8</span><span style=\"color: #000000; text-decoration-color: #000000\">. The current time is </span><span style=\"color: #008080; text-decoration-color: #008080; font-weight: bold\">2024</span><span style=\"color: #000000; text-decoration-color: #000000\">-</span><span style=\"color: #008080; text-decoration-color: #008080; font-weight: bold\">07</span><span style=\"color: #000000; text-decoration-color: #000000\">-</span><span style=\"color: #008080; text-decoration-color: #008080; font-weight: bold\">02</span><span style=\"color: #000000; text-decoration-color: #000000\"> </span><span style=\"color: #00ff00; text-decoration-color: #00ff00; font-weight: bold\">09:45:59</span><span style=\"color: #000000; text-decoration-color: #000000\">.</span><span style=\"color: #008080; text-decoration-color: #008080; font-weight: bold\">269018</span>                                                         \n",
       "         <span style=\"color: #000000; text-decoration-color: #000000\">&lt;</span><span style=\"color: #800080; text-decoration-color: #800080\">/</span><span style=\"color: #ff00ff; text-decoration-color: #ff00ff\">instructions</span><span style=\"font-weight: bold\">&gt;</span>                                                                                           \n",
       "</pre>\n"
      ],
      "text/plain": [
       "\u001b[32mDEBUG   \u001b[0m To respond to the users message, you have access to the following tools:                                  \n",
       "         \u001b[1m{\u001b[0m                                                                                                         \n",
       "           \u001b[32m\"name\"\u001b[0m: \u001b[32m\"get_account_balance\"\u001b[0m,                                                                          \n",
       "           \u001b[32m\"description\"\u001b[0m: \u001b[32m\"Use this function to get the current account balance from the bank account \u001b[0m             \n",
       "         \u001b[32mmanager.\\n\\nArgs:\\n    account_id \u001b[0m\u001b[32m(\u001b[0m\u001b[32mstr\u001b[0m\u001b[32m)\u001b[0m\u001b[32m: The account id associated with the account. \u001b[0m                     \n",
       "         \u001b[32mRequired\\n\\nReturns:\\n    str: JSON: The current account balance in the account\"\u001b[0m,                         \n",
       "           \u001b[32m\"arguments\"\u001b[0m: \u001b[1m{\u001b[0m                                                                                          \n",
       "             \u001b[32m\"account_id\"\u001b[0m: \u001b[1m{\u001b[0m                                                                                       \n",
       "               \u001b[32m\"type\"\u001b[0m: \u001b[32m\"string\"\u001b[0m                                                                                    \n",
       "             \u001b[1m}\u001b[0m                                                                                                     \n",
       "           \u001b[1m}\u001b[0m,                                                                                                      \n",
       "           \u001b[32m\"returns\"\u001b[0m: \u001b[32m\"str\"\u001b[0m                                                                                        \n",
       "         \u001b[1m}\u001b[0m                                                                                                         \n",
       "         \u001b[1m{\u001b[0m                                                                                                         \n",
       "           \u001b[32m\"name\"\u001b[0m: \u001b[32m\"withdraw_money\"\u001b[0m,                                                                               \n",
       "           \u001b[32m\"description\"\u001b[0m: \u001b[32m\"Use this function to withdraw money from an account.\\n\\nArgs:\\n    account_id \u001b[0m\u001b[32m(\u001b[0m\u001b[32mstr\u001b[0m\u001b[32m)\u001b[0m\u001b[32m: The\u001b[0m\n",
       "         \u001b[32maccount id associated with the account. Required\\n    amount \u001b[0m\u001b[32m(\u001b[0m\u001b[32mint\u001b[0m\u001b[32m)\u001b[0m\u001b[32m: The amount to be withdrawn from the \u001b[0m  \n",
       "         \u001b[32maccount. Required\\n\\nReturns:\\n    str: JSON The withdrawal status and corresponding transaction\"\u001b[0m,        \n",
       "           \u001b[32m\"arguments\"\u001b[0m: \u001b[1m{\u001b[0m                                                                                          \n",
       "             \u001b[32m\"account_id\"\u001b[0m: \u001b[1m{\u001b[0m                                                                                       \n",
       "               \u001b[32m\"type\"\u001b[0m: \u001b[32m\"string\"\u001b[0m                                                                                    \n",
       "             \u001b[1m}\u001b[0m,                                                                                                    \n",
       "             \u001b[32m\"amount\"\u001b[0m: \u001b[1m{\u001b[0m                                                                                           \n",
       "               \u001b[32m\"type\"\u001b[0m: \u001b[32m\"number\"\u001b[0m                                                                                    \n",
       "             \u001b[1m}\u001b[0m                                                                                                     \n",
       "           \u001b[1m}\u001b[0m,                                                                                                      \n",
       "           \u001b[32m\"returns\"\u001b[0m: \u001b[32m\"str\"\u001b[0m                                                                                        \n",
       "         \u001b[1m}\u001b[0m                                                                                                         \n",
       "         \u001b[1m{\u001b[0m                                                                                                         \n",
       "           \u001b[32m\"name\"\u001b[0m: \u001b[32m\"get_bank_statement\"\u001b[0m,                                                                           \n",
       "           \u001b[32m\"description\"\u001b[0m: \u001b[32m\"Use this function to get the bank statement to reflect user activity on their \u001b[0m          \n",
       "         \u001b[32maccount.\\n\\nArgs:\\n    account_id \u001b[0m\u001b[32m(\u001b[0m\u001b[32mstr\u001b[0m\u001b[32m)\u001b[0m\u001b[32m: The account id associated with the account. Required\\n    \u001b[0m       \n",
       "         \u001b[32mn_days_ago \u001b[0m\u001b[32m(\u001b[0m\u001b[32mOptional\u001b[0m\u001b[32m[\u001b[0m\u001b[32mint\u001b[0m\u001b[32m]\u001b[0m\u001b[32m)\u001b[0m\u001b[32m: The number of days ago. Optional\\n    n_hours_ago \u001b[0m\u001b[32m(\u001b[0m\u001b[32mOptional\u001b[0m\u001b[32m[\u001b[0m\u001b[32mint\u001b[0m\u001b[32m]\u001b[0m\u001b[32m)\u001b[0m\u001b[32m: The number \u001b[0m\n",
       "         \u001b[32mof hours ago. Optional\\n    start_date \u001b[0m\u001b[32m(\u001b[0m\u001b[32mOptional\u001b[0m\u001b[32m[\u001b[0m\u001b[32mstr\u001b[0m\u001b[32m]\u001b[0m\u001b[32m)\u001b[0m\u001b[32m: The start date for the historical transactions. \u001b[0m  \n",
       "         \u001b[32mOptional\\n    end_date \u001b[0m\u001b[32m(\u001b[0m\u001b[32mOptional\u001b[0m\u001b[32m[\u001b[0m\u001b[32mstr\u001b[0m\u001b[32m]\u001b[0m\u001b[32m)\u001b[0m\u001b[32m: The End date for the historical transactions. \u001b[0m                    \n",
       "         \u001b[32mOptional\\n\\nReturns:\\n    str: JSON: The bank statement\"\u001b[0m,                                                 \n",
       "           \u001b[32m\"arguments\"\u001b[0m: \u001b[1m{\u001b[0m                                                                                          \n",
       "             \u001b[32m\"account_id\"\u001b[0m: \u001b[1m{\u001b[0m                                                                                       \n",
       "               \u001b[32m\"type\"\u001b[0m: \u001b[32m\"string\"\u001b[0m                                                                                    \n",
       "             \u001b[1m}\u001b[0m,                                                                                                    \n",
       "             \u001b[32m\"n_days_ago\"\u001b[0m: \u001b[1m{\u001b[0m                                                                                       \n",
       "               \u001b[32m\"type\"\u001b[0m: \u001b[1m[\u001b[0m                                                                                           \n",
       "                 \u001b[32m\"number\"\u001b[0m,                                                                                         \n",
       "                 \u001b[32m\"null\"\u001b[0m                                                                                            \n",
       "               \u001b[1m]\u001b[0m                                                                                                   \n",
       "             \u001b[1m}\u001b[0m,                                                                                                    \n",
       "             \u001b[32m\"n_hours_ago\"\u001b[0m: \u001b[1m{\u001b[0m                                                                                      \n",
       "               \u001b[32m\"type\"\u001b[0m: \u001b[1m[\u001b[0m                                                                                           \n",
       "                 \u001b[32m\"number\"\u001b[0m,                                                                                         \n",
       "                 \u001b[32m\"null\"\u001b[0m                                                                                            \n",
       "               \u001b[1m]\u001b[0m                                                                                                   \n",
       "             \u001b[1m}\u001b[0m,                                                                                                    \n",
       "             \u001b[32m\"start_date\"\u001b[0m: \u001b[1m{\u001b[0m                                                                                       \n",
       "               \u001b[32m\"type\"\u001b[0m: \u001b[1m[\u001b[0m                                                                                           \n",
       "                 \u001b[32m\"string\"\u001b[0m,                                                                                         \n",
       "                 \u001b[32m\"null\"\u001b[0m                                                                                            \n",
       "               \u001b[1m]\u001b[0m                                                                                                   \n",
       "             \u001b[1m}\u001b[0m,                                                                                                    \n",
       "             \u001b[32m\"end_date\"\u001b[0m: \u001b[1m{\u001b[0m                                                                                         \n",
       "               \u001b[32m\"type\"\u001b[0m: \u001b[1m[\u001b[0m                                                                                           \n",
       "                 \u001b[32m\"string\"\u001b[0m,                                                                                         \n",
       "                 \u001b[32m\"null\"\u001b[0m                                                                                            \n",
       "               \u001b[1m]\u001b[0m                                                                                                   \n",
       "             \u001b[1m}\u001b[0m                                                                                                     \n",
       "           \u001b[1m}\u001b[0m,                                                                                                      \n",
       "           \u001b[32m\"returns\"\u001b[0m: \u001b[32m\"str\"\u001b[0m                                                                                        \n",
       "         \u001b[1m}\u001b[0m                                                                                                         \n",
       "                                                                                                                   \n",
       "                                                                                                                   \n",
       "         You must follow these instructions carefully:                                                             \n",
       "         \u001b[1m<\u001b[0m\u001b[1;95minstructions\u001b[0m\u001b[39m>\u001b[0m                                                                                            \n",
       "         \u001b[1;36m1\u001b[0m\u001b[39m. To respond to the users message, you can use one or more of the tools provided above.\u001b[0m                  \n",
       "         \u001b[1;36m2\u001b[0m\u001b[39m. If you decide to use a tool, you must respond in the JSON format matching the following schema:\u001b[0m        \n",
       "         \u001b[1;39m{\u001b[0m                                                                                                         \n",
       "         \u001b[39m    \u001b[0m\u001b[32m\"tool_calls\"\u001b[0m\u001b[39m: \u001b[0m\u001b[1;39m[\u001b[0m\u001b[1;39m{\u001b[0m                                                                                      \n",
       "         \u001b[39m        \u001b[0m\u001b[32m\"name\"\u001b[0m\u001b[39m: \u001b[0m\u001b[32m\"<name of the selected tool>\"\u001b[0m\u001b[39m,\u001b[0m                                                            \n",
       "         \u001b[39m        \u001b[0m\u001b[32m\"arguments\"\u001b[0m\u001b[39m: <parameters for the selected tool, matching the tool's JSON schema\u001b[0m                   \n",
       "         \u001b[39m    \u001b[0m\u001b[1;39m}\u001b[0m\u001b[1;39m]\u001b[0m                                                                                                    \n",
       "         \u001b[1;39m}\u001b[0m\u001b[39m                    \u001b[0m                                                                                     \n",
       "         \u001b[1;36m3\u001b[0m\u001b[39m. To use a tool, just respond with the JSON matching the schema. Nothing else. Do not add any additional \u001b[0m\n",
       "         \u001b[39mnotes or explanations\u001b[0m                                                                                     \n",
       "         \u001b[1;36m4\u001b[0m\u001b[39m. After you use a tool, the next message you get will contain the result of the tool call.\u001b[0m               \n",
       "         \u001b[1;36m5\u001b[0m\u001b[39m. REMEMBER: To use a tool, you must respond only in JSON format.\u001b[0m                                         \n",
       "         \u001b[1;36m6\u001b[0m\u001b[39m. After you use a tool and receive the result back, respond regularly to answer the users question.\u001b[0m      \n",
       "         \u001b[1;36m7\u001b[0m\u001b[39m. Use markdown to format your answers.\u001b[0m                                                                   \n",
       "         \u001b[1;36m8\u001b[0m\u001b[39m. The current time is \u001b[0m\u001b[1;36m2024\u001b[0m\u001b[39m-\u001b[0m\u001b[1;36m07\u001b[0m\u001b[39m-\u001b[0m\u001b[1;36m02\u001b[0m\u001b[39m \u001b[0m\u001b[1;92m09:45:59\u001b[0m\u001b[39m.\u001b[0m\u001b[1;36m269018\u001b[0m                                                         \n",
       "         \u001b[39m<\u001b[0m\u001b[35m/\u001b[0m\u001b[95minstructions\u001b[0m\u001b[1m>\u001b[0m                                                                                           \n"
      ]
     },
     "metadata": {},
     "output_type": "display_data"
    },
    {
     "data": {
      "text/html": [
       "<pre style=\"white-space:pre;overflow-x:auto;line-height:normal;font-family:Menlo,'DejaVu Sans Mono',consolas,'Courier New',monospace\"><span style=\"color: #008000; text-decoration-color: #008000\">DEBUG   </span> ============== user ==============                                                                        \n",
       "</pre>\n"
      ],
      "text/plain": [
       "\u001b[32mDEBUG   \u001b[0m ============== user ==============                                                                        \n"
      ]
     },
     "metadata": {},
     "output_type": "display_data"
    },
    {
     "data": {
      "text/html": [
       "<pre style=\"white-space:pre;overflow-x:auto;line-height:normal;font-family:Menlo,'DejaVu Sans Mono',consolas,'Courier New',monospace\"><span style=\"color: #008000; text-decoration-color: #008000\">DEBUG   </span> Find the bank statement in account with id <span style=\"color: #008080; text-decoration-color: #008080; font-weight: bold\">1</span> for the last <span style=\"color: #008080; text-decoration-color: #008080; font-weight: bold\">5</span> hours                                         \n",
       "</pre>\n"
      ],
      "text/plain": [
       "\u001b[32mDEBUG   \u001b[0m Find the bank statement in account with id \u001b[1;36m1\u001b[0m for the last \u001b[1;36m5\u001b[0m hours                                         \n"
      ]
     },
     "metadata": {},
     "output_type": "display_data"
    },
    {
     "data": {
      "text/html": [
       "<pre style=\"white-space:pre;overflow-x:auto;line-height:normal;font-family:Menlo,'DejaVu Sans Mono',consolas,'Courier New',monospace\"><span style=\"color: #008000; text-decoration-color: #008000\">DEBUG   </span> ============== assistant ==============                                                                   \n",
       "</pre>\n"
      ],
      "text/plain": [
       "\u001b[32mDEBUG   \u001b[0m ============== assistant ==============                                                                   \n"
      ]
     },
     "metadata": {},
     "output_type": "display_data"
    },
    {
     "data": {
      "text/html": [
       "<pre style=\"white-space:pre;overflow-x:auto;line-height:normal;font-family:Menlo,'DejaVu Sans Mono',consolas,'Courier New',monospace\"><span style=\"color: #008000; text-decoration-color: #008000\">DEBUG   </span> <span style=\"font-weight: bold\">{</span>                                                                                                         \n",
       "             <span style=\"color: #008000; text-decoration-color: #008000\">\"tool_calls\"</span>: <span style=\"font-weight: bold\">[</span>                                                                                       \n",
       "                 <span style=\"font-weight: bold\">{</span>                                                                                                 \n",
       "                     <span style=\"color: #008000; text-decoration-color: #008000\">\"name\"</span>: <span style=\"color: #008000; text-decoration-color: #008000\">\"get_bank_statement\"</span>,                                                                 \n",
       "                     <span style=\"color: #008000; text-decoration-color: #008000\">\"arguments\"</span>: <span style=\"font-weight: bold\">{</span>                                                                                \n",
       "                         <span style=\"color: #008000; text-decoration-color: #008000\">\"account_id\"</span>: <span style=\"color: #008000; text-decoration-color: #008000\">\"1\"</span>,                                                                        \n",
       "                         <span style=\"color: #008000; text-decoration-color: #008000\">\"n_hours_ago\"</span>: <span style=\"color: #008080; text-decoration-color: #008080; font-weight: bold\">5</span>,                                                                         \n",
       "                         <span style=\"color: #008000; text-decoration-color: #008000\">\"start_date\"</span>: null,                                                                       \n",
       "                         <span style=\"color: #008000; text-decoration-color: #008000\">\"end_date\"</span>: null                                                                          \n",
       "                     <span style=\"font-weight: bold\">}</span>                                                                                             \n",
       "                 <span style=\"font-weight: bold\">}</span>                                                                                                 \n",
       "             <span style=\"font-weight: bold\">]</span>                                                                                                     \n",
       "         <span style=\"font-weight: bold\">}</span>                                                                                                         \n",
       "</pre>\n"
      ],
      "text/plain": [
       "\u001b[32mDEBUG   \u001b[0m \u001b[1m{\u001b[0m                                                                                                         \n",
       "             \u001b[32m\"tool_calls\"\u001b[0m: \u001b[1m[\u001b[0m                                                                                       \n",
       "                 \u001b[1m{\u001b[0m                                                                                                 \n",
       "                     \u001b[32m\"name\"\u001b[0m: \u001b[32m\"get_bank_statement\"\u001b[0m,                                                                 \n",
       "                     \u001b[32m\"arguments\"\u001b[0m: \u001b[1m{\u001b[0m                                                                                \n",
       "                         \u001b[32m\"account_id\"\u001b[0m: \u001b[32m\"1\"\u001b[0m,                                                                        \n",
       "                         \u001b[32m\"n_hours_ago\"\u001b[0m: \u001b[1;36m5\u001b[0m,                                                                         \n",
       "                         \u001b[32m\"start_date\"\u001b[0m: null,                                                                       \n",
       "                         \u001b[32m\"end_date\"\u001b[0m: null                                                                          \n",
       "                     \u001b[1m}\u001b[0m                                                                                             \n",
       "                 \u001b[1m}\u001b[0m                                                                                                 \n",
       "             \u001b[1m]\u001b[0m                                                                                                     \n",
       "         \u001b[1m}\u001b[0m                                                                                                         \n"
      ]
     },
     "metadata": {},
     "output_type": "display_data"
    },
    {
     "data": {
      "text/html": [
       "<pre style=\"white-space:pre;overflow-x:auto;line-height:normal;font-family:Menlo,'DejaVu Sans Mono',consolas,'Courier New',monospace\"><span style=\"color: #008000; text-decoration-color: #008000\">DEBUG   </span> Tool Calls: <span style=\"font-weight: bold\">[</span>                                                                                             \n",
       "           <span style=\"font-weight: bold\">{</span>                                                                                                       \n",
       "             <span style=\"color: #008000; text-decoration-color: #008000\">\"type\"</span>: <span style=\"color: #008000; text-decoration-color: #008000\">\"function\"</span>,                                                                                   \n",
       "             <span style=\"color: #008000; text-decoration-color: #008000\">\"function\"</span>: <span style=\"font-weight: bold\">{</span>                                                                                         \n",
       "               <span style=\"color: #008000; text-decoration-color: #008000\">\"name\"</span>: <span style=\"color: #008000; text-decoration-color: #008000\">\"get_bank_statement\"</span>,                                                                       \n",
       "               <span style=\"color: #008000; text-decoration-color: #008000\">\"arguments\"</span>: <span style=\"color: #008000; text-decoration-color: #008000\">\"{\\\"account_id\\\": \\\"1\\\", \\\"n_hours_ago\\\": 5, \\\"start_date\\\": null, \\\"end_date\\\": null}\"</span>\n",
       "             <span style=\"font-weight: bold\">}</span>                                                                                                     \n",
       "           <span style=\"font-weight: bold\">}</span>                                                                                                       \n",
       "         <span style=\"font-weight: bold\">]</span>                                                                                                         \n",
       "</pre>\n"
      ],
      "text/plain": [
       "\u001b[32mDEBUG   \u001b[0m Tool Calls: \u001b[1m[\u001b[0m                                                                                             \n",
       "           \u001b[1m{\u001b[0m                                                                                                       \n",
       "             \u001b[32m\"type\"\u001b[0m: \u001b[32m\"function\"\u001b[0m,                                                                                   \n",
       "             \u001b[32m\"function\"\u001b[0m: \u001b[1m{\u001b[0m                                                                                         \n",
       "               \u001b[32m\"name\"\u001b[0m: \u001b[32m\"get_bank_statement\"\u001b[0m,                                                                       \n",
       "               \u001b[32m\"arguments\"\u001b[0m: \u001b[32m\"\u001b[0m\u001b[32m{\u001b[0m\u001b[32m\\\"account_id\\\": \\\"1\\\", \\\"n_hours_ago\\\": 5, \\\"start_date\\\": null, \\\"end_date\\\": null\u001b[0m\u001b[32m}\u001b[0m\u001b[32m\"\u001b[0m\n",
       "             \u001b[1m}\u001b[0m                                                                                                     \n",
       "           \u001b[1m}\u001b[0m                                                                                                       \n",
       "         \u001b[1m]\u001b[0m                                                                                                         \n"
      ]
     },
     "metadata": {},
     "output_type": "display_data"
    },
    {
     "data": {
      "text/html": [
       "<pre style=\"white-space:pre;overflow-x:auto;line-height:normal;font-family:Menlo,'DejaVu Sans Mono',consolas,'Courier New',monospace\"><span style=\"color: #008000; text-decoration-color: #008000\">DEBUG   </span> ============== user ==============                                                                        \n",
       "</pre>\n"
      ],
      "text/plain": [
       "\u001b[32mDEBUG   \u001b[0m ============== user ==============                                                                        \n"
      ]
     },
     "metadata": {},
     "output_type": "display_data"
    },
    {
     "data": {
      "text/html": [
       "<pre style=\"white-space:pre;overflow-x:auto;line-height:normal;font-family:Menlo,'DejaVu Sans Mono',consolas,'Courier New',monospace\"><span style=\"color: #008000; text-decoration-color: #008000\">DEBUG   </span> <span style=\"font-weight: bold\">{</span><span style=\"color: #008000; text-decoration-color: #008000\">\"account_id\"</span>: <span style=\"color: #008000; text-decoration-color: #008000\">\"1\"</span>, <span style=\"color: #008000; text-decoration-color: #008000\">\"statement\"</span>: <span style=\"font-weight: bold\">{</span><span style=\"color: #008000; text-decoration-color: #008000\">\"account_id\"</span>: <span style=\"color: #008000; text-decoration-color: #008000\">\"1\"</span>, <span style=\"color: #008000; text-decoration-color: #008000\">\"start_date\"</span>: <span style=\"color: #008000; text-decoration-color: #008000\">\"02-07-2024 04:46:04\"</span>, <span style=\"color: #008000; text-decoration-color: #008000\">\"end_date\"</span>:     \n",
       "         <span style=\"color: #008000; text-decoration-color: #008000\">\"02-07-2024 09:46:04\"</span>, <span style=\"color: #008000; text-decoration-color: #008000\">\"start_balance\"</span>: <span style=\"color: #008080; text-decoration-color: #008080; font-weight: bold\">0.0</span>, <span style=\"color: #008000; text-decoration-color: #008000\">\"end_balance\"</span>: <span style=\"color: #008080; text-decoration-color: #008080; font-weight: bold\">2812.9597340960213</span>, <span style=\"color: #008000; text-decoration-color: #008000\">\"transactions\"</span>:           \n",
       "         <span style=\"font-weight: bold\">[{</span><span style=\"color: #008000; text-decoration-color: #008000\">\"transaction_id\"</span>: <span style=\"color: #008000; text-decoration-color: #008000\">\"3\"</span>, <span style=\"color: #008000; text-decoration-color: #008000\">\"account_id\"</span>: <span style=\"color: #008000; text-decoration-color: #008000\">\"1\"</span>, <span style=\"color: #008000; text-decoration-color: #008000\">\"transaction_type\"</span>: <span style=\"color: #008000; text-decoration-color: #008000\">\"transfer in\"</span>, <span style=\"color: #008000; text-decoration-color: #008000\">\"amount\"</span>:                  \n",
       "         <span style=\"color: #008080; text-decoration-color: #008080; font-weight: bold\">248.76547085454925</span>, <span style=\"color: #008000; text-decoration-color: #008000\">\"transaction_date\"</span>: <span style=\"color: #008000; text-decoration-color: #008000\">\"02-07-2024 09:43:16\"</span><span style=\"font-weight: bold\">}</span>, <span style=\"font-weight: bold\">{</span><span style=\"color: #008000; text-decoration-color: #008000\">\"transaction_id\"</span>: <span style=\"color: #008000; text-decoration-color: #008000\">\"6\"</span>, <span style=\"color: #008000; text-decoration-color: #008000\">\"account_id\"</span>: <span style=\"color: #008000; text-decoration-color: #008000\">\"1\"</span>,\n",
       "         <span style=\"color: #008000; text-decoration-color: #008000\">\"transaction_type\"</span>: <span style=\"color: #008000; text-decoration-color: #008000\">\"transfer in\"</span>, <span style=\"color: #008000; text-decoration-color: #008000\">\"amount\"</span>: <span style=\"color: #008080; text-decoration-color: #008080; font-weight: bold\">156.0004493561658</span>, <span style=\"color: #008000; text-decoration-color: #008000\">\"transaction_date\"</span>: <span style=\"color: #008000; text-decoration-color: #008000\">\"02-07-2024 </span>          \n",
       "         <span style=\"color: #008000; text-decoration-color: #008000\">09:43:18\"</span><span style=\"font-weight: bold\">}</span>, <span style=\"font-weight: bold\">{</span><span style=\"color: #008000; text-decoration-color: #008000\">\"transaction_id\"</span>: <span style=\"color: #008000; text-decoration-color: #008000\">\"9\"</span>, <span style=\"color: #008000; text-decoration-color: #008000\">\"account_id\"</span>: <span style=\"color: #008000; text-decoration-color: #008000\">\"1\"</span>, <span style=\"color: #008000; text-decoration-color: #008000\">\"transaction_type\"</span>: <span style=\"color: #008000; text-decoration-color: #008000\">\"transfer in\"</span>, <span style=\"color: #008000; text-decoration-color: #008000\">\"amount\"</span>:       \n",
       "         <span style=\"color: #008080; text-decoration-color: #008080; font-weight: bold\">272.46402826290966</span>, <span style=\"color: #008000; text-decoration-color: #008000\">\"transaction_date\"</span>: <span style=\"color: #008000; text-decoration-color: #008000\">\"02-07-2024 09:43:19\"</span><span style=\"font-weight: bold\">}</span>, <span style=\"font-weight: bold\">{</span><span style=\"color: #008000; text-decoration-color: #008000\">\"transaction_id\"</span>: <span style=\"color: #008000; text-decoration-color: #008000\">\"10\"</span>, <span style=\"color: #008000; text-decoration-color: #008000\">\"account_id\"</span>:    \n",
       "         <span style=\"color: #008000; text-decoration-color: #008000\">\"1\"</span>, <span style=\"color: #008000; text-decoration-color: #008000\">\"transaction_type\"</span>: <span style=\"color: #008000; text-decoration-color: #008000\">\"withdrawal\"</span>, <span style=\"color: #008000; text-decoration-color: #008000\">\"amount\"</span>: <span style=\"color: #008080; text-decoration-color: #008080; font-weight: bold\">196.1201346789223</span>, <span style=\"color: #008000; text-decoration-color: #008000\">\"transaction_date\"</span>: <span style=\"color: #008000; text-decoration-color: #008000\">\"02-07-2024 </span>      \n",
       "         <span style=\"color: #008000; text-decoration-color: #008000\">09:43:20\"</span><span style=\"font-weight: bold\">}</span>, <span style=\"font-weight: bold\">{</span><span style=\"color: #008000; text-decoration-color: #008000\">\"transaction_id\"</span>: <span style=\"color: #008000; text-decoration-color: #008000\">\"13\"</span>, <span style=\"color: #008000; text-decoration-color: #008000\">\"account_id\"</span>: <span style=\"color: #008000; text-decoration-color: #008000\">\"1\"</span>, <span style=\"color: #008000; text-decoration-color: #008000\">\"transaction_type\"</span>: <span style=\"color: #008000; text-decoration-color: #008000\">\"transfer in\"</span>, <span style=\"color: #008000; text-decoration-color: #008000\">\"amount\"</span>:      \n",
       "         <span style=\"color: #008080; text-decoration-color: #008080; font-weight: bold\">258.53032026263713</span>, <span style=\"color: #008000; text-decoration-color: #008000\">\"transaction_date\"</span>: <span style=\"color: #008000; text-decoration-color: #008000\">\"02-07-2024 09:43:21\"</span><span style=\"font-weight: bold\">}</span>, <span style=\"font-weight: bold\">{</span><span style=\"color: #008000; text-decoration-color: #008000\">\"transaction_id\"</span>: <span style=\"color: #008000; text-decoration-color: #008000\">\"17\"</span>, <span style=\"color: #008000; text-decoration-color: #008000\">\"account_id\"</span>:    \n",
       "         <span style=\"color: #008000; text-decoration-color: #008000\">\"1\"</span>, <span style=\"color: #008000; text-decoration-color: #008000\">\"transaction_type\"</span>: <span style=\"color: #008000; text-decoration-color: #008000\">\"transfer in\"</span>, <span style=\"color: #008000; text-decoration-color: #008000\">\"amount\"</span>: <span style=\"color: #008080; text-decoration-color: #008080; font-weight: bold\">492.816680644318</span>, <span style=\"color: #008000; text-decoration-color: #008000\">\"transaction_date\"</span>: <span style=\"color: #008000; text-decoration-color: #008000\">\"02-07-2024 </span>      \n",
       "         <span style=\"color: #008000; text-decoration-color: #008000\">09:43:24\"</span><span style=\"font-weight: bold\">}</span>, <span style=\"font-weight: bold\">{</span><span style=\"color: #008000; text-decoration-color: #008000\">\"transaction_id\"</span>: <span style=\"color: #008000; text-decoration-color: #008000\">\"20\"</span>, <span style=\"color: #008000; text-decoration-color: #008000\">\"account_id\"</span>: <span style=\"color: #008000; text-decoration-color: #008000\">\"1\"</span>, <span style=\"color: #008000; text-decoration-color: #008000\">\"transaction_type\"</span>: <span style=\"color: #008000; text-decoration-color: #008000\">\"transfer in\"</span>, <span style=\"color: #008000; text-decoration-color: #008000\">\"amount\"</span>:      \n",
       "         <span style=\"color: #008080; text-decoration-color: #008080; font-weight: bold\">381.67779475901114</span>, <span style=\"color: #008000; text-decoration-color: #008000\">\"transaction_date\"</span>: <span style=\"color: #008000; text-decoration-color: #008000\">\"02-07-2024 09:43:25\"</span><span style=\"font-weight: bold\">}</span>, <span style=\"font-weight: bold\">{</span><span style=\"color: #008000; text-decoration-color: #008000\">\"transaction_id\"</span>: <span style=\"color: #008000; text-decoration-color: #008000\">\"23\"</span>, <span style=\"color: #008000; text-decoration-color: #008000\">\"account_id\"</span>:    \n",
       "         <span style=\"color: #008000; text-decoration-color: #008000\">\"1\"</span>, <span style=\"color: #008000; text-decoration-color: #008000\">\"transaction_type\"</span>: <span style=\"color: #008000; text-decoration-color: #008000\">\"transfer in\"</span>, <span style=\"color: #008000; text-decoration-color: #008000\">\"amount\"</span>: <span style=\"color: #008080; text-decoration-color: #008080; font-weight: bold\">196.64918453292358</span>, <span style=\"color: #008000; text-decoration-color: #008000\">\"transaction_date\"</span>: <span style=\"color: #008000; text-decoration-color: #008000\">\"02-07-2024 </span>    \n",
       "         <span style=\"color: #008000; text-decoration-color: #008000\">09:43:27\"</span><span style=\"font-weight: bold\">}</span>, <span style=\"font-weight: bold\">{</span><span style=\"color: #008000; text-decoration-color: #008000\">\"transaction_id\"</span>: <span style=\"color: #008000; text-decoration-color: #008000\">\"24\"</span>, <span style=\"color: #008000; text-decoration-color: #008000\">\"account_id\"</span>: <span style=\"color: #008000; text-decoration-color: #008000\">\"1\"</span>, <span style=\"color: #008000; text-decoration-color: #008000\">\"transaction_type\"</span>: <span style=\"color: #008000; text-decoration-color: #008000\">\"deposit\"</span>, <span style=\"color: #008000; text-decoration-color: #008000\">\"amount\"</span>:          \n",
       "         <span style=\"color: #008080; text-decoration-color: #008080; font-weight: bold\">107.03827387170688</span>, <span style=\"color: #008000; text-decoration-color: #008000\">\"transaction_date\"</span>: <span style=\"color: #008000; text-decoration-color: #008000\">\"02-07-2024 09:43:28\"</span><span style=\"font-weight: bold\">}</span>, <span style=\"font-weight: bold\">{</span><span style=\"color: #008000; text-decoration-color: #008000\">\"transaction_id\"</span>: <span style=\"color: #008000; text-decoration-color: #008000\">\"30\"</span>, <span style=\"color: #008000; text-decoration-color: #008000\">\"account_id\"</span>:    \n",
       "         <span style=\"color: #008000; text-decoration-color: #008000\">\"1\"</span>, <span style=\"color: #008000; text-decoration-color: #008000\">\"transaction_type\"</span>: <span style=\"color: #008000; text-decoration-color: #008000\">\"transfer in\"</span>, <span style=\"color: #008000; text-decoration-color: #008000\">\"amount\"</span>: <span style=\"color: #008080; text-decoration-color: #008080; font-weight: bold\">378.7741924952769</span>, <span style=\"color: #008000; text-decoration-color: #008000\">\"transaction_date\"</span>: <span style=\"color: #008000; text-decoration-color: #008000\">\"02-07-2024 </span>     \n",
       "         <span style=\"color: #008000; text-decoration-color: #008000\">09:43:32\"</span><span style=\"font-weight: bold\">}</span>, <span style=\"font-weight: bold\">{</span><span style=\"color: #008000; text-decoration-color: #008000\">\"transaction_id\"</span>: <span style=\"color: #008000; text-decoration-color: #008000\">\"31\"</span>, <span style=\"color: #008000; text-decoration-color: #008000\">\"account_id\"</span>: <span style=\"color: #008000; text-decoration-color: #008000\">\"1\"</span>, <span style=\"color: #008000; text-decoration-color: #008000\">\"transaction_type\"</span>: <span style=\"color: #008000; text-decoration-color: #008000\">\"deposit\"</span>, <span style=\"color: #008000; text-decoration-color: #008000\">\"amount\"</span>:          \n",
       "         <span style=\"color: #008080; text-decoration-color: #008080; font-weight: bold\">207.57263164870733</span>, <span style=\"color: #008000; text-decoration-color: #008000\">\"transaction_date\"</span>: <span style=\"color: #008000; text-decoration-color: #008000\">\"02-07-2024 09:43:34\"</span><span style=\"font-weight: bold\">}</span>, <span style=\"font-weight: bold\">{</span><span style=\"color: #008000; text-decoration-color: #008000\">\"transaction_id\"</span>: <span style=\"color: #008000; text-decoration-color: #008000\">\"35\"</span>, <span style=\"color: #008000; text-decoration-color: #008000\">\"account_id\"</span>:    \n",
       "         <span style=\"color: #008000; text-decoration-color: #008000\">\"1\"</span>, <span style=\"color: #008000; text-decoration-color: #008000\">\"transaction_type\"</span>: <span style=\"color: #008000; text-decoration-color: #008000\">\"transfer in\"</span>, <span style=\"color: #008000; text-decoration-color: #008000\">\"amount\"</span>: <span style=\"color: #008080; text-decoration-color: #008080; font-weight: bold\">148.83667203734672</span>, <span style=\"color: #008000; text-decoration-color: #008000\">\"transaction_date\"</span>: <span style=\"color: #008000; text-decoration-color: #008000\">\"02-07-2024 </span>    \n",
       "         <span style=\"color: #008000; text-decoration-color: #008000\">09:43:36\"</span><span style=\"font-weight: bold\">}</span>, <span style=\"font-weight: bold\">{</span><span style=\"color: #008000; text-decoration-color: #008000\">\"transaction_id\"</span>: <span style=\"color: #008000; text-decoration-color: #008000\">\"38\"</span>, <span style=\"color: #008000; text-decoration-color: #008000\">\"account_id\"</span>: <span style=\"color: #008000; text-decoration-color: #008000\">\"1\"</span>, <span style=\"color: #008000; text-decoration-color: #008000\">\"transaction_type\"</span>: <span style=\"color: #008000; text-decoration-color: #008000\">\"transfer in\"</span>, <span style=\"color: #008000; text-decoration-color: #008000\">\"amount\"</span>:      \n",
       "         <span style=\"color: #008080; text-decoration-color: #008080; font-weight: bold\">147.31742703338318</span>, <span style=\"color: #008000; text-decoration-color: #008000\">\"transaction_date\"</span>: <span style=\"color: #008000; text-decoration-color: #008000\">\"02-07-2024 09:43:37\"</span><span style=\"font-weight: bold\">}</span>, <span style=\"font-weight: bold\">{</span><span style=\"color: #008000; text-decoration-color: #008000\">\"transaction_id\"</span>: <span style=\"color: #008000; text-decoration-color: #008000\">\"43\"</span>, <span style=\"color: #008000; text-decoration-color: #008000\">\"account_id\"</span>:    \n",
       "         <span style=\"color: #008000; text-decoration-color: #008000\">\"1\"</span>, <span style=\"color: #008000; text-decoration-color: #008000\">\"transaction_type\"</span>: <span style=\"color: #008000; text-decoration-color: #008000\">\"transfer in\"</span>, <span style=\"color: #008000; text-decoration-color: #008000\">\"amount\"</span>: <span style=\"color: #008080; text-decoration-color: #008080; font-weight: bold\">411.82342953356</span>, <span style=\"color: #008000; text-decoration-color: #008000\">\"transaction_date\"</span>: <span style=\"color: #008000; text-decoration-color: #008000\">\"02-07-2024 </span>       \n",
       "         <span style=\"color: #008000; text-decoration-color: #008000\">09:43:40\"</span><span style=\"font-weight: bold\">}</span>, <span style=\"font-weight: bold\">{</span><span style=\"color: #008000; text-decoration-color: #008000\">\"transaction_id\"</span>: <span style=\"color: #008000; text-decoration-color: #008000\">\"45\"</span>, <span style=\"color: #008000; text-decoration-color: #008000\">\"account_id\"</span>: <span style=\"color: #008000; text-decoration-color: #008000\">\"1\"</span>, <span style=\"color: #008000; text-decoration-color: #008000\">\"transaction_type\"</span>: <span style=\"color: #008000; text-decoration-color: #008000\">\"withdrawal\"</span>, <span style=\"color: #008000; text-decoration-color: #008000\">\"amount\"</span>:       \n",
       "         <span style=\"color: #008080; text-decoration-color: #008080; font-weight: bold\">199.59334325877614</span>, <span style=\"color: #008000; text-decoration-color: #008000\">\"transaction_date\"</span>: <span style=\"color: #008000; text-decoration-color: #008000\">\"02-07-2024 09:43:42\"</span><span style=\"font-weight: bold\">}</span>, <span style=\"font-weight: bold\">{</span><span style=\"color: #008000; text-decoration-color: #008000\">\"transaction_id\"</span>: <span style=\"color: #008000; text-decoration-color: #008000\">\"46\"</span>, <span style=\"color: #008000; text-decoration-color: #008000\">\"account_id\"</span>:    \n",
       "         <span style=\"color: #008000; text-decoration-color: #008000\">\"1\"</span>, <span style=\"color: #008000; text-decoration-color: #008000\">\"transaction_type\"</span>: <span style=\"color: #008000; text-decoration-color: #008000\">\"transfer out\"</span>, <span style=\"color: #008000; text-decoration-color: #008000\">\"amount\"</span>: <span style=\"color: #008080; text-decoration-color: #008080; font-weight: bold\">199.59334325877614</span>, <span style=\"color: #008000; text-decoration-color: #008000\">\"transaction_date\"</span>: <span style=\"color: #008000; text-decoration-color: #008000\">\"02-07-2024 </span>   \n",
       "         <span style=\"color: #008000; text-decoration-color: #008000\">09:43:42\"</span><span style=\"font-weight: bold\">}</span>, <span style=\"font-weight: bold\">{</span><span style=\"color: #008000; text-decoration-color: #008000\">\"transaction_id\"</span>: <span style=\"color: #008000; text-decoration-color: #008000\">\"49\"</span>, <span style=\"color: #008000; text-decoration-color: #008000\">\"account_id\"</span>: <span style=\"color: #008000; text-decoration-color: #008000\">\"1\"</span>, <span style=\"color: #008000; text-decoration-color: #008000\">\"transaction_type\"</span>: <span style=\"color: #008000; text-decoration-color: #008000\">\"deposit\"</span>, <span style=\"color: #008000; text-decoration-color: #008000\">\"amount\"</span>:          \n",
       "         <span style=\"color: #008080; text-decoration-color: #008080; font-weight: bold\">118.51040886271932</span>, <span style=\"color: #008000; text-decoration-color: #008000\">\"transaction_date\"</span>: <span style=\"color: #008000; text-decoration-color: #008000\">\"02-07-2024 09:43:44\"</span><span style=\"font-weight: bold\">}</span>, <span style=\"font-weight: bold\">{</span><span style=\"color: #008000; text-decoration-color: #008000\">\"transaction_id\"</span>: <span style=\"color: #008000; text-decoration-color: #008000\">\"50\"</span>, <span style=\"color: #008000; text-decoration-color: #008000\">\"account_id\"</span>:    \n",
       "         <span style=\"color: #008000; text-decoration-color: #008000\">\"1\"</span>, <span style=\"color: #008000; text-decoration-color: #008000\">\"transaction_type\"</span>: <span style=\"color: #008000; text-decoration-color: #008000\">\"transfer out\"</span>, <span style=\"color: #008000; text-decoration-color: #008000\">\"amount\"</span>: <span style=\"color: #008080; text-decoration-color: #008080; font-weight: bold\">118.51040886271932</span>, <span style=\"color: #008000; text-decoration-color: #008000\">\"transaction_date\"</span>: <span style=\"color: #008000; text-decoration-color: #008000\">\"02-07-2024 </span>   \n",
       "         <span style=\"color: #008000; text-decoration-color: #008000\">09:43:44\"</span><span style=\"font-weight: bold\">}]}}</span>                                                                                             \n",
       "</pre>\n"
      ],
      "text/plain": [
       "\u001b[32mDEBUG   \u001b[0m \u001b[1m{\u001b[0m\u001b[32m\"account_id\"\u001b[0m: \u001b[32m\"1\"\u001b[0m, \u001b[32m\"statement\"\u001b[0m: \u001b[1m{\u001b[0m\u001b[32m\"account_id\"\u001b[0m: \u001b[32m\"1\"\u001b[0m, \u001b[32m\"start_date\"\u001b[0m: \u001b[32m\"02-07-2024 04:46:04\"\u001b[0m, \u001b[32m\"end_date\"\u001b[0m:     \n",
       "         \u001b[32m\"02-07-2024 09:46:04\"\u001b[0m, \u001b[32m\"start_balance\"\u001b[0m: \u001b[1;36m0.0\u001b[0m, \u001b[32m\"end_balance\"\u001b[0m: \u001b[1;36m2812.9597340960213\u001b[0m, \u001b[32m\"transactions\"\u001b[0m:           \n",
       "         \u001b[1m[\u001b[0m\u001b[1m{\u001b[0m\u001b[32m\"transaction_id\"\u001b[0m: \u001b[32m\"3\"\u001b[0m, \u001b[32m\"account_id\"\u001b[0m: \u001b[32m\"1\"\u001b[0m, \u001b[32m\"transaction_type\"\u001b[0m: \u001b[32m\"transfer in\"\u001b[0m, \u001b[32m\"amount\"\u001b[0m:                  \n",
       "         \u001b[1;36m248.76547085454925\u001b[0m, \u001b[32m\"transaction_date\"\u001b[0m: \u001b[32m\"02-07-2024 09:43:16\"\u001b[0m\u001b[1m}\u001b[0m, \u001b[1m{\u001b[0m\u001b[32m\"transaction_id\"\u001b[0m: \u001b[32m\"6\"\u001b[0m, \u001b[32m\"account_id\"\u001b[0m: \u001b[32m\"1\"\u001b[0m,\n",
       "         \u001b[32m\"transaction_type\"\u001b[0m: \u001b[32m\"transfer in\"\u001b[0m, \u001b[32m\"amount\"\u001b[0m: \u001b[1;36m156.0004493561658\u001b[0m, \u001b[32m\"transaction_date\"\u001b[0m: \u001b[32m\"02-07-2024 \u001b[0m          \n",
       "         \u001b[32m09:43:18\"\u001b[0m\u001b[1m}\u001b[0m, \u001b[1m{\u001b[0m\u001b[32m\"transaction_id\"\u001b[0m: \u001b[32m\"9\"\u001b[0m, \u001b[32m\"account_id\"\u001b[0m: \u001b[32m\"1\"\u001b[0m, \u001b[32m\"transaction_type\"\u001b[0m: \u001b[32m\"transfer in\"\u001b[0m, \u001b[32m\"amount\"\u001b[0m:       \n",
       "         \u001b[1;36m272.46402826290966\u001b[0m, \u001b[32m\"transaction_date\"\u001b[0m: \u001b[32m\"02-07-2024 09:43:19\"\u001b[0m\u001b[1m}\u001b[0m, \u001b[1m{\u001b[0m\u001b[32m\"transaction_id\"\u001b[0m: \u001b[32m\"10\"\u001b[0m, \u001b[32m\"account_id\"\u001b[0m:    \n",
       "         \u001b[32m\"1\"\u001b[0m, \u001b[32m\"transaction_type\"\u001b[0m: \u001b[32m\"withdrawal\"\u001b[0m, \u001b[32m\"amount\"\u001b[0m: \u001b[1;36m196.1201346789223\u001b[0m, \u001b[32m\"transaction_date\"\u001b[0m: \u001b[32m\"02-07-2024 \u001b[0m      \n",
       "         \u001b[32m09:43:20\"\u001b[0m\u001b[1m}\u001b[0m, \u001b[1m{\u001b[0m\u001b[32m\"transaction_id\"\u001b[0m: \u001b[32m\"13\"\u001b[0m, \u001b[32m\"account_id\"\u001b[0m: \u001b[32m\"1\"\u001b[0m, \u001b[32m\"transaction_type\"\u001b[0m: \u001b[32m\"transfer in\"\u001b[0m, \u001b[32m\"amount\"\u001b[0m:      \n",
       "         \u001b[1;36m258.53032026263713\u001b[0m, \u001b[32m\"transaction_date\"\u001b[0m: \u001b[32m\"02-07-2024 09:43:21\"\u001b[0m\u001b[1m}\u001b[0m, \u001b[1m{\u001b[0m\u001b[32m\"transaction_id\"\u001b[0m: \u001b[32m\"17\"\u001b[0m, \u001b[32m\"account_id\"\u001b[0m:    \n",
       "         \u001b[32m\"1\"\u001b[0m, \u001b[32m\"transaction_type\"\u001b[0m: \u001b[32m\"transfer in\"\u001b[0m, \u001b[32m\"amount\"\u001b[0m: \u001b[1;36m492.816680644318\u001b[0m, \u001b[32m\"transaction_date\"\u001b[0m: \u001b[32m\"02-07-2024 \u001b[0m      \n",
       "         \u001b[32m09:43:24\"\u001b[0m\u001b[1m}\u001b[0m, \u001b[1m{\u001b[0m\u001b[32m\"transaction_id\"\u001b[0m: \u001b[32m\"20\"\u001b[0m, \u001b[32m\"account_id\"\u001b[0m: \u001b[32m\"1\"\u001b[0m, \u001b[32m\"transaction_type\"\u001b[0m: \u001b[32m\"transfer in\"\u001b[0m, \u001b[32m\"amount\"\u001b[0m:      \n",
       "         \u001b[1;36m381.67779475901114\u001b[0m, \u001b[32m\"transaction_date\"\u001b[0m: \u001b[32m\"02-07-2024 09:43:25\"\u001b[0m\u001b[1m}\u001b[0m, \u001b[1m{\u001b[0m\u001b[32m\"transaction_id\"\u001b[0m: \u001b[32m\"23\"\u001b[0m, \u001b[32m\"account_id\"\u001b[0m:    \n",
       "         \u001b[32m\"1\"\u001b[0m, \u001b[32m\"transaction_type\"\u001b[0m: \u001b[32m\"transfer in\"\u001b[0m, \u001b[32m\"amount\"\u001b[0m: \u001b[1;36m196.64918453292358\u001b[0m, \u001b[32m\"transaction_date\"\u001b[0m: \u001b[32m\"02-07-2024 \u001b[0m    \n",
       "         \u001b[32m09:43:27\"\u001b[0m\u001b[1m}\u001b[0m, \u001b[1m{\u001b[0m\u001b[32m\"transaction_id\"\u001b[0m: \u001b[32m\"24\"\u001b[0m, \u001b[32m\"account_id\"\u001b[0m: \u001b[32m\"1\"\u001b[0m, \u001b[32m\"transaction_type\"\u001b[0m: \u001b[32m\"deposit\"\u001b[0m, \u001b[32m\"amount\"\u001b[0m:          \n",
       "         \u001b[1;36m107.03827387170688\u001b[0m, \u001b[32m\"transaction_date\"\u001b[0m: \u001b[32m\"02-07-2024 09:43:28\"\u001b[0m\u001b[1m}\u001b[0m, \u001b[1m{\u001b[0m\u001b[32m\"transaction_id\"\u001b[0m: \u001b[32m\"30\"\u001b[0m, \u001b[32m\"account_id\"\u001b[0m:    \n",
       "         \u001b[32m\"1\"\u001b[0m, \u001b[32m\"transaction_type\"\u001b[0m: \u001b[32m\"transfer in\"\u001b[0m, \u001b[32m\"amount\"\u001b[0m: \u001b[1;36m378.7741924952769\u001b[0m, \u001b[32m\"transaction_date\"\u001b[0m: \u001b[32m\"02-07-2024 \u001b[0m     \n",
       "         \u001b[32m09:43:32\"\u001b[0m\u001b[1m}\u001b[0m, \u001b[1m{\u001b[0m\u001b[32m\"transaction_id\"\u001b[0m: \u001b[32m\"31\"\u001b[0m, \u001b[32m\"account_id\"\u001b[0m: \u001b[32m\"1\"\u001b[0m, \u001b[32m\"transaction_type\"\u001b[0m: \u001b[32m\"deposit\"\u001b[0m, \u001b[32m\"amount\"\u001b[0m:          \n",
       "         \u001b[1;36m207.57263164870733\u001b[0m, \u001b[32m\"transaction_date\"\u001b[0m: \u001b[32m\"02-07-2024 09:43:34\"\u001b[0m\u001b[1m}\u001b[0m, \u001b[1m{\u001b[0m\u001b[32m\"transaction_id\"\u001b[0m: \u001b[32m\"35\"\u001b[0m, \u001b[32m\"account_id\"\u001b[0m:    \n",
       "         \u001b[32m\"1\"\u001b[0m, \u001b[32m\"transaction_type\"\u001b[0m: \u001b[32m\"transfer in\"\u001b[0m, \u001b[32m\"amount\"\u001b[0m: \u001b[1;36m148.83667203734672\u001b[0m, \u001b[32m\"transaction_date\"\u001b[0m: \u001b[32m\"02-07-2024 \u001b[0m    \n",
       "         \u001b[32m09:43:36\"\u001b[0m\u001b[1m}\u001b[0m, \u001b[1m{\u001b[0m\u001b[32m\"transaction_id\"\u001b[0m: \u001b[32m\"38\"\u001b[0m, \u001b[32m\"account_id\"\u001b[0m: \u001b[32m\"1\"\u001b[0m, \u001b[32m\"transaction_type\"\u001b[0m: \u001b[32m\"transfer in\"\u001b[0m, \u001b[32m\"amount\"\u001b[0m:      \n",
       "         \u001b[1;36m147.31742703338318\u001b[0m, \u001b[32m\"transaction_date\"\u001b[0m: \u001b[32m\"02-07-2024 09:43:37\"\u001b[0m\u001b[1m}\u001b[0m, \u001b[1m{\u001b[0m\u001b[32m\"transaction_id\"\u001b[0m: \u001b[32m\"43\"\u001b[0m, \u001b[32m\"account_id\"\u001b[0m:    \n",
       "         \u001b[32m\"1\"\u001b[0m, \u001b[32m\"transaction_type\"\u001b[0m: \u001b[32m\"transfer in\"\u001b[0m, \u001b[32m\"amount\"\u001b[0m: \u001b[1;36m411.82342953356\u001b[0m, \u001b[32m\"transaction_date\"\u001b[0m: \u001b[32m\"02-07-2024 \u001b[0m       \n",
       "         \u001b[32m09:43:40\"\u001b[0m\u001b[1m}\u001b[0m, \u001b[1m{\u001b[0m\u001b[32m\"transaction_id\"\u001b[0m: \u001b[32m\"45\"\u001b[0m, \u001b[32m\"account_id\"\u001b[0m: \u001b[32m\"1\"\u001b[0m, \u001b[32m\"transaction_type\"\u001b[0m: \u001b[32m\"withdrawal\"\u001b[0m, \u001b[32m\"amount\"\u001b[0m:       \n",
       "         \u001b[1;36m199.59334325877614\u001b[0m, \u001b[32m\"transaction_date\"\u001b[0m: \u001b[32m\"02-07-2024 09:43:42\"\u001b[0m\u001b[1m}\u001b[0m, \u001b[1m{\u001b[0m\u001b[32m\"transaction_id\"\u001b[0m: \u001b[32m\"46\"\u001b[0m, \u001b[32m\"account_id\"\u001b[0m:    \n",
       "         \u001b[32m\"1\"\u001b[0m, \u001b[32m\"transaction_type\"\u001b[0m: \u001b[32m\"transfer out\"\u001b[0m, \u001b[32m\"amount\"\u001b[0m: \u001b[1;36m199.59334325877614\u001b[0m, \u001b[32m\"transaction_date\"\u001b[0m: \u001b[32m\"02-07-2024 \u001b[0m   \n",
       "         \u001b[32m09:43:42\"\u001b[0m\u001b[1m}\u001b[0m, \u001b[1m{\u001b[0m\u001b[32m\"transaction_id\"\u001b[0m: \u001b[32m\"49\"\u001b[0m, \u001b[32m\"account_id\"\u001b[0m: \u001b[32m\"1\"\u001b[0m, \u001b[32m\"transaction_type\"\u001b[0m: \u001b[32m\"deposit\"\u001b[0m, \u001b[32m\"amount\"\u001b[0m:          \n",
       "         \u001b[1;36m118.51040886271932\u001b[0m, \u001b[32m\"transaction_date\"\u001b[0m: \u001b[32m\"02-07-2024 09:43:44\"\u001b[0m\u001b[1m}\u001b[0m, \u001b[1m{\u001b[0m\u001b[32m\"transaction_id\"\u001b[0m: \u001b[32m\"50\"\u001b[0m, \u001b[32m\"account_id\"\u001b[0m:    \n",
       "         \u001b[32m\"1\"\u001b[0m, \u001b[32m\"transaction_type\"\u001b[0m: \u001b[32m\"transfer out\"\u001b[0m, \u001b[32m\"amount\"\u001b[0m: \u001b[1;36m118.51040886271932\u001b[0m, \u001b[32m\"transaction_date\"\u001b[0m: \u001b[32m\"02-07-2024 \u001b[0m   \n",
       "         \u001b[32m09:43:44\"\u001b[0m\u001b[1m}\u001b[0m\u001b[1m]\u001b[0m\u001b[1m}\u001b[0m\u001b[1m}\u001b[0m                                                                                             \n"
      ]
     },
     "metadata": {},
     "output_type": "display_data"
    },
    {
     "data": {
      "text/html": [
       "<pre style=\"white-space:pre;overflow-x:auto;line-height:normal;font-family:Menlo,'DejaVu Sans Mono',consolas,'Courier New',monospace\"><span style=\"color: #008000; text-decoration-color: #008000\">DEBUG   </span> ============== user ==============                                                                        \n",
       "</pre>\n"
      ],
      "text/plain": [
       "\u001b[32mDEBUG   \u001b[0m ============== user ==============                                                                        \n"
      ]
     },
     "metadata": {},
     "output_type": "display_data"
    },
    {
     "data": {
      "text/html": [
       "<pre style=\"white-space:pre;overflow-x:auto;line-height:normal;font-family:Menlo,'DejaVu Sans Mono',consolas,'Courier New',monospace\"><span style=\"color: #008000; text-decoration-color: #008000\">DEBUG   </span> Using the results of the tools above, respond to the following message:                                   \n",
       "                                                                                                                   \n",
       "         <span style=\"font-weight: bold\">&lt;</span><span style=\"color: #ff00ff; text-decoration-color: #ff00ff; font-weight: bold\">user_message</span><span style=\"color: #000000; text-decoration-color: #000000\">&gt;</span>                                                                                            \n",
       "         <span style=\"color: #000000; text-decoration-color: #000000\">Find the bank statement in account with id </span><span style=\"color: #008080; text-decoration-color: #008080; font-weight: bold\">1</span><span style=\"color: #000000; text-decoration-color: #000000\"> for the last </span><span style=\"color: #008080; text-decoration-color: #008080; font-weight: bold\">5</span><span style=\"color: #000000; text-decoration-color: #000000\"> hours</span>                                         \n",
       "         <span style=\"color: #000000; text-decoration-color: #000000\">&lt;</span><span style=\"color: #800080; text-decoration-color: #800080\">/</span><span style=\"color: #ff00ff; text-decoration-color: #ff00ff\">user_message</span><span style=\"font-weight: bold\">&gt;</span>                                                                                           \n",
       "</pre>\n"
      ],
      "text/plain": [
       "\u001b[32mDEBUG   \u001b[0m Using the results of the tools above, respond to the following message:                                   \n",
       "                                                                                                                   \n",
       "         \u001b[1m<\u001b[0m\u001b[1;95muser_message\u001b[0m\u001b[39m>\u001b[0m                                                                                            \n",
       "         \u001b[39mFind the bank statement in account with id \u001b[0m\u001b[1;36m1\u001b[0m\u001b[39m for the last \u001b[0m\u001b[1;36m5\u001b[0m\u001b[39m hours\u001b[0m                                         \n",
       "         \u001b[39m<\u001b[0m\u001b[35m/\u001b[0m\u001b[95muser_message\u001b[0m\u001b[1m>\u001b[0m                                                                                           \n"
      ]
     },
     "metadata": {},
     "output_type": "display_data"
    },
    {
     "data": {
      "text/html": [
       "<pre style=\"white-space:pre;overflow-x:auto;line-height:normal;font-family:Menlo,'DejaVu Sans Mono',consolas,'Courier New',monospace\"><span style=\"color: #008000; text-decoration-color: #008000\">DEBUG   </span> Time to generate response: <span style=\"color: #008080; text-decoration-color: #008080; font-weight: bold\">30.</span>8672s                                                                       \n",
       "</pre>\n"
      ],
      "text/plain": [
       "\u001b[32mDEBUG   \u001b[0m Time to generate response: \u001b[1;36m30.\u001b[0m8672s                                                                       \n"
      ]
     },
     "metadata": {},
     "output_type": "display_data"
    },
    {
     "data": {
      "text/html": [
       "<pre style=\"white-space:pre;overflow-x:auto;line-height:normal;font-family:Menlo,'DejaVu Sans Mono',consolas,'Courier New',monospace\"><span style=\"color: #008000; text-decoration-color: #008000\">DEBUG   </span> ============== assistant ==============                                                                   \n",
       "</pre>\n"
      ],
      "text/plain": [
       "\u001b[32mDEBUG   \u001b[0m ============== assistant ==============                                                                   \n"
      ]
     },
     "metadata": {},
     "output_type": "display_data"
    },
    {
     "data": {
      "text/html": [
       "<pre style=\"white-space:pre;overflow-x:auto;line-height:normal;font-family:Menlo,'DejaVu Sans Mono',consolas,'Courier New',monospace\"><span style=\"color: #008000; text-decoration-color: #008000\">DEBUG   </span> Here is my response:                                                                                      \n",
       "                                                                                                                   \n",
       "         The bank statement for account ID <span style=\"color: #008080; text-decoration-color: #008080; font-weight: bold\">1</span> for the last <span style=\"color: #008080; text-decoration-color: #008080; font-weight: bold\">5</span> hours is as follows:                                   \n",
       "                                                                                                                   \n",
       "         <span style=\"font-weight: bold\">{</span><span style=\"color: #008000; text-decoration-color: #008000\">\"account_id\"</span>: <span style=\"color: #008000; text-decoration-color: #008000\">\"1\"</span>, <span style=\"color: #008000; text-decoration-color: #008000\">\"statement\"</span>: <span style=\"font-weight: bold\">{</span><span style=\"color: #008000; text-decoration-color: #008000\">\"account_id\"</span>: <span style=\"color: #008000; text-decoration-color: #008000\">\"1\"</span>, <span style=\"color: #008000; text-decoration-color: #008000\">\"start_date\"</span>: <span style=\"color: #008000; text-decoration-color: #008000\">\"02-07-2024 04:46:04\"</span>, <span style=\"color: #008000; text-decoration-color: #008000\">\"end_date\"</span>:     \n",
       "         <span style=\"color: #008000; text-decoration-color: #008000\">\"02-07-2024 09:46:04\"</span>, <span style=\"color: #008000; text-decoration-color: #008000\">\"start_balance\"</span>: <span style=\"color: #008080; text-decoration-color: #008080; font-weight: bold\">0.0</span>, <span style=\"color: #008000; text-decoration-color: #008000\">\"end_balance\"</span>: <span style=\"color: #008080; text-decoration-color: #008080; font-weight: bold\">2812.9597340960213</span>, <span style=\"color: #008000; text-decoration-color: #008000\">\"transactions\"</span>:           \n",
       "         <span style=\"font-weight: bold\">[{</span><span style=\"color: #008000; text-decoration-color: #008000\">\"transaction_id\"</span>: <span style=\"color: #008000; text-decoration-color: #008000\">\"3\"</span>, <span style=\"color: #008000; text-decoration-color: #008000\">\"account_id\"</span>: <span style=\"color: #008000; text-decoration-color: #008000\">\"1\"</span>, <span style=\"color: #008000; text-decoration-color: #008000\">\"transaction_type\"</span>: <span style=\"color: #008000; text-decoration-color: #008000\">\"transfer in\"</span>, <span style=\"color: #008000; text-decoration-color: #008000\">\"amount\"</span>:                  \n",
       "         <span style=\"color: #008080; text-decoration-color: #008080; font-weight: bold\">248.76547085454925</span>, <span style=\"color: #008000; text-decoration-color: #008000\">\"transaction_date\"</span>: <span style=\"color: #008000; text-decoration-color: #008000\">\"02-07-2024 09:43:16\"</span><span style=\"font-weight: bold\">}</span>, <span style=\"font-weight: bold\">{</span><span style=\"color: #008000; text-decoration-color: #008000\">\"transaction_id\"</span>: <span style=\"color: #008000; text-decoration-color: #008000\">\"6\"</span>, <span style=\"color: #008000; text-decoration-color: #008000\">\"account_id\"</span>: <span style=\"color: #008000; text-decoration-color: #008000\">\"1\"</span>,\n",
       "         <span style=\"color: #008000; text-decoration-color: #008000\">\"transaction_type\"</span>: <span style=\"color: #008000; text-decoration-color: #008000\">\"transfer in\"</span>, <span style=\"color: #008000; text-decoration-color: #008000\">\"amount\"</span>: <span style=\"color: #008080; text-decoration-color: #008080; font-weight: bold\">258.53032026263713</span>, <span style=\"color: #008000; text-decoration-color: #008000\">\"transaction_date\"</span>: <span style=\"color: #008000; text-decoration-color: #008000\">\"02-07-2024 </span>         \n",
       "         <span style=\"color: #008000; text-decoration-color: #008000\">09:43:21\"</span><span style=\"font-weight: bold\">}</span>, <span style=\"font-weight: bold\">{</span><span style=\"color: #008000; text-decoration-color: #008000\">\"transaction_id\"</span>: <span style=\"color: #008000; text-decoration-color: #008000\">\"17\"</span>, <span style=\"color: #008000; text-decoration-color: #008000\">\"account_id\"</span>: <span style=\"color: #008000; text-decoration-color: #008000\">\"1\"</span>, <span style=\"color: #008000; text-decoration-color: #008000\">\"transaction_type\"</span>: <span style=\"color: #008000; text-decoration-color: #008000\">\"transfer in\"</span>, <span style=\"color: #008000; text-decoration-color: #008000\">\"amount\"</span>:      \n",
       "         <span style=\"color: #008080; text-decoration-color: #008080; font-weight: bold\">492.816680644318</span>, <span style=\"color: #008000; text-decoration-color: #008000\">\"transaction_date\"</span>: <span style=\"color: #008000; text-decoration-color: #008000\">\"02-07-2024 09:43:24\"</span><span style=\"font-weight: bold\">}</span>, <span style=\"font-weight: bold\">{</span><span style=\"color: #008000; text-decoration-color: #008000\">\"transaction_id\"</span>: <span style=\"color: #008000; text-decoration-color: #008000\">\"20\"</span>, <span style=\"color: #008000; text-decoration-color: #008000\">\"account_id\"</span>: <span style=\"color: #008000; text-decoration-color: #008000\">\"1\"</span>, \n",
       "         <span style=\"color: #008000; text-decoration-color: #008000\">\"transaction_type\"</span>: <span style=\"color: #008000; text-decoration-color: #008000\">\"transfer in\"</span>, <span style=\"color: #008000; text-decoration-color: #008000\">\"amount\"</span>: <span style=\"color: #008080; text-decoration-color: #008080; font-weight: bold\">381.67779475901114</span>, <span style=\"color: #008000; text-decoration-color: #008000\">\"transaction_date\"</span>: <span style=\"color: #008000; text-decoration-color: #008000\">\"02-07-2024 </span>         \n",
       "         <span style=\"color: #008000; text-decoration-color: #008000\">09:43:25\"</span><span style=\"font-weight: bold\">}</span>, <span style=\"font-weight: bold\">{</span><span style=\"color: #008000; text-decoration-color: #008000\">\"transaction_id\"</span>: <span style=\"color: #008000; text-decoration-color: #008000\">\"23\"</span>, <span style=\"color: #008000; text-decoration-color: #008000\">\"account_id\"</span>: <span style=\"color: #008000; text-decoration-color: #008000\">\"1\"</span>, <span style=\"color: #008000; text-decoration-color: #008000\">\"transaction_type\"</span>: <span style=\"color: #008000; text-decoration-color: #008000\">\"transfer in\"</span>, <span style=\"color: #008000; text-decoration-color: #008000\">\"amount\"</span>:      \n",
       "         <span style=\"color: #008080; text-decoration-color: #008080; font-weight: bold\">196.64918453292358</span>, <span style=\"color: #008000; text-decoration-color: #008000\">\"transaction_date\"</span>: <span style=\"color: #008000; text-decoration-color: #008000\">\"02-07-2024 09:43:27\"</span><span style=\"font-weight: bold\">}</span>, <span style=\"font-weight: bold\">{</span><span style=\"color: #008000; text-decoration-color: #008000\">\"transaction_id\"</span>: <span style=\"color: #008000; text-decoration-color: #008000\">\"24\"</span>, <span style=\"color: #008000; text-decoration-color: #008000\">\"account_id\"</span>:    \n",
       "         <span style=\"color: #008000; text-decoration-color: #008000\">\"1\"</span>, <span style=\"color: #008000; text-decoration-color: #008000\">\"transaction_type\"</span>: <span style=\"color: #008000; text-decoration-color: #008000\">\"deposit\"</span>, <span style=\"color: #008000; text-decoration-color: #008000\">\"amount\"</span>: <span style=\"color: #008080; text-decoration-color: #008080; font-weight: bold\">107.03827387170688</span>, <span style=\"color: #008000; text-decoration-color: #008000\">\"transaction_date\"</span>: <span style=\"color: #008000; text-decoration-color: #008000\">\"02-07-2024 </span>        \n",
       "         <span style=\"color: #008000; text-decoration-color: #008000\">09:43:28\"</span><span style=\"font-weight: bold\">}</span>, <span style=\"font-weight: bold\">{</span><span style=\"color: #008000; text-decoration-color: #008000\">\"transaction_id\"</span>: <span style=\"color: #008000; text-decoration-color: #008000\">\"30\"</span>, <span style=\"color: #008000; text-decoration-color: #008000\">\"account_id\"</span>: <span style=\"color: #008000; text-decoration-color: #008000\">\"1\"</span>, <span style=\"color: #008000; text-decoration-color: #008000\">\"transaction_type\"</span>: <span style=\"color: #008000; text-decoration-color: #008000\">\"transfer in\"</span>, <span style=\"color: #008000; text-decoration-color: #008000\">\"amount\"</span>:      \n",
       "         <span style=\"color: #008080; text-decoration-color: #008080; font-weight: bold\">378.7741924952769</span>, <span style=\"color: #008000; text-decoration-color: #008000\">\"transaction_date\"</span>: <span style=\"color: #008000; text-decoration-color: #008000\">\"02-07-2024 09:43:32\"</span><span style=\"font-weight: bold\">}</span>, <span style=\"font-weight: bold\">{</span><span style=\"color: #008000; text-decoration-color: #008000\">\"transaction_id\"</span>: <span style=\"color: #008000; text-decoration-color: #008000\">\"31\"</span>, <span style=\"color: #008000; text-decoration-color: #008000\">\"account_id\"</span>: <span style=\"color: #008000; text-decoration-color: #008000\">\"1\"</span>,\n",
       "         <span style=\"color: #008000; text-decoration-color: #008000\">\"transaction_type\"</span>: <span style=\"color: #008000; text-decoration-color: #008000\">\"deposit\"</span>, <span style=\"color: #008000; text-decoration-color: #008000\">\"amount\"</span>: <span style=\"color: #008080; text-decoration-color: #008080; font-weight: bold\">207.57263164870733</span>, <span style=\"color: #008000; text-decoration-color: #008000\">\"transaction_date\"</span>: <span style=\"color: #008000; text-decoration-color: #008000\">\"02-07-2024 09:43:34\"</span><span style=\"font-weight: bold\">}</span>,  \n",
       "         <span style=\"font-weight: bold\">{</span><span style=\"color: #008000; text-decoration-color: #008000\">\"transaction_id\"</span>: <span style=\"color: #008000; text-decoration-color: #008000\">\"35\"</span>, <span style=\"color: #008000; text-decoration-color: #008000\">\"account_id\"</span>: <span style=\"color: #008000; text-decoration-color: #008000\">\"1\"</span>, <span style=\"color: #008000; text-decoration-color: #008000\">\"transaction_type\"</span>: <span style=\"color: #008000; text-decoration-color: #008000\">\"transfer in\"</span>, <span style=\"color: #008000; text-decoration-color: #008000\">\"amount\"</span>:                  \n",
       "         <span style=\"color: #008080; text-decoration-color: #008080; font-weight: bold\">148.83667203734672</span>, <span style=\"color: #008000; text-decoration-color: #008000\">\"transaction_date\"</span>: <span style=\"color: #008000; text-decoration-color: #008000\">\"02-07-2024 09:43:36\"</span><span style=\"font-weight: bold\">}</span>, <span style=\"font-weight: bold\">{</span><span style=\"color: #008000; text-decoration-color: #008000\">\"transaction_id\"</span>: <span style=\"color: #008000; text-decoration-color: #008000\">\"38\"</span>, <span style=\"color: #008000; text-decoration-color: #008000\">\"account_id\"</span>:    \n",
       "         <span style=\"color: #008000; text-decoration-color: #008000\">\"1\"</span>, <span style=\"color: #008000; text-decoration-color: #008000\">\"transaction_type\"</span>: <span style=\"color: #008000; text-decoration-color: #008000\">\"transfer in\"</span>, <span style=\"color: #008000; text-decoration-color: #008000\">\"amount\"</span>: <span style=\"color: #008080; text-decoration-color: #008080; font-weight: bold\">147.31742703338318</span>, <span style=\"color: #008000; text-decoration-color: #008000\">\"transaction_date\"</span>: <span style=\"color: #008000; text-decoration-color: #008000\">\"02-07-2024 </span>    \n",
       "         <span style=\"color: #008000; text-decoration-color: #008000\">09:43:37\"</span><span style=\"font-weight: bold\">}</span>, <span style=\"font-weight: bold\">{</span><span style=\"color: #008000; text-decoration-color: #008000\">\"transaction_id\"</span>: <span style=\"color: #008000; text-decoration-color: #008000\">\"43\"</span>, <span style=\"color: #008000; text-decoration-color: #008000\">\"account_id\"</span>: <span style=\"color: #008000; text-decoration-color: #008000\">\"1\"</span>, <span style=\"color: #008000; text-decoration-color: #008000\">\"transaction_type\"</span>: <span style=\"color: #008000; text-decoration-color: #008000\">\"transfer in\"</span>, <span style=\"color: #008000; text-decoration-color: #008000\">\"amount\"</span>:      \n",
       "         <span style=\"color: #008080; text-decoration-color: #008080; font-weight: bold\">411.82342953356</span>, <span style=\"color: #008000; text-decoration-color: #008000\">\"transaction_date\"</span>: <span style=\"color: #008000; text-decoration-color: #008000\">\"02-07-2024 09:43:40\"</span><span style=\"font-weight: bold\">}</span>, <span style=\"font-weight: bold\">{</span><span style=\"color: #008000; text-decoration-color: #008000\">\"transaction_id\"</span>: <span style=\"color: #008000; text-decoration-color: #008000\">\"45\"</span>, <span style=\"color: #008000; text-decoration-color: #008000\">\"account_id\"</span>: <span style=\"color: #008000; text-decoration-color: #008000\">\"1\"</span>,  \n",
       "         <span style=\"color: #008000; text-decoration-color: #008000\">\"transaction_type\"</span>: <span style=\"color: #008000; text-decoration-color: #008000\">\"withdrawal\"</span>, <span style=\"color: #008000; text-decoration-color: #008000\">\"amount\"</span>: <span style=\"color: #008080; text-decoration-color: #008080; font-weight: bold\">199.59334325877614</span>, <span style=\"color: #008000; text-decoration-color: #008000\">\"transaction_date\"</span>: <span style=\"color: #008000; text-decoration-color: #008000\">\"02-07-2024 </span>          \n",
       "         <span style=\"color: #008000; text-decoration-color: #008000\">09:43:42\"</span><span style=\"font-weight: bold\">}</span>, <span style=\"font-weight: bold\">{</span><span style=\"color: #008000; text-decoration-color: #008000\">\"transaction_id\"</span>: <span style=\"color: #008000; text-decoration-color: #008000\">\"46\"</span>, <span style=\"color: #008000; text-decoration-color: #008000\">\"account_id\"</span>: <span style=\"color: #008000; text-decoration-color: #008000\">\"1\"</span>, <span style=\"color: #008000; text-decoration-color: #008000\">\"transaction_type\"</span>: <span style=\"color: #008000; text-decoration-color: #008000\">\"transfer out\"</span>, <span style=\"color: #008000; text-decoration-color: #008000\">\"amount\"</span>:     \n",
       "         <span style=\"color: #008080; text-decoration-color: #008080; font-weight: bold\">199.59334325877614</span>, <span style=\"color: #008000; text-decoration-color: #008000\">\"transaction_date\"</span>: <span style=\"color: #008000; text-decoration-color: #008000\">\"02-07-2024 09:43:42\"</span><span style=\"font-weight: bold\">}</span>, <span style=\"font-weight: bold\">{</span><span style=\"color: #008000; text-decoration-color: #008000\">\"transaction_id\"</span>: <span style=\"color: #008000; text-decoration-color: #008000\">\"49\"</span>, <span style=\"color: #008000; text-decoration-color: #008000\">\"account_id\"</span>:    \n",
       "         <span style=\"color: #008000; text-decoration-color: #008000\">\"1\"</span>, <span style=\"color: #008000; text-decoration-color: #008000\">\"transaction_type\"</span>: <span style=\"color: #008000; text-decoration-color: #008000\">\"deposit\"</span>, <span style=\"color: #008000; text-decoration-color: #008000\">\"amount\"</span>: <span style=\"color: #008080; text-decoration-color: #008080; font-weight: bold\">118.51040886271932</span>, <span style=\"color: #008000; text-decoration-color: #008000\">\"transaction_date\"</span>: <span style=\"color: #008000; text-decoration-color: #008000\">\"02-07-2024 </span>        \n",
       "         <span style=\"color: #008000; text-decoration-color: #008000\">09:43:44\"</span><span style=\"font-weight: bold\">}</span>, <span style=\"font-weight: bold\">{</span><span style=\"color: #008000; text-decoration-color: #008000\">\"transaction_id\"</span>: <span style=\"color: #008000; text-decoration-color: #008000\">\"50\"</span>, <span style=\"color: #008000; text-decoration-color: #008000\">\"account_id\"</span>: <span style=\"color: #008000; text-decoration-color: #008000\">\"1\"</span>, <span style=\"color: #008000; text-decoration-color: #008000\">\"transaction_type\"</span>: <span style=\"color: #008000; text-decoration-color: #008000\">\"transfer out\"</span>, <span style=\"color: #008000; text-decoration-color: #008000\">\"amount\"</span>:     \n",
       "         <span style=\"color: #008080; text-decoration-color: #008080; font-weight: bold\">118.51040886271932</span>, <span style=\"color: #008000; text-decoration-color: #008000\">\"transaction_date\"</span>: <span style=\"color: #008000; text-decoration-color: #008000\">\"02-07-2024 09:43:44\"</span><span style=\"font-weight: bold\">}]}</span>                                          \n",
       "</pre>\n"
      ],
      "text/plain": [
       "\u001b[32mDEBUG   \u001b[0m Here is my response:                                                                                      \n",
       "                                                                                                                   \n",
       "         The bank statement for account ID \u001b[1;36m1\u001b[0m for the last \u001b[1;36m5\u001b[0m hours is as follows:                                   \n",
       "                                                                                                                   \n",
       "         \u001b[1m{\u001b[0m\u001b[32m\"account_id\"\u001b[0m: \u001b[32m\"1\"\u001b[0m, \u001b[32m\"statement\"\u001b[0m: \u001b[1m{\u001b[0m\u001b[32m\"account_id\"\u001b[0m: \u001b[32m\"1\"\u001b[0m, \u001b[32m\"start_date\"\u001b[0m: \u001b[32m\"02-07-2024 04:46:04\"\u001b[0m, \u001b[32m\"end_date\"\u001b[0m:     \n",
       "         \u001b[32m\"02-07-2024 09:46:04\"\u001b[0m, \u001b[32m\"start_balance\"\u001b[0m: \u001b[1;36m0.0\u001b[0m, \u001b[32m\"end_balance\"\u001b[0m: \u001b[1;36m2812.9597340960213\u001b[0m, \u001b[32m\"transactions\"\u001b[0m:           \n",
       "         \u001b[1m[\u001b[0m\u001b[1m{\u001b[0m\u001b[32m\"transaction_id\"\u001b[0m: \u001b[32m\"3\"\u001b[0m, \u001b[32m\"account_id\"\u001b[0m: \u001b[32m\"1\"\u001b[0m, \u001b[32m\"transaction_type\"\u001b[0m: \u001b[32m\"transfer in\"\u001b[0m, \u001b[32m\"amount\"\u001b[0m:                  \n",
       "         \u001b[1;36m248.76547085454925\u001b[0m, \u001b[32m\"transaction_date\"\u001b[0m: \u001b[32m\"02-07-2024 09:43:16\"\u001b[0m\u001b[1m}\u001b[0m, \u001b[1m{\u001b[0m\u001b[32m\"transaction_id\"\u001b[0m: \u001b[32m\"6\"\u001b[0m, \u001b[32m\"account_id\"\u001b[0m: \u001b[32m\"1\"\u001b[0m,\n",
       "         \u001b[32m\"transaction_type\"\u001b[0m: \u001b[32m\"transfer in\"\u001b[0m, \u001b[32m\"amount\"\u001b[0m: \u001b[1;36m258.53032026263713\u001b[0m, \u001b[32m\"transaction_date\"\u001b[0m: \u001b[32m\"02-07-2024 \u001b[0m         \n",
       "         \u001b[32m09:43:21\"\u001b[0m\u001b[1m}\u001b[0m, \u001b[1m{\u001b[0m\u001b[32m\"transaction_id\"\u001b[0m: \u001b[32m\"17\"\u001b[0m, \u001b[32m\"account_id\"\u001b[0m: \u001b[32m\"1\"\u001b[0m, \u001b[32m\"transaction_type\"\u001b[0m: \u001b[32m\"transfer in\"\u001b[0m, \u001b[32m\"amount\"\u001b[0m:      \n",
       "         \u001b[1;36m492.816680644318\u001b[0m, \u001b[32m\"transaction_date\"\u001b[0m: \u001b[32m\"02-07-2024 09:43:24\"\u001b[0m\u001b[1m}\u001b[0m, \u001b[1m{\u001b[0m\u001b[32m\"transaction_id\"\u001b[0m: \u001b[32m\"20\"\u001b[0m, \u001b[32m\"account_id\"\u001b[0m: \u001b[32m\"1\"\u001b[0m, \n",
       "         \u001b[32m\"transaction_type\"\u001b[0m: \u001b[32m\"transfer in\"\u001b[0m, \u001b[32m\"amount\"\u001b[0m: \u001b[1;36m381.67779475901114\u001b[0m, \u001b[32m\"transaction_date\"\u001b[0m: \u001b[32m\"02-07-2024 \u001b[0m         \n",
       "         \u001b[32m09:43:25\"\u001b[0m\u001b[1m}\u001b[0m, \u001b[1m{\u001b[0m\u001b[32m\"transaction_id\"\u001b[0m: \u001b[32m\"23\"\u001b[0m, \u001b[32m\"account_id\"\u001b[0m: \u001b[32m\"1\"\u001b[0m, \u001b[32m\"transaction_type\"\u001b[0m: \u001b[32m\"transfer in\"\u001b[0m, \u001b[32m\"amount\"\u001b[0m:      \n",
       "         \u001b[1;36m196.64918453292358\u001b[0m, \u001b[32m\"transaction_date\"\u001b[0m: \u001b[32m\"02-07-2024 09:43:27\"\u001b[0m\u001b[1m}\u001b[0m, \u001b[1m{\u001b[0m\u001b[32m\"transaction_id\"\u001b[0m: \u001b[32m\"24\"\u001b[0m, \u001b[32m\"account_id\"\u001b[0m:    \n",
       "         \u001b[32m\"1\"\u001b[0m, \u001b[32m\"transaction_type\"\u001b[0m: \u001b[32m\"deposit\"\u001b[0m, \u001b[32m\"amount\"\u001b[0m: \u001b[1;36m107.03827387170688\u001b[0m, \u001b[32m\"transaction_date\"\u001b[0m: \u001b[32m\"02-07-2024 \u001b[0m        \n",
       "         \u001b[32m09:43:28\"\u001b[0m\u001b[1m}\u001b[0m, \u001b[1m{\u001b[0m\u001b[32m\"transaction_id\"\u001b[0m: \u001b[32m\"30\"\u001b[0m, \u001b[32m\"account_id\"\u001b[0m: \u001b[32m\"1\"\u001b[0m, \u001b[32m\"transaction_type\"\u001b[0m: \u001b[32m\"transfer in\"\u001b[0m, \u001b[32m\"amount\"\u001b[0m:      \n",
       "         \u001b[1;36m378.7741924952769\u001b[0m, \u001b[32m\"transaction_date\"\u001b[0m: \u001b[32m\"02-07-2024 09:43:32\"\u001b[0m\u001b[1m}\u001b[0m, \u001b[1m{\u001b[0m\u001b[32m\"transaction_id\"\u001b[0m: \u001b[32m\"31\"\u001b[0m, \u001b[32m\"account_id\"\u001b[0m: \u001b[32m\"1\"\u001b[0m,\n",
       "         \u001b[32m\"transaction_type\"\u001b[0m: \u001b[32m\"deposit\"\u001b[0m, \u001b[32m\"amount\"\u001b[0m: \u001b[1;36m207.57263164870733\u001b[0m, \u001b[32m\"transaction_date\"\u001b[0m: \u001b[32m\"02-07-2024 09:43:34\"\u001b[0m\u001b[1m}\u001b[0m,  \n",
       "         \u001b[1m{\u001b[0m\u001b[32m\"transaction_id\"\u001b[0m: \u001b[32m\"35\"\u001b[0m, \u001b[32m\"account_id\"\u001b[0m: \u001b[32m\"1\"\u001b[0m, \u001b[32m\"transaction_type\"\u001b[0m: \u001b[32m\"transfer in\"\u001b[0m, \u001b[32m\"amount\"\u001b[0m:                  \n",
       "         \u001b[1;36m148.83667203734672\u001b[0m, \u001b[32m\"transaction_date\"\u001b[0m: \u001b[32m\"02-07-2024 09:43:36\"\u001b[0m\u001b[1m}\u001b[0m, \u001b[1m{\u001b[0m\u001b[32m\"transaction_id\"\u001b[0m: \u001b[32m\"38\"\u001b[0m, \u001b[32m\"account_id\"\u001b[0m:    \n",
       "         \u001b[32m\"1\"\u001b[0m, \u001b[32m\"transaction_type\"\u001b[0m: \u001b[32m\"transfer in\"\u001b[0m, \u001b[32m\"amount\"\u001b[0m: \u001b[1;36m147.31742703338318\u001b[0m, \u001b[32m\"transaction_date\"\u001b[0m: \u001b[32m\"02-07-2024 \u001b[0m    \n",
       "         \u001b[32m09:43:37\"\u001b[0m\u001b[1m}\u001b[0m, \u001b[1m{\u001b[0m\u001b[32m\"transaction_id\"\u001b[0m: \u001b[32m\"43\"\u001b[0m, \u001b[32m\"account_id\"\u001b[0m: \u001b[32m\"1\"\u001b[0m, \u001b[32m\"transaction_type\"\u001b[0m: \u001b[32m\"transfer in\"\u001b[0m, \u001b[32m\"amount\"\u001b[0m:      \n",
       "         \u001b[1;36m411.82342953356\u001b[0m, \u001b[32m\"transaction_date\"\u001b[0m: \u001b[32m\"02-07-2024 09:43:40\"\u001b[0m\u001b[1m}\u001b[0m, \u001b[1m{\u001b[0m\u001b[32m\"transaction_id\"\u001b[0m: \u001b[32m\"45\"\u001b[0m, \u001b[32m\"account_id\"\u001b[0m: \u001b[32m\"1\"\u001b[0m,  \n",
       "         \u001b[32m\"transaction_type\"\u001b[0m: \u001b[32m\"withdrawal\"\u001b[0m, \u001b[32m\"amount\"\u001b[0m: \u001b[1;36m199.59334325877614\u001b[0m, \u001b[32m\"transaction_date\"\u001b[0m: \u001b[32m\"02-07-2024 \u001b[0m          \n",
       "         \u001b[32m09:43:42\"\u001b[0m\u001b[1m}\u001b[0m, \u001b[1m{\u001b[0m\u001b[32m\"transaction_id\"\u001b[0m: \u001b[32m\"46\"\u001b[0m, \u001b[32m\"account_id\"\u001b[0m: \u001b[32m\"1\"\u001b[0m, \u001b[32m\"transaction_type\"\u001b[0m: \u001b[32m\"transfer out\"\u001b[0m, \u001b[32m\"amount\"\u001b[0m:     \n",
       "         \u001b[1;36m199.59334325877614\u001b[0m, \u001b[32m\"transaction_date\"\u001b[0m: \u001b[32m\"02-07-2024 09:43:42\"\u001b[0m\u001b[1m}\u001b[0m, \u001b[1m{\u001b[0m\u001b[32m\"transaction_id\"\u001b[0m: \u001b[32m\"49\"\u001b[0m, \u001b[32m\"account_id\"\u001b[0m:    \n",
       "         \u001b[32m\"1\"\u001b[0m, \u001b[32m\"transaction_type\"\u001b[0m: \u001b[32m\"deposit\"\u001b[0m, \u001b[32m\"amount\"\u001b[0m: \u001b[1;36m118.51040886271932\u001b[0m, \u001b[32m\"transaction_date\"\u001b[0m: \u001b[32m\"02-07-2024 \u001b[0m        \n",
       "         \u001b[32m09:43:44\"\u001b[0m\u001b[1m}\u001b[0m, \u001b[1m{\u001b[0m\u001b[32m\"transaction_id\"\u001b[0m: \u001b[32m\"50\"\u001b[0m, \u001b[32m\"account_id\"\u001b[0m: \u001b[32m\"1\"\u001b[0m, \u001b[32m\"transaction_type\"\u001b[0m: \u001b[32m\"transfer out\"\u001b[0m, \u001b[32m\"amount\"\u001b[0m:     \n",
       "         \u001b[1;36m118.51040886271932\u001b[0m, \u001b[32m\"transaction_date\"\u001b[0m: \u001b[32m\"02-07-2024 09:43:44\"\u001b[0m\u001b[1m}\u001b[0m\u001b[1m]\u001b[0m\u001b[1m}\u001b[0m                                          \n"
      ]
     },
     "metadata": {},
     "output_type": "display_data"
    },
    {
     "data": {
      "text/html": [
       "<pre style=\"white-space:pre;overflow-x:auto;line-height:normal;font-family:Menlo,'DejaVu Sans Mono',consolas,'Courier New',monospace\"><span style=\"color: #008000; text-decoration-color: #008000\">DEBUG   </span> ---------- Ollama Response End ----------                                                                 \n",
       "</pre>\n"
      ],
      "text/plain": [
       "\u001b[32mDEBUG   \u001b[0m ---------- Ollama Response End ----------                                                                 \n"
      ]
     },
     "metadata": {},
     "output_type": "display_data"
    },
    {
     "data": {
      "text/html": [
       "<pre style=\"white-space:pre;overflow-x:auto;line-height:normal;font-family:Menlo,'DejaVu Sans Mono',consolas,'Courier New',monospace\"><span style=\"color: #008000; text-decoration-color: #008000\">DEBUG   </span> *********** Assistant Run End: <span style=\"color: #ffff00; text-decoration-color: #ffff00\">a76649c8-7c55-46f8-8682-ea62fdb154af</span> ***********                           \n",
       "</pre>\n"
      ],
      "text/plain": [
       "\u001b[32mDEBUG   \u001b[0m *********** Assistant Run End: \u001b[93ma76649c8-7c55-46f8-8682-ea62fdb154af\u001b[0m ***********                           \n"
      ]
     },
     "metadata": {},
     "output_type": "display_data"
    },
    {
     "name": "stdout",
     "output_type": "stream",
     "text": [
      "[{'role': 'assistant', 'content': \"Hi, I'm a local AI Assistant that uses function calling to answer questions\", 'metrics': {}}, {'role': 'user', 'content': 'Find the bank statement in account with id 1 for the last 5 hours'}, {'role': 'assistant', 'content': 'Here is my response:\\n\\nThe bank statement for account ID 1 for the last 5 hours is as follows:\\n\\n{\"account_id\": \"1\", \"statement\": {\"account_id\": \"1\", \"start_date\": \"02-07-2024 04:46:04\", \"end_date\": \"02-07-2024 09:46:04\", \"start_balance\": 0.0, \"end_balance\": 2812.9597340960213, \"transactions\": [{\"transaction_id\": \"3\", \"account_id\": \"1\", \"transaction_type\": \"transfer in\", \"amount\": 248.76547085454925, \"transaction_date\": \"02-07-2024 09:43:16\"}, {\"transaction_id\": \"6\", \"account_id\": \"1\", \"transaction_type\": \"transfer in\", \"amount\": 258.53032026263713, \"transaction_date\": \"02-07-2024 09:43:21\"}, {\"transaction_id\": \"17\", \"account_id\": \"1\", \"transaction_type\": \"transfer in\", \"amount\": 492.816680644318, \"transaction_date\": \"02-07-2024 09:43:24\"}, {\"transaction_id\": \"20\", \"account_id\": \"1\", \"transaction_type\": \"transfer in\", \"amount\": 381.67779475901114, \"transaction_date\": \"02-07-2024 09:43:25\"}, {\"transaction_id\": \"23\", \"account_id\": \"1\", \"transaction_type\": \"transfer in\", \"amount\": 196.64918453292358, \"transaction_date\": \"02-07-2024 09:43:27\"}, {\"transaction_id\": \"24\", \"account_id\": \"1\", \"transaction_type\": \"deposit\", \"amount\": 107.03827387170688, \"transaction_date\": \"02-07-2024 09:43:28\"}, {\"transaction_id\": \"30\", \"account_id\": \"1\", \"transaction_type\": \"transfer in\", \"amount\": 378.7741924952769, \"transaction_date\": \"02-07-2024 09:43:32\"}, {\"transaction_id\": \"31\", \"account_id\": \"1\", \"transaction_type\": \"deposit\", \"amount\": 207.57263164870733, \"transaction_date\": \"02-07-2024 09:43:34\"}, {\"transaction_id\": \"35\", \"account_id\": \"1\", \"transaction_type\": \"transfer in\", \"amount\": 148.83667203734672, \"transaction_date\": \"02-07-2024 09:43:36\"}, {\"transaction_id\": \"38\", \"account_id\": \"1\", \"transaction_type\": \"transfer in\", \"amount\": 147.31742703338318, \"transaction_date\": \"02-07-2024 09:43:37\"}, {\"transaction_id\": \"43\", \"account_id\": \"1\", \"transaction_type\": \"transfer in\", \"amount\": 411.82342953356, \"transaction_date\": \"02-07-2024 09:43:40\"}, {\"transaction_id\": \"45\", \"account_id\": \"1\", \"transaction_type\": \"withdrawal\", \"amount\": 199.59334325877614, \"transaction_date\": \"02-07-2024 09:43:42\"}, {\"transaction_id\": \"46\", \"account_id\": \"1\", \"transaction_type\": \"transfer out\", \"amount\": 199.59334325877614, \"transaction_date\": \"02-07-2024 09:43:42\"}, {\"transaction_id\": \"49\", \"account_id\": \"1\", \"transaction_type\": \"deposit\", \"amount\": 118.51040886271932, \"transaction_date\": \"02-07-2024 09:43:44\"}, {\"transaction_id\": \"50\", \"account_id\": \"1\", \"transaction_type\": \"transfer out\", \"amount\": 118.51040886271932, \"transaction_date\": \"02-07-2024 09:43:44\"}]}'}]\n"
     ]
    }
   ],
   "source": [
    "#restart_llm(\"groq\", \"llama3-8b-8192\", tools, False)\n",
    "restart_llm(\"ollama\", \"dolphin-mixtral:8x7b\", tools, False)\n",
    "prompt(\"Find the bank statement in account with id 1 for the last 5 hours\")"
   ]
  },
  {
   "cell_type": "code",
   "execution_count": 76,
   "id": "37bd7de5-214a-4e03-a342-f202e880df63",
   "metadata": {},
   "outputs": [],
   "source": [
    "# restart_llm(\"ollama\", \"llama3:instruct\", tools)\n",
    "# prompt(\"Find the bank statement in account 1 for the last 10 hours\")"
   ]
  },
  {
   "cell_type": "code",
   "execution_count": 77,
   "id": "21d1c723-051a-4461-b684-5fa9404d14d8",
   "metadata": {},
   "outputs": [],
   "source": [
    "# restart_llm(\"ollama\", \"gemma:instruct\", tools)\n",
    "# prompt(\"Retrieve a bank statement for account 2 for the past 2 days\")"
   ]
  },
  {
   "cell_type": "code",
   "execution_count": null,
   "id": "7c942341-0d7f-4dcf-ae6f-a24edbbea40d",
   "metadata": {},
   "outputs": [],
   "source": []
  },
  {
   "cell_type": "code",
   "execution_count": null,
   "id": "c3ae30cc-241f-416d-ab3f-cc72d68ad8e1",
   "metadata": {},
   "outputs": [],
   "source": []
  },
  {
   "cell_type": "code",
   "execution_count": 479,
   "id": "1eebabc8-525f-4c8f-9546-3770e2ba6bec",
   "metadata": {},
   "outputs": [],
   "source": [
    "import os \n",
    "from typing import Optional, List\n",
    "from phi.assistant import Assistant\n",
    "from phi.knowledge import AssistantKnowledge\n",
    "from phi.llm.ollama import Ollama\n",
    "from phi.embedder.ollama import OllamaEmbedder\n",
    "from phi.vectordb.pgvector import PgVector2\n",
    "from phi.storage.assistant.postgres import PgAssistantStorage\n",
    "from phi.document import Document\n",
    "from phi.document.reader.pdf import PDFReader\n",
    "from phi.document.reader.website import WebsiteReader\n",
    "from phi.embedder.openai import OpenAIEmbedder"
   ]
  },
  {
   "cell_type": "code",
   "execution_count": 480,
   "id": "c320f37b-6300-4845-93f2-f961986a7578",
   "metadata": {},
   "outputs": [],
   "source": [
    "db_url = \"postgresql+psycopg://ai:ai@localhost:5532/ai\""
   ]
  },
  {
   "cell_type": "code",
   "execution_count": 481,
   "id": "5760176b-3017-4c32-a8ce-b0572aee7702",
   "metadata": {},
   "outputs": [],
   "source": [
    "def get_bank_assistant(\n",
    "    llm_provider: str = \"groq\",\n",
    "    llm_model: str = None,\n",
    "    embeddings_model: str = None,\n",
    "    user_id: Optional[str] = None,\n",
    "    run_id: Optional[str] = None,\n",
    "    tools: List[Any] = None,\n",
    "    debug_mode: bool = True,\n",
    ") -> Assistant:\n",
    "    \"\"\"Get a Local RAG Assistant.\"\"\"\n",
    "\n",
    "    # Define the embedder based on the embeddings model\n",
    "    embedder = OllamaEmbedder(model=embeddings_model, dimensions=4096)\n",
    "    embeddings_model_clean = embeddings_model.replace(\"-\", \"_\")\n",
    "    if embeddings_model == \"nomic-embed-text\":\n",
    "        embedder = OllamaEmbedder(model=embeddings_model, dimensions=768)\n",
    "    elif embeddings_model == \"phi3\":\n",
    "        embedder = OllamaEmbedder(model=embeddings_model, dimensions=3072)\n",
    "\n",
    "    # if llm_provider == \"groq\":\n",
    "    #     embedder = OpenAIEmbedder(model=\"text-embedding-3-small\", dimensions=1536)\n",
    "\n",
    "    # Define the LLM\n",
    "    if llm_provider == \"groq\":\n",
    "        llm = Groq(model=llm_model)\n",
    "    elif llm_provider == \"ollama\":\n",
    "        llm = OllamaTools(model=llm_model)\n",
    "        \n",
    "    # Define the knowledge base\n",
    "    knowledge = AssistantKnowledge(\n",
    "        vector_db=PgVector2(\n",
    "            db_url=db_url,\n",
    "            collection=f\"bank_documents_{embeddings_model_clean}\",\n",
    "            embedder=embedder,\n",
    "        ),\n",
    "        # 5 references are added to the prompt\n",
    "        num_documents=5,\n",
    "    )\n",
    "\n",
    "    return Assistant(\n",
    "        name=\"beaks_bank_assistant\",\n",
    "        run_id=run_id,\n",
    "        user_id=user_id,\n",
    "        llm=llm,\n",
    "        storage=PgAssistantStorage(table_name=\"local_rag_assistant\", db_url=db_url),\n",
    "        knowledge_base=knowledge,\n",
    "        description=\"You are a 'Bank Assistant' and your task is to help answer the Bank's customer queries.\",\n",
    "        introduction=\"Hi, I'm an your Assistant to help with your queries.\\n\\n\",\n",
    "        instructions=[\n",
    "            f\"You are interacting with the user: {user_id}\",\n",
    "            \"When the user asks a specific question, find a relevant existing tools to provide a concise and relevant answer.\",\n",
    "            \"For generic question, search your knowledge base using the `search_knowledge_base` tool and provide a concise and relevant answer.\",\n",
    "            \"Do not use phrases like 'based on my knowledge' or 'depending on the information'.\",\n",
    "            \"If you did not find an answer with any of the tools simply say. 'I have no knowledge of this'\",\n",
    "        ],    \n",
    "        # use_tools adds default tools to search the knowledge base and chat history\n",
    "        use_tools=True,\n",
    "        tools=tools,\n",
    "        show_tool_calls=True,\n",
    "        # Uncomment this setting adds chat history to the messages\n",
    "        # add_chat_history_to_messages=True,\n",
    "        # Uncomment this setting to customize the number of previous messages added from the chat history\n",
    "        # num_history_messages=3,\n",
    "        # This setting adds references from the knowledge_base to the user prompt\n",
    "        add_references_to_prompt=True,\n",
    "        # This setting tells the LLM to format messages in markdown\n",
    "        markdown=True,\n",
    "        add_datetime_to_instructions=True,\n",
    "        debug_mode=debug_mode,\n",
    "    )"
   ]
  },
  {
   "cell_type": "code",
   "execution_count": 482,
   "id": "3cc5d168-b96c-4ba2-a8d1-409e32e8c938",
   "metadata": {},
   "outputs": [],
   "source": [
    "# Create assistant run (i.e. log to database) and save run_id in session state\n",
    "session_state[\"rag_assistant_run_id\"] = session_state[\"rag_assistant\"].create_run()"
   ]
  },
  {
   "cell_type": "code",
   "execution_count": 483,
   "id": "e2188400-2a28-4338-81e0-41bdcd8b0546",
   "metadata": {},
   "outputs": [],
   "source": [
    "# Load knowledge base\n",
    "def load_knowledge(input_url=None):\n",
    "    if session_state[\"rag_assistant\"].knowledge_base:\n",
    "        # -*- Add websites to knowledge base\n",
    "        session_state[\"processed_urls\"] = []\n",
    "        if (input_url is not None) and (input_url not in session_state[\"processed_urls\"]):\n",
    "            session_state[\"processed_urls\"].append(input_url)\n",
    "            \n",
    "            print(\"Processing URLs...\")\n",
    "            scraper = WebsiteReader(max_links=5, max_depth=5)\n",
    "            web_documents: List[Document] = scraper.read(input_url)\n",
    "            if web_documents:\n",
    "                session_state[\"rag_assistant\"].knowledge_base.load_documents(web_documents, upsert=True)\n",
    "            else:\n",
    "                print(\"Could not read website\") \n",
    "    \n",
    "        # Add PDFs to knowledge base\n",
    "        session_state[\"processed_pdfs\"] = []\n",
    "        uploaded_file = None\n",
    "        if uploaded_file is not None:\n",
    "            print(\"Processing PDF...\")\n",
    "            rag_name = uploaded_file.name.split(\".\")[0]\n",
    "            if rag_name not in session_state[\"processed_pdfs\"]:\n",
    "                reader = PDFReader()\n",
    "                rag_documents: List[Document] = reader.read(uploaded_file)\n",
    "                if rag_documents:\n",
    "                    session_state[\"rag_assistant\"].knowledge_base.load_documents(rag_documents, upsert=True)\n",
    "                else:\n",
    "                    print(\"Could not read PDF\")"
   ]
  },
  {
   "cell_type": "code",
   "execution_count": 484,
   "id": "31a5f8a4-8984-4510-898a-fbe2bbfca1e2",
   "metadata": {},
   "outputs": [],
   "source": [
    "def prompt(q):\n",
    "    session_state[\"messages\"].append({\"role\": \"user\", \"content\": q})\n",
    "    response = \"\"\n",
    "    for delta in session_state[\"rag_assistant\"].run(q, stream=False):\n",
    "        response += delta  # type: ignore\n",
    "        markdown.markdown(response)\n",
    "    session_state[\"messages\"].append({\"role\": \"assistant\", \"content\": response})\n",
    "    print(session_state[\"messages\"])"
   ]
  },
  {
   "cell_type": "code",
   "execution_count": 485,
   "id": "21356214-fc44-4e67-866e-f3cb0f207a3e",
   "metadata": {},
   "outputs": [],
   "source": [
    "# clear knowledgebase\n",
    "# session_state[\"rag_assistant\"].knowledge_base.vector_db.clear()"
   ]
  },
  {
   "cell_type": "code",
   "execution_count": 486,
   "id": "a328758e-106e-4c88-b983-edd06a44a521",
   "metadata": {},
   "outputs": [],
   "source": [
    "def restart_llm(provider, llm, embeddings_model, tools):\n",
    "    # Get the assistant\n",
    "    session_state[\"assistant\"] = get_bank_assistant(\n",
    "        provider,\n",
    "        llm_model=llm,\n",
    "        embeddings_model=embeddings_model,\n",
    "        tools=tools\n",
    "    )\n",
    "    \n",
    "    if session_state[\"rag_assistant\"].storage:\n",
    "        rag_assistant_run_ids: List[str] = session_state[\"rag_assistant\"].storage.get_all_run_ids()\n",
    "        print(f\"rag_assistant_run_ids: {rag_assistant_run_ids}\")\n",
    "        new_rag_assistant_run_id = rag_assistant_run_ids[0] \n",
    "        if session_state[\"rag_assistant_run_id\"] != new_rag_assistant_run_id:\n",
    "            print(f\"---*--- Loading run: {new_rag_assistant_run_id} ---*---\")\n",
    "            session_state[\"rag_assistant\"] = get_rag_assistant(\n",
    "                llm_model=\"llama3:instruct\", embeddings_model=embeddings_model, run_id=new_rag_assistant_run_id\n",
    "            )\n",
    "    \n",
    "    # Load existing messages\n",
    "    assistant_chat_history = session_state[\"rag_assistant\"].memory.get_chat_history()\n",
    "    if len(assistant_chat_history) > 0:\n",
    "        print(\"Loading chat history\")\n",
    "        session_state[\"messages\"] = assistant_chat_history\n",
    "    else:\n",
    "        print(\"No chat history found\")\n",
    "        session_state[\"messages\"] = [{\"role\": \"assistant\", \"content\": \"Upload a doc and ask me questions...\"}]\n",
    "        session_state[\"messages\"] = [{\"role\": \"assistant\", \"content\": \"Ask me questions...\"}]\n",
    "\n",
    "    # load_knowledge(input_url=\"https://www.standardbank.com/sbg/standard-bank-group/our-business/what-we-do\")"
   ]
  },
  {
   "cell_type": "code",
   "execution_count": 487,
   "id": "451c8bc2-cc28-40df-b313-3658fd5f15f5",
   "metadata": {},
   "outputs": [],
   "source": [
    "# restart_llm(\"groq\", \"llama3-8b-8192\", \"nomic-embed-text\", tools)\n",
    "# prompt(\"How do i get a loan bank?\")"
   ]
  },
  {
   "cell_type": "code",
   "execution_count": 488,
   "id": "656cc172-1a50-4a42-a075-1f7285fa9401",
   "metadata": {},
   "outputs": [
    {
     "data": {
      "text/html": [
       "<pre style=\"white-space:pre;overflow-x:auto;line-height:normal;font-family:Menlo,'DejaVu Sans Mono',consolas,'Courier New',monospace\"><span style=\"color: #008000; text-decoration-color: #008000\">DEBUG   </span> Debug logs enabled                                                                                        \n",
       "</pre>\n"
      ],
      "text/plain": [
       "\u001b[32mDEBUG   \u001b[0m Debug logs enabled                                                                                        \n"
      ]
     },
     "metadata": {},
     "output_type": "display_data"
    },
    {
     "name": "stdout",
     "output_type": "stream",
     "text": [
      "rag_assistant_run_ids: ['053a8ef9-21f0-408b-b27e-a31d416ccec2', '5fbde629-2363-4243-8cbd-a8c659acc42f', '2f21f9a5-343c-4c74-8f8a-5c7986f211fd', 'f77d0311-d1d3-4f63-b5c2-b833a7a1f00d', '13657779-1e52-411c-bfdf-3fd006659928', '8b8101f0-ca2d-4147-bc2d-55d41f3a72aa']\n",
      "Loading chat history\n"
     ]
    },
    {
     "data": {
      "text/html": [
       "<pre style=\"white-space:pre;overflow-x:auto;line-height:normal;font-family:Menlo,'DejaVu Sans Mono',consolas,'Courier New',monospace\"><span style=\"color: #008000; text-decoration-color: #008000\">DEBUG   </span> *********** Run Start: <span style=\"color: #ffff00; text-decoration-color: #ffff00\">053a8ef9-21f0-408b-b27e-a31d416ccec2</span> ***********                                   \n",
       "</pre>\n"
      ],
      "text/plain": [
       "\u001b[32mDEBUG   \u001b[0m *********** Run Start: \u001b[93m053a8ef9-21f0-408b-b27e-a31d416ccec2\u001b[0m ***********                                   \n"
      ]
     },
     "metadata": {},
     "output_type": "display_data"
    },
    {
     "data": {
      "text/html": [
       "<pre style=\"white-space:pre;overflow-x:auto;line-height:normal;font-family:Menlo,'DejaVu Sans Mono',consolas,'Courier New',monospace\"><span style=\"color: #008000; text-decoration-color: #008000\">DEBUG   </span> -*- Loading run: <span style=\"color: #ffff00; text-decoration-color: #ffff00\">053a8ef9-21f0-408b-b27e-a31d416ccec2</span>                                                     \n",
       "</pre>\n"
      ],
      "text/plain": [
       "\u001b[32mDEBUG   \u001b[0m -*- Loading run: \u001b[93m053a8ef9-21f0-408b-b27e-a31d416ccec2\u001b[0m                                                     \n"
      ]
     },
     "metadata": {},
     "output_type": "display_data"
    },
    {
     "data": {
      "text/html": [
       "<pre style=\"white-space:pre;overflow-x:auto;line-height:normal;font-family:Menlo,'DejaVu Sans Mono',consolas,'Courier New',monospace\"><span style=\"color: #008000; text-decoration-color: #008000\">DEBUG   </span> -*- Loaded run: <span style=\"color: #ffff00; text-decoration-color: #ffff00\">053a8ef9-21f0-408b-b27e-a31d416ccec2</span>                                                      \n",
       "</pre>\n"
      ],
      "text/plain": [
       "\u001b[32mDEBUG   \u001b[0m -*- Loaded run: \u001b[93m053a8ef9-21f0-408b-b27e-a31d416ccec2\u001b[0m                                                      \n"
      ]
     },
     "metadata": {},
     "output_type": "display_data"
    },
    {
     "data": {
      "text/html": [
       "<pre style=\"white-space:pre;overflow-x:auto;line-height:normal;font-family:Menlo,'DejaVu Sans Mono',consolas,'Courier New',monospace\"><span style=\"color: #008000; text-decoration-color: #008000\">DEBUG   </span> *********** Task <span style=\"color: #008080; text-decoration-color: #008080; font-weight: bold\">1</span> Start ***********                                                                      \n",
       "</pre>\n"
      ],
      "text/plain": [
       "\u001b[32mDEBUG   \u001b[0m *********** Task \u001b[1;36m1\u001b[0m Start ***********                                                                      \n"
      ]
     },
     "metadata": {},
     "output_type": "display_data"
    },
    {
     "data": {
      "text/html": [
       "<pre style=\"white-space:pre;overflow-x:auto;line-height:normal;font-family:Menlo,'DejaVu Sans Mono',consolas,'Courier New',monospace\"><span style=\"color: #008000; text-decoration-color: #008000\">DEBUG   </span> Function get_chat_history added to LLM.                                                                   \n",
       "</pre>\n"
      ],
      "text/plain": [
       "\u001b[32mDEBUG   \u001b[0m Function get_chat_history added to LLM.                                                                   \n"
      ]
     },
     "metadata": {},
     "output_type": "display_data"
    },
    {
     "data": {
      "text/html": [
       "<pre style=\"white-space:pre;overflow-x:auto;line-height:normal;font-family:Menlo,'DejaVu Sans Mono',consolas,'Courier New',monospace\"><span style=\"color: #008000; text-decoration-color: #008000\">DEBUG   </span> Function search_knowledge_base added to LLM.                                                              \n",
       "</pre>\n"
      ],
      "text/plain": [
       "\u001b[32mDEBUG   \u001b[0m Function search_knowledge_base added to LLM.                                                              \n"
      ]
     },
     "metadata": {},
     "output_type": "display_data"
    },
    {
     "data": {
      "text/html": [
       "<pre style=\"white-space:pre;overflow-x:auto;line-height:normal;font-family:Menlo,'DejaVu Sans Mono',consolas,'Courier New',monospace\"><span style=\"color: #008000; text-decoration-color: #008000\">DEBUG   </span> *********** Task Start: <span style=\"color: #ffff00; text-decoration-color: #ffff00\">57362fc0-5c5e-44c9-8b93-7bc2025ef80e</span> ***********                                  \n",
       "</pre>\n"
      ],
      "text/plain": [
       "\u001b[32mDEBUG   \u001b[0m *********** Task Start: \u001b[93m57362fc0-5c5e-44c9-8b93-7bc2025ef80e\u001b[0m ***********                                  \n"
      ]
     },
     "metadata": {},
     "output_type": "display_data"
    },
    {
     "data": {
      "text/html": [
       "<pre style=\"white-space:pre;overflow-x:auto;line-height:normal;font-family:Menlo,'DejaVu Sans Mono',consolas,'Courier New',monospace\"><span style=\"color: #008000; text-decoration-color: #008000\">DEBUG   </span> Getting <span style=\"color: #008080; text-decoration-color: #008080; font-weight: bold\">5</span> relevant documents for query: Retrieve a bank statement for account <span style=\"color: #008080; text-decoration-color: #008080; font-weight: bold\">2</span> for the past <span style=\"color: #008080; text-decoration-color: #008080; font-weight: bold\">2</span> days       \n",
       "</pre>\n"
      ],
      "text/plain": [
       "\u001b[32mDEBUG   \u001b[0m Getting \u001b[1;36m5\u001b[0m relevant documents for query: Retrieve a bank statement for account \u001b[1;36m2\u001b[0m for the past \u001b[1;36m2\u001b[0m days       \n"
      ]
     },
     "metadata": {},
     "output_type": "display_data"
    },
    {
     "data": {
      "text/html": [
       "<pre style=\"white-space:pre;overflow-x:auto;line-height:normal;font-family:Menlo,'DejaVu Sans Mono',consolas,'Courier New',monospace\"><span style=\"color: #800000; text-decoration-color: #800000\">WARNING </span> model <span style=\"color: #008000; text-decoration-color: #008000\">'llama3'</span> not found, try pulling it first                                                            \n",
       "</pre>\n"
      ],
      "text/plain": [
       "\u001b[31mWARNING \u001b[0m model \u001b[32m'llama3'\u001b[0m not found, try pulling it first                                                            \n"
      ]
     },
     "metadata": {},
     "output_type": "display_data"
    },
    {
     "data": {
      "text/html": [
       "<pre style=\"white-space:pre;overflow-x:auto;line-height:normal;font-family:Menlo,'DejaVu Sans Mono',consolas,'Courier New',monospace\"><span style=\"color: #008000; text-decoration-color: #008000\">DEBUG   </span> Query: SELECT ai.local_rag_documents_llama3.name, ai.local_rag_documents_llama3.meta_data,                \n",
       "         ai.local_rag_documents_llama3.content, ai.local_rag_documents_llama3.embedding,                           \n",
       "         ai.local_rag_documents_llama3.usage                                                                       \n",
       "         FROM ai.local_rag_documents_llama3 ORDER BY ai.local_rag_documents_llama3.embedding <span style=\"font-weight: bold\">&lt;</span><span style=\"color: #000000; text-decoration-color: #000000\">=</span><span style=\"font-weight: bold\">&gt;</span> :embedding_1      \n",
       "          LIMIT :param_1                                                                                           \n",
       "</pre>\n"
      ],
      "text/plain": [
       "\u001b[32mDEBUG   \u001b[0m Query: SELECT ai.local_rag_documents_llama3.name, ai.local_rag_documents_llama3.meta_data,                \n",
       "         ai.local_rag_documents_llama3.content, ai.local_rag_documents_llama3.embedding,                           \n",
       "         ai.local_rag_documents_llama3.usage                                                                       \n",
       "         FROM ai.local_rag_documents_llama3 ORDER BY ai.local_rag_documents_llama3.embedding \u001b[1m<\u001b[0m\u001b[39m=\u001b[0m\u001b[1m>\u001b[0m :embedding_1      \n",
       "          LIMIT :param_1                                                                                           \n"
      ]
     },
     "metadata": {},
     "output_type": "display_data"
    },
    {
     "data": {
      "text/html": [
       "<pre style=\"white-space:pre;overflow-x:auto;line-height:normal;font-family:Menlo,'DejaVu Sans Mono',consolas,'Courier New',monospace\"><span style=\"color: #800000; text-decoration-color: #800000; font-weight: bold\">ERROR   </span> Error searching for documents: <span style=\"font-weight: bold\">(</span>builtins.ValueError<span style=\"font-weight: bold\">)</span> expected <span style=\"color: #008080; text-decoration-color: #008080; font-weight: bold\">4096</span> dimensions, not <span style=\"color: #008080; text-decoration-color: #008080; font-weight: bold\">0</span>                      \n",
       "         <span style=\"font-weight: bold\">[</span>SQL: SELECT ai.local_rag_documents_llama3.name, ai.local_rag_documents_llama3.meta_data,                 \n",
       "         ai.local_rag_documents_llama3.content, ai.local_rag_documents_llama3.embedding,                           \n",
       "         ai.local_rag_documents_llama3.usage                                                                       \n",
       "         FROM ai.local_rag_documents_llama3 ORDER BY ai.local_rag_documents_llama3.embedding <span style=\"font-weight: bold\">&lt;</span><span style=\"color: #000000; text-decoration-color: #000000\">=</span><span style=\"font-weight: bold\">&gt;</span> %<span style=\"font-weight: bold\">(</span>embedding_1<span style=\"font-weight: bold\">)</span>s   \n",
       "          LIMIT %<span style=\"font-weight: bold\">(</span>param_1<span style=\"font-weight: bold\">)</span>s::INTEGER<span style=\"font-weight: bold\">]</span>                                                                              \n",
       "         <span style=\"font-weight: bold\">[</span>parameters: <span style=\"font-weight: bold\">[{}]]</span>                                                                                        \n",
       "</pre>\n"
      ],
      "text/plain": [
       "\u001b[1;31mERROR   \u001b[0m Error searching for documents: \u001b[1m(\u001b[0mbuiltins.ValueError\u001b[1m)\u001b[0m expected \u001b[1;36m4096\u001b[0m dimensions, not \u001b[1;36m0\u001b[0m                      \n",
       "         \u001b[1m[\u001b[0mSQL: SELECT ai.local_rag_documents_llama3.name, ai.local_rag_documents_llama3.meta_data,                 \n",
       "         ai.local_rag_documents_llama3.content, ai.local_rag_documents_llama3.embedding,                           \n",
       "         ai.local_rag_documents_llama3.usage                                                                       \n",
       "         FROM ai.local_rag_documents_llama3 ORDER BY ai.local_rag_documents_llama3.embedding \u001b[1m<\u001b[0m\u001b[39m=\u001b[0m\u001b[1m>\u001b[0m %\u001b[1m(\u001b[0membedding_1\u001b[1m)\u001b[0ms   \n",
       "          LIMIT %\u001b[1m(\u001b[0mparam_1\u001b[1m)\u001b[0ms::INTEGER\u001b[1m]\u001b[0m                                                                              \n",
       "         \u001b[1m[\u001b[0mparameters: \u001b[1m[\u001b[0m\u001b[1m{\u001b[0m\u001b[1m}\u001b[0m\u001b[1m]\u001b[0m\u001b[1m]\u001b[0m                                                                                        \n"
      ]
     },
     "metadata": {},
     "output_type": "display_data"
    },
    {
     "data": {
      "text/html": [
       "<pre style=\"white-space:pre;overflow-x:auto;line-height:normal;font-family:Menlo,'DejaVu Sans Mono',consolas,'Courier New',monospace\"><span style=\"color: #800000; text-decoration-color: #800000; font-weight: bold\">ERROR   </span> Table might not exist, creating for future use                                                            \n",
       "</pre>\n"
      ],
      "text/plain": [
       "\u001b[1;31mERROR   \u001b[0m Table might not exist, creating for future use                                                            \n"
      ]
     },
     "metadata": {},
     "output_type": "display_data"
    },
    {
     "data": {
      "text/html": [
       "<pre style=\"white-space:pre;overflow-x:auto;line-height:normal;font-family:Menlo,'DejaVu Sans Mono',consolas,'Courier New',monospace\"><span style=\"color: #008000; text-decoration-color: #008000\">DEBUG   </span> Checking if table exists: local_rag_documents_llama3                                                      \n",
       "</pre>\n"
      ],
      "text/plain": [
       "\u001b[32mDEBUG   \u001b[0m Checking if table exists: local_rag_documents_llama3                                                      \n"
      ]
     },
     "metadata": {},
     "output_type": "display_data"
    },
    {
     "data": {
      "text/html": [
       "<pre style=\"white-space:pre;overflow-x:auto;line-height:normal;font-family:Menlo,'DejaVu Sans Mono',consolas,'Courier New',monospace\"><span style=\"color: #008000; text-decoration-color: #008000\">DEBUG   </span> Time to get references: <span style=\"color: #008080; text-decoration-color: #008080; font-weight: bold\">0.</span>0910s                                                                           \n",
       "</pre>\n"
      ],
      "text/plain": [
       "\u001b[32mDEBUG   \u001b[0m Time to get references: \u001b[1;36m0.\u001b[0m0910s                                                                           \n"
      ]
     },
     "metadata": {},
     "output_type": "display_data"
    },
    {
     "data": {
      "text/html": [
       "<pre style=\"white-space:pre;overflow-x:auto;line-height:normal;font-family:Menlo,'DejaVu Sans Mono',consolas,'Courier New',monospace\"><span style=\"color: #008000; text-decoration-color: #008000\">DEBUG   </span> ---------- Groq Response Start ----------                                                                 \n",
       "</pre>\n"
      ],
      "text/plain": [
       "\u001b[32mDEBUG   \u001b[0m ---------- Groq Response Start ----------                                                                 \n"
      ]
     },
     "metadata": {},
     "output_type": "display_data"
    },
    {
     "data": {
      "text/html": [
       "<pre style=\"white-space:pre;overflow-x:auto;line-height:normal;font-family:Menlo,'DejaVu Sans Mono',consolas,'Courier New',monospace\"><span style=\"color: #008000; text-decoration-color: #008000\">DEBUG   </span> ============== system ==============                                                                      \n",
       "</pre>\n"
      ],
      "text/plain": [
       "\u001b[32mDEBUG   \u001b[0m ============== system ==============                                                                      \n"
      ]
     },
     "metadata": {},
     "output_type": "display_data"
    },
    {
     "data": {
      "text/html": [
       "<pre style=\"white-space:pre;overflow-x:auto;line-height:normal;font-family:Menlo,'DejaVu Sans Mono',consolas,'Courier New',monospace\"><span style=\"color: #008000; text-decoration-color: #008000\">DEBUG   </span> You are a <span style=\"color: #008000; text-decoration-color: #008000\">'Bank Assistant'</span> and your task is to help answer the Bank's customer queries.                   \n",
       "         YOU MUST FOLLOW THESE INSTRUCTIONS CAREFULLY.                                                             \n",
       "         <span style=\"font-weight: bold\">&lt;</span><span style=\"color: #ff00ff; text-decoration-color: #ff00ff; font-weight: bold\">instructions</span><span style=\"color: #000000; text-decoration-color: #000000\">&gt;</span>                                                                                            \n",
       "         <span style=\"color: #008080; text-decoration-color: #008080; font-weight: bold\">1</span><span style=\"color: #000000; text-decoration-color: #000000\">. You are interacting with the user: </span><span style=\"color: #800080; text-decoration-color: #800080; font-style: italic\">None</span>                                                                \n",
       "         <span style=\"color: #008080; text-decoration-color: #008080; font-weight: bold\">2</span><span style=\"color: #000000; text-decoration-color: #000000\">. When the user asks a specific question, find a relevant existing tools to provide a concise and </span>       \n",
       "         <span style=\"color: #000000; text-decoration-color: #000000\">relevant answer.</span>                                                                                          \n",
       "         <span style=\"color: #008080; text-decoration-color: #008080; font-weight: bold\">3</span><span style=\"color: #000000; text-decoration-color: #000000\">. For generic question, search your knowledge base using the `search_knowledge_base` tool and provide a </span> \n",
       "         <span style=\"color: #000000; text-decoration-color: #000000\">concise and relevant answer.</span>                                                                              \n",
       "         <span style=\"color: #008080; text-decoration-color: #008080; font-weight: bold\">4</span><span style=\"color: #000000; text-decoration-color: #000000\">. Do not use phrases like </span><span style=\"color: #008000; text-decoration-color: #008000\">'based on my knowledge'</span><span style=\"color: #000000; text-decoration-color: #000000\"> or </span><span style=\"color: #008000; text-decoration-color: #008000\">'depending on the information'</span><span style=\"color: #000000; text-decoration-color: #000000\">.</span>                     \n",
       "         <span style=\"color: #008080; text-decoration-color: #008080; font-weight: bold\">5</span><span style=\"color: #000000; text-decoration-color: #000000\">. If you did not find an answer with any of the tools simply say. </span><span style=\"color: #008000; text-decoration-color: #008000\">'I have no knowledge of this'</span>          \n",
       "         <span style=\"color: #008080; text-decoration-color: #008080; font-weight: bold\">6</span><span style=\"color: #000000; text-decoration-color: #000000\">. Use markdown to format your answers.</span>                                                                   \n",
       "         <span style=\"color: #008080; text-decoration-color: #008080; font-weight: bold\">7</span><span style=\"color: #000000; text-decoration-color: #000000\">. The current time is </span><span style=\"color: #008080; text-decoration-color: #008080; font-weight: bold\">2024</span><span style=\"color: #000000; text-decoration-color: #000000\">-</span><span style=\"color: #008080; text-decoration-color: #008080; font-weight: bold\">05</span><span style=\"color: #000000; text-decoration-color: #000000\">-</span><span style=\"color: #008080; text-decoration-color: #008080; font-weight: bold\">02</span><span style=\"color: #000000; text-decoration-color: #000000\"> </span><span style=\"color: #00ff00; text-decoration-color: #00ff00; font-weight: bold\">06:30:18</span><span style=\"color: #000000; text-decoration-color: #000000\">.</span><span style=\"color: #008080; text-decoration-color: #008080; font-weight: bold\">397230</span>                                                         \n",
       "         <span style=\"color: #000000; text-decoration-color: #000000\">&lt;</span><span style=\"color: #800080; text-decoration-color: #800080\">/</span><span style=\"color: #ff00ff; text-decoration-color: #ff00ff\">instructions</span><span style=\"font-weight: bold\">&gt;</span>                                                                                           \n",
       "</pre>\n"
      ],
      "text/plain": [
       "\u001b[32mDEBUG   \u001b[0m You are a \u001b[32m'Bank Assistant'\u001b[0m and your task is to help answer the Bank's customer queries.                   \n",
       "         YOU MUST FOLLOW THESE INSTRUCTIONS CAREFULLY.                                                             \n",
       "         \u001b[1m<\u001b[0m\u001b[1;95minstructions\u001b[0m\u001b[39m>\u001b[0m                                                                                            \n",
       "         \u001b[1;36m1\u001b[0m\u001b[39m. You are interacting with the user: \u001b[0m\u001b[3;35mNone\u001b[0m                                                                \n",
       "         \u001b[1;36m2\u001b[0m\u001b[39m. When the user asks a specific question, find a relevant existing tools to provide a concise and \u001b[0m       \n",
       "         \u001b[39mrelevant answer.\u001b[0m                                                                                          \n",
       "         \u001b[1;36m3\u001b[0m\u001b[39m. For generic question, search your knowledge base using the `search_knowledge_base` tool and provide a \u001b[0m \n",
       "         \u001b[39mconcise and relevant answer.\u001b[0m                                                                              \n",
       "         \u001b[1;36m4\u001b[0m\u001b[39m. Do not use phrases like \u001b[0m\u001b[32m'based on my knowledge'\u001b[0m\u001b[39m or \u001b[0m\u001b[32m'depending on the information'\u001b[0m\u001b[39m.\u001b[0m                     \n",
       "         \u001b[1;36m5\u001b[0m\u001b[39m. If you did not find an answer with any of the tools simply say. \u001b[0m\u001b[32m'I have no knowledge of this'\u001b[0m          \n",
       "         \u001b[1;36m6\u001b[0m\u001b[39m. Use markdown to format your answers.\u001b[0m                                                                   \n",
       "         \u001b[1;36m7\u001b[0m\u001b[39m. The current time is \u001b[0m\u001b[1;36m2024\u001b[0m\u001b[39m-\u001b[0m\u001b[1;36m05\u001b[0m\u001b[39m-\u001b[0m\u001b[1;36m02\u001b[0m\u001b[39m \u001b[0m\u001b[1;92m06:30:18\u001b[0m\u001b[39m.\u001b[0m\u001b[1;36m397230\u001b[0m                                                         \n",
       "         \u001b[39m<\u001b[0m\u001b[35m/\u001b[0m\u001b[95minstructions\u001b[0m\u001b[1m>\u001b[0m                                                                                           \n"
      ]
     },
     "metadata": {},
     "output_type": "display_data"
    },
    {
     "data": {
      "text/html": [
       "<pre style=\"white-space:pre;overflow-x:auto;line-height:normal;font-family:Menlo,'DejaVu Sans Mono',consolas,'Courier New',monospace\"><span style=\"color: #008000; text-decoration-color: #008000\">DEBUG   </span> ============== user ==============                                                                        \n",
       "</pre>\n"
      ],
      "text/plain": [
       "\u001b[32mDEBUG   \u001b[0m ============== user ==============                                                                        \n"
      ]
     },
     "metadata": {},
     "output_type": "display_data"
    },
    {
     "data": {
      "text/html": [
       "<pre style=\"white-space:pre;overflow-x:auto;line-height:normal;font-family:Menlo,'DejaVu Sans Mono',consolas,'Courier New',monospace\"><span style=\"color: #008000; text-decoration-color: #008000\">DEBUG   </span> Respond to the following message from a user:                                                             \n",
       "         USER: Retrieve a bank statement for account <span style=\"color: #008080; text-decoration-color: #008080; font-weight: bold\">2</span> for the past <span style=\"color: #008080; text-decoration-color: #008080; font-weight: bold\">2</span> days                                         \n",
       "                                                                                                                   \n",
       "                                                                                                                   \n",
       "         ASSISTANT:                                                                                                \n",
       "</pre>\n"
      ],
      "text/plain": [
       "\u001b[32mDEBUG   \u001b[0m Respond to the following message from a user:                                                             \n",
       "         USER: Retrieve a bank statement for account \u001b[1;36m2\u001b[0m for the past \u001b[1;36m2\u001b[0m days                                         \n",
       "                                                                                                                   \n",
       "                                                                                                                   \n",
       "         ASSISTANT:                                                                                                \n"
      ]
     },
     "metadata": {},
     "output_type": "display_data"
    },
    {
     "ename": "NotFoundError",
     "evalue": "Error code: 404 - {'error': {'message': 'The model `llama3:instruct` does not exist or you do not have access to it.', 'type': 'invalid_request_error', 'code': 'model_not_found'}}",
     "output_type": "error",
     "traceback": [
      "\u001b[0;31m---------------------------------------------------------------------------\u001b[0m",
      "\u001b[0;31mNotFoundError\u001b[0m                             Traceback (most recent call last)",
      "Cell \u001b[0;32mIn[488], line 2\u001b[0m\n\u001b[1;32m      1\u001b[0m restart_llm(\u001b[38;5;124m\"\u001b[39m\u001b[38;5;124mollama\u001b[39m\u001b[38;5;124m\"\u001b[39m, \u001b[38;5;124m\"\u001b[39m\u001b[38;5;124mgemma:instruct\u001b[39m\u001b[38;5;124m\"\u001b[39m, \u001b[38;5;124m\"\u001b[39m\u001b[38;5;124mnomic-embed-text\u001b[39m\u001b[38;5;124m\"\u001b[39m, tools)\n\u001b[0;32m----> 2\u001b[0m prompt(\u001b[38;5;124m\"\u001b[39m\u001b[38;5;124mRetrieve a bank statement for account 2 for the past 2 days\u001b[39m\u001b[38;5;124m\"\u001b[39m)\n",
      "Cell \u001b[0;32mIn[484], line 4\u001b[0m, in \u001b[0;36mprompt\u001b[0;34m(q)\u001b[0m\n\u001b[1;32m      2\u001b[0m session_state[\u001b[38;5;124m\"\u001b[39m\u001b[38;5;124mmessages\u001b[39m\u001b[38;5;124m\"\u001b[39m]\u001b[38;5;241m.\u001b[39mappend({\u001b[38;5;124m\"\u001b[39m\u001b[38;5;124mrole\u001b[39m\u001b[38;5;124m\"\u001b[39m: \u001b[38;5;124m\"\u001b[39m\u001b[38;5;124muser\u001b[39m\u001b[38;5;124m\"\u001b[39m, \u001b[38;5;124m\"\u001b[39m\u001b[38;5;124mcontent\u001b[39m\u001b[38;5;124m\"\u001b[39m: q})\n\u001b[1;32m      3\u001b[0m response \u001b[38;5;241m=\u001b[39m \u001b[38;5;124m\"\u001b[39m\u001b[38;5;124m\"\u001b[39m\n\u001b[0;32m----> 4\u001b[0m \u001b[38;5;28;01mfor\u001b[39;00m delta \u001b[38;5;129;01min\u001b[39;00m session_state[\u001b[38;5;124m\"\u001b[39m\u001b[38;5;124mrag_assistant\u001b[39m\u001b[38;5;124m\"\u001b[39m]\u001b[38;5;241m.\u001b[39mrun(q, stream\u001b[38;5;241m=\u001b[39m\u001b[38;5;28;01mFalse\u001b[39;00m):\n\u001b[1;32m      5\u001b[0m     response \u001b[38;5;241m+\u001b[39m\u001b[38;5;241m=\u001b[39m delta  \u001b[38;5;66;03m# type: ignore\u001b[39;00m\n\u001b[1;32m      6\u001b[0m     markdown\u001b[38;5;241m.\u001b[39mmarkdown(response)\n",
      "File \u001b[0;32m~/anaconda3/envs/bbank/lib/python3.11/site-packages/phi/assistant/assistant.py:626\u001b[0m, in \u001b[0;36mAssistant.run\u001b[0;34m(self, message, stream, **kwargs)\u001b[0m\n\u001b[1;32m    624\u001b[0m \u001b[38;5;28;01melse\u001b[39;00m:\n\u001b[1;32m    625\u001b[0m     resp \u001b[38;5;241m=\u001b[39m \u001b[38;5;28mself\u001b[39m\u001b[38;5;241m.\u001b[39m_run(message\u001b[38;5;241m=\u001b[39mmessage, stream\u001b[38;5;241m=\u001b[39m\u001b[38;5;28;01mFalse\u001b[39;00m, \u001b[38;5;241m*\u001b[39m\u001b[38;5;241m*\u001b[39mkwargs)\n\u001b[0;32m--> 626\u001b[0m     \u001b[38;5;28;01mreturn\u001b[39;00m \u001b[38;5;28mnext\u001b[39m(resp)\n",
      "File \u001b[0;32m~/anaconda3/envs/bbank/lib/python3.11/site-packages/phi/assistant/assistant.py:534\u001b[0m, in \u001b[0;36mAssistant._run\u001b[0;34m(self, message, stream, **kwargs)\u001b[0m\n\u001b[1;32m    532\u001b[0m             \u001b[38;5;28;01myield\u001b[39;00m chunk \u001b[38;5;28;01mif\u001b[39;00m \u001b[38;5;28misinstance\u001b[39m(chunk, \u001b[38;5;28mstr\u001b[39m) \u001b[38;5;28;01melse\u001b[39;00m \u001b[38;5;124m\"\u001b[39m\u001b[38;5;124m\"\u001b[39m\n\u001b[1;32m    533\u001b[0m \u001b[38;5;28;01melse\u001b[39;00m:\n\u001b[0;32m--> 534\u001b[0m     current_task_response \u001b[38;5;241m=\u001b[39m current_task\u001b[38;5;241m.\u001b[39mrun(message\u001b[38;5;241m=\u001b[39mcurrent_task_message, stream\u001b[38;5;241m=\u001b[39m\u001b[38;5;28;01mFalse\u001b[39;00m, \u001b[38;5;241m*\u001b[39m\u001b[38;5;241m*\u001b[39mkwargs)  \u001b[38;5;66;03m# type: ignore\u001b[39;00m\n\u001b[1;32m    535\u001b[0m     current_task_response_str \u001b[38;5;241m=\u001b[39m \u001b[38;5;124m\"\u001b[39m\u001b[38;5;124m\"\u001b[39m\n\u001b[1;32m    536\u001b[0m     \u001b[38;5;28;01mtry\u001b[39;00m:\n",
      "File \u001b[0;32m~/anaconda3/envs/bbank/lib/python3.11/site-packages/phi/task/llm/llm_task.py:686\u001b[0m, in \u001b[0;36mLLMTask.run\u001b[0;34m(self, message, stream, **kwargs)\u001b[0m\n\u001b[1;32m    684\u001b[0m \u001b[38;5;28;01melse\u001b[39;00m:\n\u001b[1;32m    685\u001b[0m     resp \u001b[38;5;241m=\u001b[39m \u001b[38;5;28mself\u001b[39m\u001b[38;5;241m.\u001b[39m_run(message\u001b[38;5;241m=\u001b[39mmessage, stream\u001b[38;5;241m=\u001b[39m\u001b[38;5;28;01mFalse\u001b[39;00m, \u001b[38;5;241m*\u001b[39m\u001b[38;5;241m*\u001b[39mkwargs)\n\u001b[0;32m--> 686\u001b[0m     \u001b[38;5;28;01mreturn\u001b[39;00m \u001b[38;5;28mnext\u001b[39m(resp)\n",
      "File \u001b[0;32m~/anaconda3/envs/bbank/lib/python3.11/site-packages/phi/task/llm/llm_task.py:602\u001b[0m, in \u001b[0;36mLLMTask._run\u001b[0;34m(self, message, stream, **kwargs)\u001b[0m\n\u001b[1;32m    600\u001b[0m         \u001b[38;5;28;01myield\u001b[39;00m response_chunk\n\u001b[1;32m    601\u001b[0m \u001b[38;5;28;01melse\u001b[39;00m:\n\u001b[0;32m--> 602\u001b[0m     task_response \u001b[38;5;241m=\u001b[39m \u001b[38;5;28mself\u001b[39m\u001b[38;5;241m.\u001b[39mllm\u001b[38;5;241m.\u001b[39mresponse(messages\u001b[38;5;241m=\u001b[39mmessages)\n\u001b[1;32m    604\u001b[0m \u001b[38;5;66;03m# -*- Update task memory\u001b[39;00m\n\u001b[1;32m    605\u001b[0m \u001b[38;5;66;03m# Add user message to the task memory - this is added to the chat_history\u001b[39;00m\n\u001b[1;32m    606\u001b[0m user_message \u001b[38;5;241m=\u001b[39m Message(role\u001b[38;5;241m=\u001b[39m\u001b[38;5;124m\"\u001b[39m\u001b[38;5;124muser\u001b[39m\u001b[38;5;124m\"\u001b[39m, content\u001b[38;5;241m=\u001b[39mmessage) \u001b[38;5;28;01mif\u001b[39;00m message \u001b[38;5;129;01mis\u001b[39;00m \u001b[38;5;129;01mnot\u001b[39;00m \u001b[38;5;28;01mNone\u001b[39;00m \u001b[38;5;28;01melse\u001b[39;00m \u001b[38;5;28;01mNone\u001b[39;00m\n",
      "File \u001b[0;32m~/anaconda3/envs/bbank/lib/python3.11/site-packages/phi/llm/groq/groq.py:174\u001b[0m, in \u001b[0;36mGroq.response\u001b[0;34m(self, messages)\u001b[0m\n\u001b[1;32m    172\u001b[0m response_timer \u001b[38;5;241m=\u001b[39m Timer()\n\u001b[1;32m    173\u001b[0m response_timer\u001b[38;5;241m.\u001b[39mstart()\n\u001b[0;32m--> 174\u001b[0m response: ChatCompletion \u001b[38;5;241m=\u001b[39m \u001b[38;5;28mself\u001b[39m\u001b[38;5;241m.\u001b[39minvoke(messages\u001b[38;5;241m=\u001b[39mmessages)\n\u001b[1;32m    175\u001b[0m response_timer\u001b[38;5;241m.\u001b[39mstop()\n\u001b[1;32m    176\u001b[0m logger\u001b[38;5;241m.\u001b[39mdebug(\u001b[38;5;124mf\u001b[39m\u001b[38;5;124m\"\u001b[39m\u001b[38;5;124mTime to generate response: \u001b[39m\u001b[38;5;132;01m{\u001b[39;00mresponse_timer\u001b[38;5;241m.\u001b[39melapsed\u001b[38;5;132;01m:\u001b[39;00m\u001b[38;5;124m.4f\u001b[39m\u001b[38;5;132;01m}\u001b[39;00m\u001b[38;5;124ms\u001b[39m\u001b[38;5;124m\"\u001b[39m)\n",
      "File \u001b[0;32m~/anaconda3/envs/bbank/lib/python3.11/site-packages/phi/llm/groq/groq.py:152\u001b[0m, in \u001b[0;36mGroq.invoke\u001b[0;34m(self, messages)\u001b[0m\n\u001b[1;32m    151\u001b[0m \u001b[38;5;28;01mdef\u001b[39;00m \u001b[38;5;21minvoke\u001b[39m(\u001b[38;5;28mself\u001b[39m, messages: List[Message]) \u001b[38;5;241m-\u001b[39m\u001b[38;5;241m>\u001b[39m ChatCompletion:\n\u001b[0;32m--> 152\u001b[0m     \u001b[38;5;28;01mreturn\u001b[39;00m \u001b[38;5;28mself\u001b[39m\u001b[38;5;241m.\u001b[39mclient\u001b[38;5;241m.\u001b[39mchat\u001b[38;5;241m.\u001b[39mcompletions\u001b[38;5;241m.\u001b[39mcreate(\n\u001b[1;32m    153\u001b[0m         model\u001b[38;5;241m=\u001b[39m\u001b[38;5;28mself\u001b[39m\u001b[38;5;241m.\u001b[39mmodel,\n\u001b[1;32m    154\u001b[0m         messages\u001b[38;5;241m=\u001b[39m[m\u001b[38;5;241m.\u001b[39mto_dict() \u001b[38;5;28;01mfor\u001b[39;00m m \u001b[38;5;129;01min\u001b[39;00m messages],  \u001b[38;5;66;03m# type: ignore\u001b[39;00m\n\u001b[1;32m    155\u001b[0m         \u001b[38;5;241m*\u001b[39m\u001b[38;5;241m*\u001b[39m\u001b[38;5;28mself\u001b[39m\u001b[38;5;241m.\u001b[39mapi_kwargs,\n\u001b[1;32m    156\u001b[0m     )\n",
      "File \u001b[0;32m~/anaconda3/envs/bbank/lib/python3.11/site-packages/groq/resources/chat/completions.py:178\u001b[0m, in \u001b[0;36mCompletions.create\u001b[0;34m(self, messages, model, frequency_penalty, logit_bias, logprobs, max_tokens, n, presence_penalty, response_format, seed, stop, stream, temperature, tool_choice, tools, top_logprobs, top_p, user, extra_headers, extra_query, extra_body, timeout)\u001b[0m\n\u001b[1;32m    135\u001b[0m \u001b[38;5;28;01mdef\u001b[39;00m \u001b[38;5;21mcreate\u001b[39m(\n\u001b[1;32m    136\u001b[0m     \u001b[38;5;28mself\u001b[39m,\n\u001b[1;32m    137\u001b[0m     \u001b[38;5;241m*\u001b[39m,\n\u001b[0;32m   (...)\u001b[0m\n\u001b[1;32m    161\u001b[0m     timeout: \u001b[38;5;28mfloat\u001b[39m \u001b[38;5;241m|\u001b[39m httpx\u001b[38;5;241m.\u001b[39mTimeout \u001b[38;5;241m|\u001b[39m \u001b[38;5;28;01mNone\u001b[39;00m \u001b[38;5;241m|\u001b[39m NotGiven \u001b[38;5;241m=\u001b[39m NOT_GIVEN,\n\u001b[1;32m    162\u001b[0m ) \u001b[38;5;241m-\u001b[39m\u001b[38;5;241m>\u001b[39m ChatCompletion \u001b[38;5;241m|\u001b[39m Stream[ChatCompletionChunk]:\n\u001b[1;32m    163\u001b[0m \u001b[38;5;250m    \u001b[39m\u001b[38;5;124;03m\"\"\"\u001b[39;00m\n\u001b[1;32m    164\u001b[0m \u001b[38;5;124;03m    Creates a completion for a chat prompt\u001b[39;00m\n\u001b[1;32m    165\u001b[0m \n\u001b[0;32m   (...)\u001b[0m\n\u001b[1;32m    176\u001b[0m \u001b[38;5;124;03m      timeout: Override the client-level default timeout for this request, in seconds\u001b[39;00m\n\u001b[1;32m    177\u001b[0m \u001b[38;5;124;03m    \"\"\"\u001b[39;00m\n\u001b[0;32m--> 178\u001b[0m     \u001b[38;5;28;01mreturn\u001b[39;00m \u001b[38;5;28mself\u001b[39m\u001b[38;5;241m.\u001b[39m_post(\n\u001b[1;32m    179\u001b[0m         \u001b[38;5;124m\"\u001b[39m\u001b[38;5;124m/openai/v1/chat/completions\u001b[39m\u001b[38;5;124m\"\u001b[39m,\n\u001b[1;32m    180\u001b[0m         body\u001b[38;5;241m=\u001b[39mmaybe_transform(\n\u001b[1;32m    181\u001b[0m             {\n\u001b[1;32m    182\u001b[0m                 \u001b[38;5;124m\"\u001b[39m\u001b[38;5;124mmessages\u001b[39m\u001b[38;5;124m\"\u001b[39m: messages,\n\u001b[1;32m    183\u001b[0m                 \u001b[38;5;124m\"\u001b[39m\u001b[38;5;124mmodel\u001b[39m\u001b[38;5;124m\"\u001b[39m: model,\n\u001b[1;32m    184\u001b[0m                 \u001b[38;5;124m\"\u001b[39m\u001b[38;5;124mfrequency_penalty\u001b[39m\u001b[38;5;124m\"\u001b[39m: frequency_penalty,\n\u001b[1;32m    185\u001b[0m                 \u001b[38;5;124m\"\u001b[39m\u001b[38;5;124mlogit_bias\u001b[39m\u001b[38;5;124m\"\u001b[39m: logit_bias,\n\u001b[1;32m    186\u001b[0m                 \u001b[38;5;124m\"\u001b[39m\u001b[38;5;124mlogprobs\u001b[39m\u001b[38;5;124m\"\u001b[39m: logprobs,\n\u001b[1;32m    187\u001b[0m                 \u001b[38;5;124m\"\u001b[39m\u001b[38;5;124mmax_tokens\u001b[39m\u001b[38;5;124m\"\u001b[39m: max_tokens,\n\u001b[1;32m    188\u001b[0m                 \u001b[38;5;124m\"\u001b[39m\u001b[38;5;124mn\u001b[39m\u001b[38;5;124m\"\u001b[39m: n,\n\u001b[1;32m    189\u001b[0m                 \u001b[38;5;124m\"\u001b[39m\u001b[38;5;124mpresence_penalty\u001b[39m\u001b[38;5;124m\"\u001b[39m: presence_penalty,\n\u001b[1;32m    190\u001b[0m                 \u001b[38;5;124m\"\u001b[39m\u001b[38;5;124mresponse_format\u001b[39m\u001b[38;5;124m\"\u001b[39m: response_format,\n\u001b[1;32m    191\u001b[0m                 \u001b[38;5;124m\"\u001b[39m\u001b[38;5;124mseed\u001b[39m\u001b[38;5;124m\"\u001b[39m: seed,\n\u001b[1;32m    192\u001b[0m                 \u001b[38;5;124m\"\u001b[39m\u001b[38;5;124mstop\u001b[39m\u001b[38;5;124m\"\u001b[39m: stop,\n\u001b[1;32m    193\u001b[0m                 \u001b[38;5;124m\"\u001b[39m\u001b[38;5;124mstream\u001b[39m\u001b[38;5;124m\"\u001b[39m: stream,\n\u001b[1;32m    194\u001b[0m                 \u001b[38;5;124m\"\u001b[39m\u001b[38;5;124mtemperature\u001b[39m\u001b[38;5;124m\"\u001b[39m: temperature,\n\u001b[1;32m    195\u001b[0m                 \u001b[38;5;124m\"\u001b[39m\u001b[38;5;124mtool_choice\u001b[39m\u001b[38;5;124m\"\u001b[39m: tool_choice,\n\u001b[1;32m    196\u001b[0m                 \u001b[38;5;124m\"\u001b[39m\u001b[38;5;124mtools\u001b[39m\u001b[38;5;124m\"\u001b[39m: tools,\n\u001b[1;32m    197\u001b[0m                 \u001b[38;5;124m\"\u001b[39m\u001b[38;5;124mtop_logprobs\u001b[39m\u001b[38;5;124m\"\u001b[39m: top_logprobs,\n\u001b[1;32m    198\u001b[0m                 \u001b[38;5;124m\"\u001b[39m\u001b[38;5;124mtop_p\u001b[39m\u001b[38;5;124m\"\u001b[39m: top_p,\n\u001b[1;32m    199\u001b[0m                 \u001b[38;5;124m\"\u001b[39m\u001b[38;5;124muser\u001b[39m\u001b[38;5;124m\"\u001b[39m: user,\n\u001b[1;32m    200\u001b[0m             },\n\u001b[1;32m    201\u001b[0m             completion_create_params\u001b[38;5;241m.\u001b[39mCompletionCreateParams,\n\u001b[1;32m    202\u001b[0m         ),\n\u001b[1;32m    203\u001b[0m         options\u001b[38;5;241m=\u001b[39mmake_request_options(\n\u001b[1;32m    204\u001b[0m             extra_headers\u001b[38;5;241m=\u001b[39mextra_headers, extra_query\u001b[38;5;241m=\u001b[39mextra_query, extra_body\u001b[38;5;241m=\u001b[39mextra_body, timeout\u001b[38;5;241m=\u001b[39mtimeout\n\u001b[1;32m    205\u001b[0m         ),\n\u001b[1;32m    206\u001b[0m         cast_to\u001b[38;5;241m=\u001b[39mChatCompletion,\n\u001b[1;32m    207\u001b[0m         stream\u001b[38;5;241m=\u001b[39mstream \u001b[38;5;129;01mor\u001b[39;00m \u001b[38;5;28;01mFalse\u001b[39;00m,\n\u001b[1;32m    208\u001b[0m         stream_cls\u001b[38;5;241m=\u001b[39mStream[ChatCompletionChunk],\n\u001b[1;32m    209\u001b[0m     )\n",
      "File \u001b[0;32m~/anaconda3/envs/bbank/lib/python3.11/site-packages/groq/_base_client.py:1194\u001b[0m, in \u001b[0;36mSyncAPIClient.post\u001b[0;34m(self, path, cast_to, body, options, files, stream, stream_cls)\u001b[0m\n\u001b[1;32m   1180\u001b[0m \u001b[38;5;28;01mdef\u001b[39;00m \u001b[38;5;21mpost\u001b[39m(\n\u001b[1;32m   1181\u001b[0m     \u001b[38;5;28mself\u001b[39m,\n\u001b[1;32m   1182\u001b[0m     path: \u001b[38;5;28mstr\u001b[39m,\n\u001b[0;32m   (...)\u001b[0m\n\u001b[1;32m   1189\u001b[0m     stream_cls: \u001b[38;5;28mtype\u001b[39m[_StreamT] \u001b[38;5;241m|\u001b[39m \u001b[38;5;28;01mNone\u001b[39;00m \u001b[38;5;241m=\u001b[39m \u001b[38;5;28;01mNone\u001b[39;00m,\n\u001b[1;32m   1190\u001b[0m ) \u001b[38;5;241m-\u001b[39m\u001b[38;5;241m>\u001b[39m ResponseT \u001b[38;5;241m|\u001b[39m _StreamT:\n\u001b[1;32m   1191\u001b[0m     opts \u001b[38;5;241m=\u001b[39m FinalRequestOptions\u001b[38;5;241m.\u001b[39mconstruct(\n\u001b[1;32m   1192\u001b[0m         method\u001b[38;5;241m=\u001b[39m\u001b[38;5;124m\"\u001b[39m\u001b[38;5;124mpost\u001b[39m\u001b[38;5;124m\"\u001b[39m, url\u001b[38;5;241m=\u001b[39mpath, json_data\u001b[38;5;241m=\u001b[39mbody, files\u001b[38;5;241m=\u001b[39mto_httpx_files(files), \u001b[38;5;241m*\u001b[39m\u001b[38;5;241m*\u001b[39moptions\n\u001b[1;32m   1193\u001b[0m     )\n\u001b[0;32m-> 1194\u001b[0m     \u001b[38;5;28;01mreturn\u001b[39;00m cast(ResponseT, \u001b[38;5;28mself\u001b[39m\u001b[38;5;241m.\u001b[39mrequest(cast_to, opts, stream\u001b[38;5;241m=\u001b[39mstream, stream_cls\u001b[38;5;241m=\u001b[39mstream_cls))\n",
      "File \u001b[0;32m~/anaconda3/envs/bbank/lib/python3.11/site-packages/groq/_base_client.py:896\u001b[0m, in \u001b[0;36mSyncAPIClient.request\u001b[0;34m(self, cast_to, options, remaining_retries, stream, stream_cls)\u001b[0m\n\u001b[1;32m    887\u001b[0m \u001b[38;5;28;01mdef\u001b[39;00m \u001b[38;5;21mrequest\u001b[39m(\n\u001b[1;32m    888\u001b[0m     \u001b[38;5;28mself\u001b[39m,\n\u001b[1;32m    889\u001b[0m     cast_to: Type[ResponseT],\n\u001b[0;32m   (...)\u001b[0m\n\u001b[1;32m    894\u001b[0m     stream_cls: \u001b[38;5;28mtype\u001b[39m[_StreamT] \u001b[38;5;241m|\u001b[39m \u001b[38;5;28;01mNone\u001b[39;00m \u001b[38;5;241m=\u001b[39m \u001b[38;5;28;01mNone\u001b[39;00m,\n\u001b[1;32m    895\u001b[0m ) \u001b[38;5;241m-\u001b[39m\u001b[38;5;241m>\u001b[39m ResponseT \u001b[38;5;241m|\u001b[39m _StreamT:\n\u001b[0;32m--> 896\u001b[0m     \u001b[38;5;28;01mreturn\u001b[39;00m \u001b[38;5;28mself\u001b[39m\u001b[38;5;241m.\u001b[39m_request(\n\u001b[1;32m    897\u001b[0m         cast_to\u001b[38;5;241m=\u001b[39mcast_to,\n\u001b[1;32m    898\u001b[0m         options\u001b[38;5;241m=\u001b[39moptions,\n\u001b[1;32m    899\u001b[0m         stream\u001b[38;5;241m=\u001b[39mstream,\n\u001b[1;32m    900\u001b[0m         stream_cls\u001b[38;5;241m=\u001b[39mstream_cls,\n\u001b[1;32m    901\u001b[0m         remaining_retries\u001b[38;5;241m=\u001b[39mremaining_retries,\n\u001b[1;32m    902\u001b[0m     )\n",
      "File \u001b[0;32m~/anaconda3/envs/bbank/lib/python3.11/site-packages/groq/_base_client.py:987\u001b[0m, in \u001b[0;36mSyncAPIClient._request\u001b[0;34m(self, cast_to, options, remaining_retries, stream, stream_cls)\u001b[0m\n\u001b[1;32m    984\u001b[0m         err\u001b[38;5;241m.\u001b[39mresponse\u001b[38;5;241m.\u001b[39mread()\n\u001b[1;32m    986\u001b[0m     log\u001b[38;5;241m.\u001b[39mdebug(\u001b[38;5;124m\"\u001b[39m\u001b[38;5;124mRe-raising status error\u001b[39m\u001b[38;5;124m\"\u001b[39m)\n\u001b[0;32m--> 987\u001b[0m     \u001b[38;5;28;01mraise\u001b[39;00m \u001b[38;5;28mself\u001b[39m\u001b[38;5;241m.\u001b[39m_make_status_error_from_response(err\u001b[38;5;241m.\u001b[39mresponse) \u001b[38;5;28;01mfrom\u001b[39;00m \u001b[38;5;28;01mNone\u001b[39;00m\n\u001b[1;32m    989\u001b[0m \u001b[38;5;28;01mreturn\u001b[39;00m \u001b[38;5;28mself\u001b[39m\u001b[38;5;241m.\u001b[39m_process_response(\n\u001b[1;32m    990\u001b[0m     cast_to\u001b[38;5;241m=\u001b[39mcast_to,\n\u001b[1;32m    991\u001b[0m     options\u001b[38;5;241m=\u001b[39moptions,\n\u001b[0;32m   (...)\u001b[0m\n\u001b[1;32m    994\u001b[0m     stream_cls\u001b[38;5;241m=\u001b[39mstream_cls,\n\u001b[1;32m    995\u001b[0m )\n",
      "\u001b[0;31mNotFoundError\u001b[0m: Error code: 404 - {'error': {'message': 'The model `llama3:instruct` does not exist or you do not have access to it.', 'type': 'invalid_request_error', 'code': 'model_not_found'}}"
     ]
    }
   ],
   "source": [
    "restart_llm(\"ollama\", \"gemma:instruct\", \"nomic-embed-text\", tools)\n",
    "prompt(\"Retrieve a bank statement for account 2 for the past 2 days\")"
   ]
  },
  {
   "cell_type": "code",
   "execution_count": null,
   "id": "b88566c7-0e8c-450b-9185-095f16b04731",
   "metadata": {},
   "outputs": [],
   "source": []
  }
 ],
 "metadata": {
  "kernelspec": {
   "display_name": "Python 3 (ipykernel)",
   "language": "python",
   "name": "python3"
  },
  "language_info": {
   "codemirror_mode": {
    "name": "ipython",
    "version": 3
   },
   "file_extension": ".py",
   "mimetype": "text/x-python",
   "name": "python",
   "nbconvert_exporter": "python",
   "pygments_lexer": "ipython3",
   "version": "3.11.9"
  }
 },
 "nbformat": 4,
 "nbformat_minor": 5
}
